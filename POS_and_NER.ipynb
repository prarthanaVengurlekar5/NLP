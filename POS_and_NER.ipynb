{
  "nbformat": 4,
  "nbformat_minor": 0,
  "metadata": {
    "colab": {
      "provenance": [],
      "authorship_tag": "ABX9TyM6aP/UaVazFngHl5jHb3Xv",
      "include_colab_link": true
    },
    "kernelspec": {
      "name": "python3",
      "display_name": "Python 3"
    },
    "language_info": {
      "name": "python"
    }
  },
  "cells": [
    {
      "cell_type": "markdown",
      "metadata": {
        "id": "view-in-github",
        "colab_type": "text"
      },
      "source": [
        "<a href=\"https://colab.research.google.com/github/prarthanaVengurlekar5/NLP/blob/main/POS_and_NER.ipynb\" target=\"_parent\"><img src=\"https://colab.research.google.com/assets/colab-badge.svg\" alt=\"Open In Colab\"/></a>"
      ]
    },
    {
      "cell_type": "code",
      "execution_count": null,
      "metadata": {
        "id": "AyekI1YMrfDc"
      },
      "outputs": [],
      "source": [
        "import spacy\n",
        "from spacy import displacy"
      ]
    },
    {
      "cell_type": "code",
      "source": [
        "NER=spacy.load('en_core_web_sm')"
      ],
      "metadata": {
        "id": "IOHDoxr5rsXG"
      },
      "execution_count": null,
      "outputs": []
    },
    {
      "cell_type": "code",
      "source": [
        "text=NER('I love pizza from Dominos')"
      ],
      "metadata": {
        "id": "D3dyVWf3tZPl"
      },
      "execution_count": null,
      "outputs": []
    },
    {
      "cell_type": "code",
      "source": [
        "text"
      ],
      "metadata": {
        "colab": {
          "base_uri": "https://localhost:8080/"
        },
        "id": "xXjybjn2tbQy",
        "outputId": "d0d853a2-ba74-4009-ea59-5bd1d17f33fa"
      },
      "execution_count": null,
      "outputs": [
        {
          "output_type": "execute_result",
          "data": {
            "text/plain": [
              "I love pizza from Dominos"
            ]
          },
          "metadata": {},
          "execution_count": 4
        }
      ]
    },
    {
      "cell_type": "code",
      "source": [
        "type(text)"
      ],
      "metadata": {
        "colab": {
          "base_uri": "https://localhost:8080/"
        },
        "id": "2-efDlgitdeP",
        "outputId": "f3494e3f-657b-44e2-b4d6-17fe5038ec7c"
      },
      "execution_count": null,
      "outputs": [
        {
          "output_type": "execute_result",
          "data": {
            "text/plain": [
              "spacy.tokens.doc.Doc"
            ]
          },
          "metadata": {},
          "execution_count": 5
        }
      ]
    },
    {
      "cell_type": "code",
      "source": [
        "type(text.text)"
      ],
      "metadata": {
        "colab": {
          "base_uri": "https://localhost:8080/"
        },
        "id": "r2mernNCtfd5",
        "outputId": "8c9d3223-e549-4c7f-e3fb-218412ac13d9"
      },
      "execution_count": null,
      "outputs": [
        {
          "output_type": "execute_result",
          "data": {
            "text/plain": [
              "str"
            ]
          },
          "metadata": {},
          "execution_count": 6
        }
      ]
    },
    {
      "cell_type": "code",
      "source": [
        "text.ents"
      ],
      "metadata": {
        "colab": {
          "base_uri": "https://localhost:8080/"
        },
        "id": "ba-qUAujthcE",
        "outputId": "4b903f7e-2be8-4557-a9b1-b1ba3a9a2c8f"
      },
      "execution_count": null,
      "outputs": [
        {
          "output_type": "execute_result",
          "data": {
            "text/plain": [
              "(Dominos,)"
            ]
          },
          "metadata": {},
          "execution_count": 7
        }
      ]
    },
    {
      "cell_type": "code",
      "source": [
        "s=NER('''Dunki is a 2023 Indian Hindi-language comedy drama film based on \"donkey flight\", an illegal immigration technique. Directed and edited by Rajkumar Hirani ''')"
      ],
      "metadata": {
        "id": "6bGLOeDHtkZl"
      },
      "execution_count": null,
      "outputs": []
    },
    {
      "cell_type": "code",
      "source": [
        "s.ents"
      ],
      "metadata": {
        "colab": {
          "base_uri": "https://localhost:8080/"
        },
        "id": "WuvTLCRwtnbB",
        "outputId": "150b37f0-4e72-4d81-e62d-8e6fac83a30d"
      },
      "execution_count": null,
      "outputs": [
        {
          "output_type": "execute_result",
          "data": {
            "text/plain": [
              "(Dunki, 2023, Rajkumar Hirani)"
            ]
          },
          "metadata": {},
          "execution_count": 9
        }
      ]
    },
    {
      "cell_type": "code",
      "source": [
        "s.ents[0].label_"
      ],
      "metadata": {
        "colab": {
          "base_uri": "https://localhost:8080/",
          "height": 36
        },
        "id": "lbWjmZS9tpab",
        "outputId": "3e093f90-328f-415d-cf81-6a25ef245bd4"
      },
      "execution_count": null,
      "outputs": [
        {
          "output_type": "execute_result",
          "data": {
            "text/plain": [
              "'GPE'"
            ],
            "application/vnd.google.colaboratory.intrinsic+json": {
              "type": "string"
            }
          },
          "metadata": {},
          "execution_count": 11
        }
      ]
    },
    {
      "cell_type": "code",
      "source": [
        "s.ents[1].label_"
      ],
      "metadata": {
        "colab": {
          "base_uri": "https://localhost:8080/",
          "height": 36
        },
        "id": "0I_REIY7trbg",
        "outputId": "fc5de5d3-536a-4152-b456-3627452a0544"
      },
      "execution_count": null,
      "outputs": [
        {
          "output_type": "execute_result",
          "data": {
            "text/plain": [
              "'DATE'"
            ],
            "application/vnd.google.colaboratory.intrinsic+json": {
              "type": "string"
            }
          },
          "metadata": {},
          "execution_count": 12
        }
      ]
    },
    {
      "cell_type": "code",
      "source": [
        "s.ents[2].label_"
      ],
      "metadata": {
        "colab": {
          "base_uri": "https://localhost:8080/",
          "height": 36
        },
        "id": "T1ONotRStwwn",
        "outputId": "b2a11a4f-382d-417c-bebc-b7c29444cbc4"
      },
      "execution_count": null,
      "outputs": [
        {
          "output_type": "execute_result",
          "data": {
            "text/plain": [
              "'PERSON'"
            ],
            "application/vnd.google.colaboratory.intrinsic+json": {
              "type": "string"
            }
          },
          "metadata": {},
          "execution_count": 13
        }
      ]
    },
    {
      "cell_type": "code",
      "source": [
        "spacy.explain('GPE')"
      ],
      "metadata": {
        "colab": {
          "base_uri": "https://localhost:8080/",
          "height": 36
        },
        "id": "IBn62ekftyN-",
        "outputId": "2160e490-5cec-4fe8-c54d-802450fe07a6"
      },
      "execution_count": null,
      "outputs": [
        {
          "output_type": "execute_result",
          "data": {
            "text/plain": [
              "'Countries, cities, states'"
            ],
            "application/vnd.google.colaboratory.intrinsic+json": {
              "type": "string"
            }
          },
          "metadata": {},
          "execution_count": 14
        }
      ]
    },
    {
      "cell_type": "code",
      "source": [
        "s=NER('''The film was officially announced in April 2022. Principal photography began the same month and occurred sporadically in several legs. It wrapped by late-April 2023, and filming locations included Mumbai, Jabalpur, Kashmir, Budapest, London, Jeddah and Neom. The film has music composed by Pritam, background score composed by Aman Pant, cinematography handled by C. K. Muraleedharan, Manush Nandan, Amit Roy, and editing by the director Rajkumar Hirani.\n",
        "\n",
        "Dunki was theatrically released worldwide on 21 December 2023. It received mixed reviews from critics. The film has grossed over ₹460.11 crore (US$58 million) worldwide against a production and marketing budget of ₹120 crore (US$15 million), emerging as the sixth highest-grossing Hindi film of 2023 and the ninth highest-grossing Indian film of 2023. At the 69th Filmfare Awards, the film received nine nominations, including Best Actor for Khan and Best Actress for Pannu.[5] ''')"
      ],
      "metadata": {
        "id": "ncduHzu8t07Q"
      },
      "execution_count": null,
      "outputs": []
    },
    {
      "cell_type": "code",
      "source": [
        "s.ents"
      ],
      "metadata": {
        "colab": {
          "base_uri": "https://localhost:8080/"
        },
        "id": "RgHc4GaPyEn2",
        "outputId": "b3852b73-d217-4db2-f935-b009bbe00291"
      },
      "execution_count": null,
      "outputs": [
        {
          "output_type": "execute_result",
          "data": {
            "text/plain": [
              "(April 2022,\n",
              " the same month,\n",
              " late-April 2023,\n",
              " Mumbai,\n",
              " Jabalpur,\n",
              " Budapest,\n",
              " London,\n",
              " Jeddah,\n",
              " Neom,\n",
              " Aman Pant,\n",
              " C. K. Muraleedharan,\n",
              " Manush Nandan,\n",
              " Roy,\n",
              " Rajkumar Hirani,\n",
              " Dunki,\n",
              " 21 December 2023,\n",
              " ₹,\n",
              " 460.11,\n",
              " US$58 million,\n",
              " 120,\n",
              " US$15 million,\n",
              " sixth,\n",
              " Hindi,\n",
              " 2023,\n",
              " ninth,\n",
              " Indian,\n",
              " 2023,\n",
              " 69th,\n",
              " Filmfare Awards,\n",
              " nine,\n",
              " Best Actor,\n",
              " Khan,\n",
              " Best Actress for Pannu.[5])"
            ]
          },
          "metadata": {},
          "execution_count": 16
        }
      ]
    },
    {
      "cell_type": "code",
      "source": [
        "s.ents[5].label_"
      ],
      "metadata": {
        "colab": {
          "base_uri": "https://localhost:8080/",
          "height": 36
        },
        "id": "36IU_yDbyJqv",
        "outputId": "c1b91ca4-0788-41e8-8713-1536be80d70c"
      },
      "execution_count": null,
      "outputs": [
        {
          "output_type": "execute_result",
          "data": {
            "text/plain": [
              "'GPE'"
            ],
            "application/vnd.google.colaboratory.intrinsic+json": {
              "type": "string"
            }
          },
          "metadata": {},
          "execution_count": 17
        }
      ]
    },
    {
      "cell_type": "code",
      "source": [
        "spacy.explain('GPE')"
      ],
      "metadata": {
        "colab": {
          "base_uri": "https://localhost:8080/",
          "height": 36
        },
        "id": "3yoKuAx5yRcC",
        "outputId": "87abb96e-c62e-4f02-d095-f3ec08c2cf4f"
      },
      "execution_count": null,
      "outputs": [
        {
          "output_type": "execute_result",
          "data": {
            "text/plain": [
              "'Countries, cities, states'"
            ],
            "application/vnd.google.colaboratory.intrinsic+json": {
              "type": "string"
            }
          },
          "metadata": {},
          "execution_count": 18
        }
      ]
    },
    {
      "cell_type": "code",
      "source": [
        "for i in s.ents:\n",
        "  print(i,'-------->',i.label_,'---------',spacy.explain(i.label_))"
      ],
      "metadata": {
        "id": "ZhEcK6SttIGP",
        "colab": {
          "base_uri": "https://localhost:8080/"
        },
        "outputId": "f6bed9e7-9d20-4c3d-d650-d55f435b9c5f"
      },
      "execution_count": null,
      "outputs": [
        {
          "output_type": "stream",
          "name": "stdout",
          "text": [
            "April 2022 --------> DATE --------- Absolute or relative dates or periods\n",
            "the same month --------> DATE --------- Absolute or relative dates or periods\n",
            "late-April 2023 --------> DATE --------- Absolute or relative dates or periods\n",
            "Mumbai --------> GPE --------- Countries, cities, states\n",
            "Jabalpur --------> GPE --------- Countries, cities, states\n",
            "Budapest --------> GPE --------- Countries, cities, states\n",
            "London --------> GPE --------- Countries, cities, states\n",
            "Jeddah --------> GPE --------- Countries, cities, states\n",
            "Neom --------> GPE --------- Countries, cities, states\n",
            "Aman Pant --------> PERSON --------- People, including fictional\n",
            "C. K. Muraleedharan --------> PERSON --------- People, including fictional\n",
            "Manush Nandan --------> PERSON --------- People, including fictional\n",
            "Roy --------> PERSON --------- People, including fictional\n",
            "Rajkumar Hirani --------> PERSON --------- People, including fictional\n",
            "Dunki --------> GPE --------- Countries, cities, states\n",
            "21 December 2023 --------> DATE --------- Absolute or relative dates or periods\n",
            "₹ --------> ORG --------- Companies, agencies, institutions, etc.\n",
            "460.11 --------> MONEY --------- Monetary values, including unit\n",
            "US$58 million --------> MONEY --------- Monetary values, including unit\n",
            "120 --------> MONEY --------- Monetary values, including unit\n",
            "US$15 million --------> MONEY --------- Monetary values, including unit\n",
            "sixth --------> ORDINAL --------- \"first\", \"second\", etc.\n",
            "Hindi --------> NORP --------- Nationalities or religious or political groups\n",
            "2023 --------> DATE --------- Absolute or relative dates or periods\n",
            "ninth --------> ORDINAL --------- \"first\", \"second\", etc.\n",
            "Indian --------> NORP --------- Nationalities or religious or political groups\n",
            "2023 --------> DATE --------- Absolute or relative dates or periods\n",
            "69th --------> ORDINAL --------- \"first\", \"second\", etc.\n",
            "Filmfare Awards --------> ORG --------- Companies, agencies, institutions, etc.\n",
            "nine --------> CARDINAL --------- Numerals that do not fall under another type\n",
            "Best Actor --------> WORK_OF_ART --------- Titles of books, songs, etc.\n",
            "Khan --------> PERSON --------- People, including fictional\n",
            "Best Actress for Pannu.[5] --------> ORG --------- Companies, agencies, institutions, etc.\n"
          ]
        }
      ]
    },
    {
      "cell_type": "code",
      "source": [
        "per=set()\n",
        "\n",
        "for i in s.ents:\n",
        "  if i.label_=='PERSON':\n",
        "    per.add(i)"
      ],
      "metadata": {
        "id": "As_d8F92yYbw"
      },
      "execution_count": null,
      "outputs": []
    },
    {
      "cell_type": "code",
      "source": [
        "per"
      ],
      "metadata": {
        "colab": {
          "base_uri": "https://localhost:8080/"
        },
        "id": "7Hq_C9Mgybo1",
        "outputId": "a9da93de-002b-4f64-d25b-74b3ba34c447"
      },
      "execution_count": null,
      "outputs": [
        {
          "output_type": "execute_result",
          "data": {
            "text/plain": [
              "{Aman Pant, C. K. Muraleedharan, Manush Nandan, Roy, Rajkumar Hirani, Khan}"
            ]
          },
          "metadata": {},
          "execution_count": 21
        }
      ]
    },
    {
      "cell_type": "code",
      "source": [
        "loc=set()\n",
        "\n",
        "for i in s.ents:\n",
        "  if i.label_=='GPE':\n",
        "    loc.add(i)"
      ],
      "metadata": {
        "id": "30arKftfyeL4"
      },
      "execution_count": null,
      "outputs": []
    },
    {
      "cell_type": "code",
      "source": [
        "loc"
      ],
      "metadata": {
        "colab": {
          "base_uri": "https://localhost:8080/"
        },
        "id": "YuLIw4Z4ygz3",
        "outputId": "a996a93e-cc6e-4335-ed00-2d1a1ddd5e9f"
      },
      "execution_count": null,
      "outputs": [
        {
          "output_type": "execute_result",
          "data": {
            "text/plain": [
              "{Mumbai, Jabalpur, Budapest, London, Jeddah, Neom, Dunki}"
            ]
          },
          "metadata": {},
          "execution_count": 23
        }
      ]
    },
    {
      "cell_type": "code",
      "source": [
        "displacy.render(s,style='ent',jupyter=True)"
      ],
      "metadata": {
        "id": "LbdbWictyiv-",
        "outputId": "236dad8d-98a4-45a4-9c42-fbbb2d34e74e",
        "colab": {
          "base_uri": "https://localhost:8080/",
          "height": 297
        }
      },
      "execution_count": null,
      "outputs": [
        {
          "output_type": "display_data",
          "data": {
            "text/plain": [
              "<IPython.core.display.HTML object>"
            ],
            "text/html": [
              "<span class=\"tex2jax_ignore\"><div class=\"entities\" style=\"line-height: 2.5; direction: ltr\">The film was officially announced in \n",
              "<mark class=\"entity\" style=\"background: #bfe1d9; padding: 0.45em 0.6em; margin: 0 0.25em; line-height: 1; border-radius: 0.35em;\">\n",
              "    April 2022\n",
              "    <span style=\"font-size: 0.8em; font-weight: bold; line-height: 1; border-radius: 0.35em; vertical-align: middle; margin-left: 0.5rem\">DATE</span>\n",
              "</mark>\n",
              ". Principal photography began \n",
              "<mark class=\"entity\" style=\"background: #bfe1d9; padding: 0.45em 0.6em; margin: 0 0.25em; line-height: 1; border-radius: 0.35em;\">\n",
              "    the same month\n",
              "    <span style=\"font-size: 0.8em; font-weight: bold; line-height: 1; border-radius: 0.35em; vertical-align: middle; margin-left: 0.5rem\">DATE</span>\n",
              "</mark>\n",
              " and occurred sporadically in several legs. It wrapped by \n",
              "<mark class=\"entity\" style=\"background: #bfe1d9; padding: 0.45em 0.6em; margin: 0 0.25em; line-height: 1; border-radius: 0.35em;\">\n",
              "    late-April 2023\n",
              "    <span style=\"font-size: 0.8em; font-weight: bold; line-height: 1; border-radius: 0.35em; vertical-align: middle; margin-left: 0.5rem\">DATE</span>\n",
              "</mark>\n",
              ", and filming locations included \n",
              "<mark class=\"entity\" style=\"background: #feca74; padding: 0.45em 0.6em; margin: 0 0.25em; line-height: 1; border-radius: 0.35em;\">\n",
              "    Mumbai\n",
              "    <span style=\"font-size: 0.8em; font-weight: bold; line-height: 1; border-radius: 0.35em; vertical-align: middle; margin-left: 0.5rem\">GPE</span>\n",
              "</mark>\n",
              ", \n",
              "<mark class=\"entity\" style=\"background: #feca74; padding: 0.45em 0.6em; margin: 0 0.25em; line-height: 1; border-radius: 0.35em;\">\n",
              "    Jabalpur\n",
              "    <span style=\"font-size: 0.8em; font-weight: bold; line-height: 1; border-radius: 0.35em; vertical-align: middle; margin-left: 0.5rem\">GPE</span>\n",
              "</mark>\n",
              ", Kashmir, \n",
              "<mark class=\"entity\" style=\"background: #feca74; padding: 0.45em 0.6em; margin: 0 0.25em; line-height: 1; border-radius: 0.35em;\">\n",
              "    Budapest\n",
              "    <span style=\"font-size: 0.8em; font-weight: bold; line-height: 1; border-radius: 0.35em; vertical-align: middle; margin-left: 0.5rem\">GPE</span>\n",
              "</mark>\n",
              ", \n",
              "<mark class=\"entity\" style=\"background: #feca74; padding: 0.45em 0.6em; margin: 0 0.25em; line-height: 1; border-radius: 0.35em;\">\n",
              "    London\n",
              "    <span style=\"font-size: 0.8em; font-weight: bold; line-height: 1; border-radius: 0.35em; vertical-align: middle; margin-left: 0.5rem\">GPE</span>\n",
              "</mark>\n",
              ", \n",
              "<mark class=\"entity\" style=\"background: #feca74; padding: 0.45em 0.6em; margin: 0 0.25em; line-height: 1; border-radius: 0.35em;\">\n",
              "    Jeddah\n",
              "    <span style=\"font-size: 0.8em; font-weight: bold; line-height: 1; border-radius: 0.35em; vertical-align: middle; margin-left: 0.5rem\">GPE</span>\n",
              "</mark>\n",
              " and \n",
              "<mark class=\"entity\" style=\"background: #feca74; padding: 0.45em 0.6em; margin: 0 0.25em; line-height: 1; border-radius: 0.35em;\">\n",
              "    Neom\n",
              "    <span style=\"font-size: 0.8em; font-weight: bold; line-height: 1; border-radius: 0.35em; vertical-align: middle; margin-left: 0.5rem\">GPE</span>\n",
              "</mark>\n",
              ". The film has music composed by Pritam, background score composed by \n",
              "<mark class=\"entity\" style=\"background: #aa9cfc; padding: 0.45em 0.6em; margin: 0 0.25em; line-height: 1; border-radius: 0.35em;\">\n",
              "    Aman Pant\n",
              "    <span style=\"font-size: 0.8em; font-weight: bold; line-height: 1; border-radius: 0.35em; vertical-align: middle; margin-left: 0.5rem\">PERSON</span>\n",
              "</mark>\n",
              ", cinematography handled by \n",
              "<mark class=\"entity\" style=\"background: #aa9cfc; padding: 0.45em 0.6em; margin: 0 0.25em; line-height: 1; border-radius: 0.35em;\">\n",
              "    C. K. Muraleedharan\n",
              "    <span style=\"font-size: 0.8em; font-weight: bold; line-height: 1; border-radius: 0.35em; vertical-align: middle; margin-left: 0.5rem\">PERSON</span>\n",
              "</mark>\n",
              ", \n",
              "<mark class=\"entity\" style=\"background: #aa9cfc; padding: 0.45em 0.6em; margin: 0 0.25em; line-height: 1; border-radius: 0.35em;\">\n",
              "    Manush Nandan\n",
              "    <span style=\"font-size: 0.8em; font-weight: bold; line-height: 1; border-radius: 0.35em; vertical-align: middle; margin-left: 0.5rem\">PERSON</span>\n",
              "</mark>\n",
              ", Amit \n",
              "<mark class=\"entity\" style=\"background: #aa9cfc; padding: 0.45em 0.6em; margin: 0 0.25em; line-height: 1; border-radius: 0.35em;\">\n",
              "    Roy\n",
              "    <span style=\"font-size: 0.8em; font-weight: bold; line-height: 1; border-radius: 0.35em; vertical-align: middle; margin-left: 0.5rem\">PERSON</span>\n",
              "</mark>\n",
              ", and editing by the director \n",
              "<mark class=\"entity\" style=\"background: #aa9cfc; padding: 0.45em 0.6em; margin: 0 0.25em; line-height: 1; border-radius: 0.35em;\">\n",
              "    Rajkumar Hirani\n",
              "    <span style=\"font-size: 0.8em; font-weight: bold; line-height: 1; border-radius: 0.35em; vertical-align: middle; margin-left: 0.5rem\">PERSON</span>\n",
              "</mark>\n",
              ".<br><br>\n",
              "<mark class=\"entity\" style=\"background: #feca74; padding: 0.45em 0.6em; margin: 0 0.25em; line-height: 1; border-radius: 0.35em;\">\n",
              "    Dunki\n",
              "    <span style=\"font-size: 0.8em; font-weight: bold; line-height: 1; border-radius: 0.35em; vertical-align: middle; margin-left: 0.5rem\">GPE</span>\n",
              "</mark>\n",
              " was theatrically released worldwide on \n",
              "<mark class=\"entity\" style=\"background: #bfe1d9; padding: 0.45em 0.6em; margin: 0 0.25em; line-height: 1; border-radius: 0.35em;\">\n",
              "    21 December 2023\n",
              "    <span style=\"font-size: 0.8em; font-weight: bold; line-height: 1; border-radius: 0.35em; vertical-align: middle; margin-left: 0.5rem\">DATE</span>\n",
              "</mark>\n",
              ". It received mixed reviews from critics. The film has grossed over \n",
              "<mark class=\"entity\" style=\"background: #7aecec; padding: 0.45em 0.6em; margin: 0 0.25em; line-height: 1; border-radius: 0.35em;\">\n",
              "    ₹\n",
              "    <span style=\"font-size: 0.8em; font-weight: bold; line-height: 1; border-radius: 0.35em; vertical-align: middle; margin-left: 0.5rem\">ORG</span>\n",
              "</mark>\n",
              "\n",
              "<mark class=\"entity\" style=\"background: #e4e7d2; padding: 0.45em 0.6em; margin: 0 0.25em; line-height: 1; border-radius: 0.35em;\">\n",
              "    460.11\n",
              "    <span style=\"font-size: 0.8em; font-weight: bold; line-height: 1; border-radius: 0.35em; vertical-align: middle; margin-left: 0.5rem\">MONEY</span>\n",
              "</mark>\n",
              " crore (\n",
              "<mark class=\"entity\" style=\"background: #e4e7d2; padding: 0.45em 0.6em; margin: 0 0.25em; line-height: 1; border-radius: 0.35em;\">\n",
              "    US$58 million\n",
              "    <span style=\"font-size: 0.8em; font-weight: bold; line-height: 1; border-radius: 0.35em; vertical-align: middle; margin-left: 0.5rem\">MONEY</span>\n",
              "</mark>\n",
              ") worldwide against a production and marketing budget of ₹\n",
              "<mark class=\"entity\" style=\"background: #e4e7d2; padding: 0.45em 0.6em; margin: 0 0.25em; line-height: 1; border-radius: 0.35em;\">\n",
              "    120\n",
              "    <span style=\"font-size: 0.8em; font-weight: bold; line-height: 1; border-radius: 0.35em; vertical-align: middle; margin-left: 0.5rem\">MONEY</span>\n",
              "</mark>\n",
              " crore (\n",
              "<mark class=\"entity\" style=\"background: #e4e7d2; padding: 0.45em 0.6em; margin: 0 0.25em; line-height: 1; border-radius: 0.35em;\">\n",
              "    US$15 million\n",
              "    <span style=\"font-size: 0.8em; font-weight: bold; line-height: 1; border-radius: 0.35em; vertical-align: middle; margin-left: 0.5rem\">MONEY</span>\n",
              "</mark>\n",
              "), emerging as the \n",
              "<mark class=\"entity\" style=\"background: #e4e7d2; padding: 0.45em 0.6em; margin: 0 0.25em; line-height: 1; border-radius: 0.35em;\">\n",
              "    sixth\n",
              "    <span style=\"font-size: 0.8em; font-weight: bold; line-height: 1; border-radius: 0.35em; vertical-align: middle; margin-left: 0.5rem\">ORDINAL</span>\n",
              "</mark>\n",
              " highest-grossing \n",
              "<mark class=\"entity\" style=\"background: #c887fb; padding: 0.45em 0.6em; margin: 0 0.25em; line-height: 1; border-radius: 0.35em;\">\n",
              "    Hindi\n",
              "    <span style=\"font-size: 0.8em; font-weight: bold; line-height: 1; border-radius: 0.35em; vertical-align: middle; margin-left: 0.5rem\">NORP</span>\n",
              "</mark>\n",
              " film of \n",
              "<mark class=\"entity\" style=\"background: #bfe1d9; padding: 0.45em 0.6em; margin: 0 0.25em; line-height: 1; border-radius: 0.35em;\">\n",
              "    2023\n",
              "    <span style=\"font-size: 0.8em; font-weight: bold; line-height: 1; border-radius: 0.35em; vertical-align: middle; margin-left: 0.5rem\">DATE</span>\n",
              "</mark>\n",
              " and the \n",
              "<mark class=\"entity\" style=\"background: #e4e7d2; padding: 0.45em 0.6em; margin: 0 0.25em; line-height: 1; border-radius: 0.35em;\">\n",
              "    ninth\n",
              "    <span style=\"font-size: 0.8em; font-weight: bold; line-height: 1; border-radius: 0.35em; vertical-align: middle; margin-left: 0.5rem\">ORDINAL</span>\n",
              "</mark>\n",
              " highest-grossing \n",
              "<mark class=\"entity\" style=\"background: #c887fb; padding: 0.45em 0.6em; margin: 0 0.25em; line-height: 1; border-radius: 0.35em;\">\n",
              "    Indian\n",
              "    <span style=\"font-size: 0.8em; font-weight: bold; line-height: 1; border-radius: 0.35em; vertical-align: middle; margin-left: 0.5rem\">NORP</span>\n",
              "</mark>\n",
              " film of \n",
              "<mark class=\"entity\" style=\"background: #bfe1d9; padding: 0.45em 0.6em; margin: 0 0.25em; line-height: 1; border-radius: 0.35em;\">\n",
              "    2023\n",
              "    <span style=\"font-size: 0.8em; font-weight: bold; line-height: 1; border-radius: 0.35em; vertical-align: middle; margin-left: 0.5rem\">DATE</span>\n",
              "</mark>\n",
              ". At the \n",
              "<mark class=\"entity\" style=\"background: #e4e7d2; padding: 0.45em 0.6em; margin: 0 0.25em; line-height: 1; border-radius: 0.35em;\">\n",
              "    69th\n",
              "    <span style=\"font-size: 0.8em; font-weight: bold; line-height: 1; border-radius: 0.35em; vertical-align: middle; margin-left: 0.5rem\">ORDINAL</span>\n",
              "</mark>\n",
              " \n",
              "<mark class=\"entity\" style=\"background: #7aecec; padding: 0.45em 0.6em; margin: 0 0.25em; line-height: 1; border-radius: 0.35em;\">\n",
              "    Filmfare Awards\n",
              "    <span style=\"font-size: 0.8em; font-weight: bold; line-height: 1; border-radius: 0.35em; vertical-align: middle; margin-left: 0.5rem\">ORG</span>\n",
              "</mark>\n",
              ", the film received \n",
              "<mark class=\"entity\" style=\"background: #e4e7d2; padding: 0.45em 0.6em; margin: 0 0.25em; line-height: 1; border-radius: 0.35em;\">\n",
              "    nine\n",
              "    <span style=\"font-size: 0.8em; font-weight: bold; line-height: 1; border-radius: 0.35em; vertical-align: middle; margin-left: 0.5rem\">CARDINAL</span>\n",
              "</mark>\n",
              " nominations, including \n",
              "<mark class=\"entity\" style=\"background: #f0d0ff; padding: 0.45em 0.6em; margin: 0 0.25em; line-height: 1; border-radius: 0.35em;\">\n",
              "    Best Actor\n",
              "    <span style=\"font-size: 0.8em; font-weight: bold; line-height: 1; border-radius: 0.35em; vertical-align: middle; margin-left: 0.5rem\">WORK_OF_ART</span>\n",
              "</mark>\n",
              " for \n",
              "<mark class=\"entity\" style=\"background: #aa9cfc; padding: 0.45em 0.6em; margin: 0 0.25em; line-height: 1; border-radius: 0.35em;\">\n",
              "    Khan\n",
              "    <span style=\"font-size: 0.8em; font-weight: bold; line-height: 1; border-radius: 0.35em; vertical-align: middle; margin-left: 0.5rem\">PERSON</span>\n",
              "</mark>\n",
              " and \n",
              "<mark class=\"entity\" style=\"background: #7aecec; padding: 0.45em 0.6em; margin: 0 0.25em; line-height: 1; border-radius: 0.35em;\">\n",
              "    Best Actress for Pannu.[5]\n",
              "    <span style=\"font-size: 0.8em; font-weight: bold; line-height: 1; border-radius: 0.35em; vertical-align: middle; margin-left: 0.5rem\">ORG</span>\n",
              "</mark>\n",
              " </div></span>"
            ]
          },
          "metadata": {}
        }
      ]
    },
    {
      "cell_type": "code",
      "source": [
        "url='https://www.zeebiz.com/trending/entertainment/news-salaar-part-1-ceasefire-vs-dunki-box-office-collection-christmas-day-prabhas-action-thriller-crosses-rs-250-crore-mark-way-ahead-of-srk-dunki-story-imdb-rating-cast-269976'"
      ],
      "metadata": {
        "id": "5_wTX4u7ylq1"
      },
      "execution_count": null,
      "outputs": []
    },
    {
      "cell_type": "code",
      "source": [
        "from bs4 import BeautifulSoup\n",
        "import requests\n",
        "import re"
      ],
      "metadata": {
        "id": "S4QhOSny1zgS"
      },
      "execution_count": null,
      "outputs": []
    },
    {
      "cell_type": "code",
      "source": [
        "html_content=requests.get(url).text"
      ],
      "metadata": {
        "id": "pjTWOOnQ11rn"
      },
      "execution_count": null,
      "outputs": []
    },
    {
      "cell_type": "code",
      "source": [
        "html_content"
      ],
      "metadata": {
        "colab": {
          "base_uri": "https://localhost:8080/",
          "height": 123
        },
        "id": "nVl8tJdZ14KZ",
        "outputId": "3405b22d-f507-436b-f1ae-f1562d33a470"
      },
      "execution_count": null,
      "outputs": [
        {
          "output_type": "execute_result",
          "data": {
            "text/plain": [
              "'<!DOCTYPE html>\\n<html>\\n<head>\\n  <!-- <script src=\"https://www.googletagservices.com/tag/js/gpt.js\"></script> -->\\n  <link rel=\"shortcut icon\" href=\"https://cdn.zeebiz.com/html/images/zeebizlogo_favico_32x32.png\" type=\"image/vnd.microsoft.icon\" />\\n  <link rel=\"preconnect\" href=\"https://bcp.crwdcntrl.net\" /><link rel=\"preconnect\" href=\"https://bcp.crwdcntrl.net\" />\\n    <link rel=\"dns-prefetch\" href=\"https://tags.crwdcntrl.net\" /><link rel=\"dns-prefetch\" href=\"https://bcp.crwdcntrl.net\" />\\n    <link href=\"//cdn.taboola.com\" rel=\"preconnect\" /><link href=\"//cdn.taboola.com\" rel=\"dns-prefetch\" />\\n    <link href=\"//tags.crwdcntrl.net\" rel=\"preconnect\" /><link href=\"//tags.crwdcntrl.net\" rel=\"dns-prefetch\" />\\n    <link href=\"//cdn.izooto.com\" rel=\"preconnect\" /><link href=\"//cdn.izooto.com\" rel=\"dns-prefetch\" />\\n    <link href=\"//www.googletagmanager.com\" rel=\"preconnect\" /><link href=\"//www.googletagmanager.com\" rel=\"dns-prefetch\" />\\n    <link href=\"//sb.scorecardresearch.com\" rel=\"preconnect\" /><link href=\"//sb.scorecardresearch.com\" rel=\"dns-prefetch\" />\\n  <link rel=\"preconnect\" href=\"https://cdn5.ezmall.com\"></link><link rel=\"dns-prefetch\" href=\"https://cdn5.ezmall.com/\"></link>\\n\\n  <script>window._taboola = window._taboola || [];_taboola.push({article:\"auto\"});!(function (e, f, u, i) {if (!document.getElementById(i)) {e.async = 1;e.src = u;e.id = i;f.parentNode.insertBefore(e, f);}\\n    })( document.createElement(\"script\"), document.getElementsByTagName(\"script\")[0],\\n  \"//cdn.taboola.com/libtrc/zeemedia-zeebizcom/loader.js\",\\n  \"tb_loader_script\"\\n  );\\n  if (window.performance && typeof window.performance.mark == \"function\") {\\n    window.performance.mark(\"tbl_ic\");\\n  }\\n</script>\\n\\n      <!-- OpwenWrap Script begins here -->\\n      <script type=\"text/javascript\">\\n\\t\\t\\tvar PWT = {};\\n\\t\\t\\tvar googletag = googletag || {};\\n\\t\\t\\tgoogletag.cmd = googletag.cmd || [];\\n\\t\\t\\tvar gptRan = false;\\n\\t\\t\\tPWT.jsLoaded = function () {\\n\\t\\t\\t\\t\\tloadGpt();\\n\\t\\t\\t};\\n\\t\\t\\t(function() {\\n\\t\\t\\t\\tvar purl = window.location.href;\\n\\t\\t\\t\\tvar url = \\'//ads.pubmatic.com/AdServer/js/pwt/158141/1400\\';\\n\\t\\t\\t\\tvar profileVersionId = \\'\\';\\n\\t\\t\\t\\tif (purl.indexOf(\\'pwtv=\\') > 0) {\\n\\t\\t\\t\\t\\t\\tvar regexp = /pwtv=(.*?)(&|$)/g;\\n\\t\\t\\t\\t\\t\\tvar matches = regexp.exec(purl);\\n\\t\\t\\t\\t\\t\\tif (matches.length >= 2 && matches[1].length > 0) {\\n\\t\\t\\t\\t\\t\\t\\t\\tprofileVersionId = \\'/\\' + matches[1];\\n\\t\\t\\t\\t\\t\\t}\\n\\t\\t\\t\\t}\\n\\t\\t\\t\\tvar wtads = document.createElement(\\'script\\');\\n\\t\\t\\t\\twtads.async = true;\\n\\t\\t\\t\\twtads.type = \\'text/javascript\\';\\n\\t\\t\\t\\twtads.src = url + profileVersionId + \\'/pwt.js\\';\\n\\t\\t\\t\\tvar node = document.getElementsByTagName(\\'script\\')[0];\\n\\t\\t\\t\\tnode.parentNode.insertBefore(wtads, node);\\n\\t\\t\\t})();\\n\\t\\t\\tvar loadGpt = function () {\\n\\t\\t\\t\\t// Check the gptRan flag\\n\\t\\t\\t\\tif (!gptRan) {\\n\\t\\t\\t\\t\\t\\tgptRan = true;\\n\\t\\t\\t\\t\\t\\tvar gads = document.createElement(\\'script\\');\\n\\t\\t\\t\\t\\t\\tvar useSSL = \\'https:\\' == document.location.protocol;\\n\\t\\t\\t\\t\\t\\tgads.src = (useSSL ? \\'https:\\' : \\'http:\\') + \\'//securepubads.g.doubleclick.net/tag/js/gpt.js\\';\\n\\t\\t\\t\\t\\t\\tvar node = document.getElementsByTagName(\\'script\\')[0];\\n\\t\\t\\t\\t\\t\\tnode.parentNode.insertBefore(gads, node);\\n\\t\\t\\t\\t}\\n\\t\\t\\t}\\n\\t\\t\\t// Failsafe to call gpt\\n\\t\\t\\tsetTimeout(loadGpt, 500);\\n\\t\\t\\tfunction initAdserver(forced) {\\n\\t\\t\\t\\tif((forced === true && window.initAdserverFlag !== true) || (PWT.a9_BidsReceived && PWT.ow_BidsReceived)){\\n\\t\\t\\t\\t\\t\\twindow.initAdserverFlag = true;\\n\\t\\t\\t\\t\\t\\tPWT.a9_BidsReceived = PWT.ow_BidsReceived = false;\\n\\t\\t\\t\\t\\t\\tgoogletag.pubads().refresh();\\n\\t\\t\\t\\t}\\n\\t\\t\\t}\\n\\t  </script>\\n  <title>Salaar Part 1: Ceasefire Day 4 collection: Prabhas starrer action-thriller crosses Rs 250 crore mark, way ahead of SRK\\'s Dunki | Check Details | Zee Business</title>        <link rel=\"canonical\" href=\"https://www.zeebiz.com/trending/entertainment/news-salaar-part-1-ceasefire-vs-dunki-box-office-collection-christmas-day-prabhas-action-thriller-crosses-rs-250-crore-mark-way-ahead-of-srk-dunki-story-imdb-rating-cast-269976\"/>\\n        <!-- pubmatic code for articlepage -->\\n        <!-- A9 Script Start -->\\n    <script>\\n     !function(a9,a,p,s,t,A,g){if(a[a9])return;function q(c,r){a[a9]._Q.push([c,r])}a[a9]={init:function(){q(\"i\",arguments)},fetchBids:function(){q(\"f\",arguments)},setDisplayBids:function(){},_Q:[]};A=p.createElement(s);A.async=!0;A.src=t;g=p.getElementsByTagName(s)[0];g.parentNode.insertBefore(A,g)}(\"apstag\",window,document,\"script\",\"//c.amazon-adsystem.com/aax2/apstag.js\");\\n      apstag.init({\\n        pubID: \\'a17c03c1-eb0c-4671-8a5d-3cb93c8ca58e\\',\\n        adServer: \\'googletag\\'\\n\\t\\t\\t});\\n     apstag.fetchBids({\\n         slots: [{\\n             slotID: \\'div-gpt-ad-1456225340086-0\\',\\n             sizes: [[728, 90], [970, 90]]         },\\n                          {\\n             slotID: \\'div-gpt-ad-1456225340086-2\\',\\n             sizes: [[300, 250]]         },\\n         \\t\\t\\t\\t \\t\\t\\t\\t{\\n             slotID: \\'div-gpt-ad-1456225340086-3\\',\\n             sizes: [[300, 250]]         }\\t\\t\\t\\t \\t\\t\\t\\t                 \\t\\t\\t\\t ,\\n\\t\\t\\t\\t{\\n             slotID: \\'div-gpt-ad-outofpage\\',\\n             sizes: [1, 1]         }\\t\\t\\t\\t \\t\\t\\t\\t ,\\n\\t\\t\\t\\t{\\n             slotID: \\'div-gpt-ad-AS-Inarticle-1\\',\\n             sizes: [300, 250]         }\\t\\t\\t\\t \\t\\t\\t\\t ,\\n\\t\\t\\t\\t{\\n             slotID: \\'div-gpt-ad-AS-Inarticle-2\\',\\n             sizes: [300, 250]         }\\t\\t\\t\\t \\t\\t\\t\\t ],\\n         timeout: 1000 // Make Sure this timeout is less than or equal to OpenWrap TimeOut\\n     }, function(bids) {\\n         googletag.cmd.push(function(){\\n             apstag.setDisplayBids();\\n             PWT.a9_BidsReceived = true;\\n             initAdserver(false);\\n         });\\n     });\\n    </script>\\n    <!-- A9 Script End -->\\n        <script type=\\'text/javascript\\'>\\n\\n          googletag.cmd.push(function() {\\n\\n            /*News Details*/\\n                          googletag.defineSlot(\\'/11440465/Zeebiz_Web/Zeebiz_AS_ATF_970x90\\', [[728, 90], [970, 90]], \\'div-gpt-ad-1456225340086-0\\').addService(googletag.pubads());\\n\\n              googletag.defineSlot(\\'/11440465/Zeebiz_Web/Zeebiz_AS_ATF_300x250\\', [[300, 250]], \\'div-gpt-ad-1456225340086-2\\').addService(googletag.pubads());\\n\\n              googletag.defineSlot(\\'/11440465/Zeebiz_Web/Zeebiz_AS_BTF_1_300x250\\', [[300, 250]], \\'div-gpt-ad-1456225340086-3\\').addService(googletag.pubads());\\n\\n              googletag.defineSlot(\\'/11440465/Zeebiz_Web/Zeebiz_AS_OOP_1x1\\', [1, 1], \\'div-gpt-ad-outofpage\\').addService(googletag.pubads());\\n\\n            \\n            googletag.pubads().setTargeting(\\'category\\', [\"article\",\"Trending\",\"Entertainment\",\"Salaar Part 1: Ceasefire\",\"Box Office\"]);\\n            googletag.pubads().enableLazyLoad({ fetchMarginPercent: 50, renderMarginPercent: 50, mobileScaling: 2.0 });\\n            googletag.pubads().disableInitialLoad();\\n            //googletag.pubads().enableSingleRequest();\\n            googletag.pubads().collapseEmptyDivs();\\n            googletag.pubads().setPublisherProvidedId(\"5786dc93-6ace-4e4b-8ac0-04aa1851b05b\");\\n            googletag.enableServices();\\n          \\t// OpenWrap code START here\\n              if(typeof PWT.requestBids === \\'function\\'){\\n                PWT.requestBids(\\n                    PWT.generateConfForGPT(googletag.pubads().getSlots()),\\n                    function(adUnitsArray) {\\n                        PWT.addKeyValuePairsToGPTSlots(adUnitsArray);\\n                        PWT.ow_BidsReceived = true;\\n                        initAdserver(false);\\n                    }\\n                );\\n              }\\n              // No need to handle \"else\" part as we have A9 wrapper on page\\n              // OpenWrap code END here\\n\\t\\t\\t\\t\\t    var FAILSAFE_TIMEOUT = 1000; // this timeout should be more than OpenWrap and A9 timeout\\n\\t\\t\\t\\t\\t    setTimeout(function() {\\n\\t\\t\\t\\t\\t\\t\\tinitAdserver(true); // calling this function with forced mode set to true so that GPT API is always executed\\n\\t\\t\\t\\t\\t    }, FAILSAFE_TIMEOUT);\\n          });\\n        </script>\\n      \\n<meta charset=\"utf-8\">\\n<meta http-equiv=\"X-UA-Compatible\" content=\"IE=edge\">\\n<meta name=\"viewport\" content=\"width=device-width, initial-scale=1\">\\n<link rel=\"stylesheet\" href=\"https://cdn.zeebiz.com/html/css/bootstrap.min.css\" />\\n<link rel=\"stylesheet\" href=\"https://cdn.zeebiz.com/html/css/reset.css\" type=\"text/css\" />\\n<link rel=\"stylesheet\" href=\"https://cdnjs.cloudflare.com/ajax/libs/bxslider/4.2.12/jquery.bxslider.css\" />\\n<link rel=\"stylesheet\" href=\"https://cdn.zeebiz.com/html/css/budget18.css\" type=\"text/css\" />\\n<link rel=\"stylesheet\" href=\"https://cdn.zeebiz.com/html/css/zeebiz-ghnew.css?v=1\" type=\"text/css\" />\\n<link rel=\"stylesheet\" href=\"https://cdn.zeebiz.com/html/css/style-nav.css?v=1\" type=\"text/css\" />\\n<link href=\\'https://fonts.googleapis.com/css?family=Raleway:400,700,600,800\\' rel=\\'stylesheet\\' type=\\'text/css\\' />\\n<meta property=\"fb:pages\" content=\"124381220907057\" />\\n\\n<meta name=\"verify-v1\" content=\"90soTS2GMMKllaVY8vtJNQKzGSgcoEhkVtoFlmAwpOw=\" />\\n<link rel=\"preconnect\" href=\"https://tags.crwdcntrl.net\" />\\n<link rel=\"preconnect\" href=\"https://bcp.crwdcntrl.net\" />\\n<link rel=\"dns-prefetch\" href=\"https://tags.crwdcntrl.net\" />\\n<link rel=\"dns-prefetch\" href=\"https://bcp.crwdcntrl.net\" />\\n<link http-equiv=\"x-dns-prefetch-control\" content=\"on\" />\\n<link rel=\"dns-prefetch\" href=\"//cdn.zeebiz.com\" />\\n<!--[if IE 9]>\\n<link rel=\"prefetch\" href=\"//cdn.zeebiz.com\" />\\n<![endif]-->\\n<link rel=\"amphtml\" href=\"https://www.zeebiz.com/trending/entertainment/news-salaar-part-1-ceasefire-vs-dunki-box-office-collection-christmas-day-prabhas-action-thriller-crosses-rs-250-crore-mark-way-ahead-of-srk-dunki-story-imdb-rating-cast-269976/amp\" />\\n<script type=\"application/ld+json\">\\n {\\n\\n\\n  \"@context\": \"https://schema.org\",\\n  \"@type\": \"NewsArticle\",\\n  \"keywords\":\"entertainment,Salaar Part 1: Ceasefire,Box Office,Box Office,Entertainment News, Business News, Zee Business\",\\n  \"description\": \"Salaar Part 1: Ceasefire\\xa0Box Office Collection Day 4:\\xa0Shah Rukh Khan starrer film Dunki earned a decent amount on Day 5 at the domestic box office. However, compared to the Christmas Day collections of both movies, SRKs film is far behind Salaar.\\n\",\\n  \"datePublished\": \"2023-12-26T17:21:30+05:30\",\\n  \"articleSection\": \"Entertainment\",\\n  \"url\": \"https://www.zeebiz.com/trending/entertainment/news-salaar-part-1-ceasefire-vs-dunki-box-office-collection-christmas-day-prabhas-action-thriller-crosses-rs-250-crore-mark-way-ahead-of-srk-dunki-story-imdb-rating-cast-269976\",\\n  \"mainEntityOfPage\": \"https://www.zeebiz.com/trending/entertainment/news-salaar-part-1-ceasefire-vs-dunki-box-office-collection-christmas-day-prabhas-action-thriller-crosses-rs-250-crore-mark-way-ahead-of-srk-dunki-story-imdb-rating-cast-269976\",\\n  \"headline\": \"Salaar Part 1: Ceasefire Day 4 collection: Prabhas starrer action-thriller crosses Rs 250 crore mark, way ahead of SRK&#039;s Dunki | Check Details\",\\n  \"dateModified\": \"2023-12-26T17:26:37+05:30\",\\n  \"articleBody\": \"Salaar Part 1: Ceasefire\\xa0Box Office Collection Day 4: Prabhas starrer action-thriller Salaar Part 1: Ceasefire is making big bucks at the domestic box office as the film has minted more than Rs 260 crore in just four days. Directed by Prashanth Neel of KGF 2 fame, the movie hit screens on Friday, December 22, in the Telugu, Kannada, Tamil, Malayalam, and Hindi languages. \\xa0 Produced by Hombale Films (the same company that is behind the KGF franchise), the movie grossed Rs 46.3 crore on Monday (the fourth day). This took the total collection of Salaar Part 1: Ceasefire to Rs 262.90 crore (India Net Collection) at the domestic box office, as per the data shared by trade tracker Sacnilk. \\xa0 The film is the first collaboration between KGF director Neel and Baahubali actor Prabhas.  Salaar Vs Dunki Box Office Collection: Christmas Clash (Monday) Shah Rukh Khan starrer film Dunki earned a decent amount on Day 5 at the domestic box office, which is Rs 22.5 crore (approximately). However, compared to the Christmas Day collections of both movies, SRKs film is far behind Salaar. \\xa0 In terms of numbers, Prabhas film earned more than double that of SRKs Dunki at the domestic box office on Monday, i.e., Rs 46.3 crore, according to Sacknilk data. Salaar Part 1: Ceasefire Box Office Collection Day 1 According to industry tracker Sacnilk, the movie earned Rs 90.7 crore on the opening day in the domestic box office. Salaar: Part-1 Ceasefire - Trailer  Salaar Part 1: Ceasefire: Day-Wise Collection So Far Day 1 [1st Friday] - Rs 90.7 crore Day 2 [1st Saturday] - Rs 56.35 crore Day 3 [1st Sunday] - Rs 62.05 crore Day 4 [1st Monday] - Rs 46.3 crore Day 5 [1st Tuesday] - Rs 7.5 crore (estimated so far) Total - Rs 262.9 crore About Salaar Part 1: Ceasefire The story of the movie revolves around a gang leader who tries to keep a promise made to his dying friend and takes on criminal gangs. Salaar: Part-1 Ceasefire - Cast Besides Prabhas, the film also stars Prithviraj Sukumaran and Shruti Haasan in prominent roles. The action-drama also features Tinnu Anand, Jagapathi Babu, Madhu Guruswamy, and others. Salaar: Part-1 Ceasefire - IMDb Rating The IMDB rating of the film is 6.9 out of 10. \",\\n  \"publisher\": {\\n    \"@type\": \"Organization\",\\n    \"name\": \"Zee Business\",\\n    \"logo\": {\\n      \"@type\": \"ImageObject\",\\n      \"url\": \"https://cdn.zeebiz.com/html/images/zeebiz.png\",\\n      \"width\": 600,\\n      \"height\": 60\\n    }\\n    },\\n    \"author\": {\\n      \"@type\": \"Person\",\\n      \"name\": \"Priya Vishwakarma\"\\n      },\\n      \"image\": {\\n        \"@type\": \"ImageObject\",\\n        \"url\": \"https://cdn.zeebiz.com/sites/default/files/2023/12/26/274217-salaar-twitter.jpg\",\\n        \"height\":\"478\",\\n        \"width\":\"850\"\\n      }\\n    }\\n    </script><script type=\"text/javascript\" async src=\"https://tags.crwdcntrl.net/c/12844/cc.js?ns=_cc12844\" id=\"LOTCC_12844\"></script>\\n  <script type=\"text/javascript\" language=\"javascript\">\\n  window.onload = function callbcp() {\\n   try{\\n    _cc12844.add(\"int\",\"site:zeebiz.com\");\\n    _cc12844.add(\"seg\",\"Entertainment\");\\n    _cc12844.add(\"int\",\"entertainment\");\\n_cc12844.add(\"int\",\"Salaar Part 1: Ceasefire\");\\n_cc12844.add(\"int\",\"Box Office\");\\n\\n    _cc12844.bcpf();\\n  }\\n  catch(err) {\\n    console.log(err.message);\\n  }\\n}</script>\\n<script async src=\\'https://www.googletagmanager.com/gtag/js?id=UA-75361766-1\\'></script>\\n<script>\\n\\twindow.dataLayer = window.dataLayer || [];\\n\\tfunction gtag(){dataLayer.push(arguments);}\\n\\tgtag(\\'js\\', new Date());\\ngtag(\\'set\\', {\\'dimension1\\': \\'Priya Vishwakarma\\'});\\ngtag(\\'set\\', {\\'dimension2\\': \\'Priya Vishwakarma\\'});\\ngtag(\\'set\\', {\\'dimension3\\': \\'Shaghil Bilali\\'});\\ngtag(\\'set\\', {\\'dimension4\\': \\'Entertainment\\'});\\ngtag(\\'set\\', {\\'dimension5\\': \\'26-December-2023\\'});\\ngtag(\\'set\\', {\\'dimension6\\': \\'https://www.zeebiz.com/trending/entertainment/news-salaar-part-1-ceasefire-vs-dunki-box-office-collection-christmas-day-prabhas-action-thriller-crosses-rs-250-crore-mark-way-ahead-of-srk-dunki-story-imdb-rating-cast-269976\\'});\\ngtag(\\'set\\', {\\'dimension7\\': \\'entertainment\\'});\\ngtag(\\'set\\', {\\'dimension8\\': \\'269976\\'});\\ngtag(\\'config\\', \\'UA-75361766-1\\');\\n\\t</script>\\n<meta name=\"news_keywords\" content=\"entertainment,Salaar Part 1: Ceasefire,Box Office\" />\\n<meta name=\"robots\" content=\"max-image-preview:large\" />\\n<meta name=\"description\" content=\"Salaar Part 1: Ceasefire Box Office Collection Day 4: Shah Rukh Khan starrer film Dunki earned a decent amount on Day 5 at the domestic box office. However, compared to the Christmas Day collections of both movies, SRK&#039;s film is far behind Salaar. Get more Entertainment News and Business News on Zee Business.\" />\\n<meta name=\"keywords\" content=\"entertainment, Salaar Part 1: Ceasefire, Prabhas, Prabhas movie, Prabhas new movie, Prabhas salaar, Prabhas movie salaar, salaar box office collection, salaar cast, salaar rating, salaar story, Box Office, Salaar, Box Office collection, News, Business News, Zee Business\" />\\n<meta property=\"og:type\" content=\"article\" />\\n<meta property=\"og:site_name\" content=\"Zee Business\" />\\n<meta property=\"og:title\" content=\"Salaar Part 1: Ceasefire Day 4 collection: Prabhas starrer action-thriller crosses Rs 250 crore mark, way ahead of SRK&#039;s Dunki | Check Details\" />\\n<meta property=\"og:url\" content=\"https://www.zeebiz.com/trending/entertainment/news-salaar-part-1-ceasefire-vs-dunki-box-office-collection-christmas-day-prabhas-action-thriller-crosses-rs-250-crore-mark-way-ahead-of-srk-dunki-story-imdb-rating-cast-269976\" />\\n<meta property=\"og:description\" content=\"Salaar Part 1: Ceasefire Box Office Collection Day 4: Shah Rukh Khan starrer film Dunki earned a decent amount on Day 5 at the domestic box office. However, compared to the Christmas Day collections of both movies, SRK&#039;s film is far behind Salaar.\" />\\n<meta property=\"og:updated_time\" content=\"2023-12-26T17:26:37+05:30\" />\\n<meta property=\"og:image\" content=\"https://cdn.zeebiz.com/sites/default/files/2023/12/26/274217-salaar-twitter.jpg\" />\\n<meta property=\"article:section\" content=\"Entertainment\" />\\n<meta property=\"article:tag\" content=\"entertainment\" />\\n<meta property=\"article:tag\" content=\"Salaar Part 1: Ceasefire\" />\\n<meta property=\"article:tag\" content=\"Box Office\" />\\n<meta name=\"twitter:card\" content=\"summary_large_image\" />\\n<meta name=\"twitter:url\" content=\"https://www.zeebiz.com/trending/entertainment/news-salaar-part-1-ceasefire-vs-dunki-box-office-collection-christmas-day-prabhas-action-thriller-crosses-rs-250-crore-mark-way-ahead-of-srk-dunki-story-imdb-rating-cast-269976\" />\\n<meta name=\"twitter:title\" content=\"Salaar Part 1: Ceasefire Day 4 collection: Prabhas starrer action-thriller crosses Rs 250 crore mark, way ahead of SRK&#039;s Dunki | Check Details\" />\\n<meta name=\"twitter:description\" content=\"Salaar Part 1: Ceasefire Box Office Collection Day 4: Shah Rukh Khan starrer film Dunki earned a decent amount on Day 5 at the domestic box office. However, compared to the Christmas Day collections of both movies, SRK&#039;s film is far behind Salaar.\" />\\n<meta name=\"twitter:image\" content=\"https://cdn.zeebiz.com/sites/default/files/2023/12/26/274217-salaar-twitter.jpg\" />\\n<meta property=\"twitter:site\" content=\"@ZeeBusiness\" />\\n<meta property=\"twitter:creator\" content=\"@ZeeBusiness\" />\\n<meta property=\"article:published_time\" content=\"2023-12-26T17:21:30+05:30\" />\\n<meta property=\"article:modified_time\" content=\"2023-12-26T17:26:37+05:30\" />\\n<meta name=\"copyright\" content=\"Zee Media Corporation Ltd\" />\\n\\n<script src=\"https://cdn.zeebiz.com/html/js/jquery.js\"></script>\\n<script src=\"https://cdn.zeebiz.com/html/js/drupal.js\"></script>\\n\\n\\n<script src=\"https://cdn.zeebiz.com/html/js/jquery.min.js\"></script>\\n\\n\\n\\n<!-- DO NOT MODIFY -->\\n\\n\\n<link rel=\"stylesheet\" href=\"https://cdn.zeebiz.com/html/css/custom.css?v=1\" type=\"text/css\" />\\n<style>\\n  body{opacity:1!important;}\\n  .visible-title{padding-top:95px;}\\n  .article-img {\\n    margin-bottom: 30px;\\n    padding-left: 0px;\\n    padding-right: 0px;\\n    width: 100%;\\n  }\\n  .article-heading {\\n    font-size: 34px;\\n    font-weight: bold;\\n    color: #161616 !important;\\n    margin-left: 0px;\\n    line-height: normal;\\n    padding-right: 10px;\\n  }\\n  .topic {\\n    background: transparent;\\n    display: inline-block;\\n    font-weight: bold;\\n    color: #fff;\\n    font-size: 14px;\\n    text-transform: uppercase;\\n    padding: 6px 6px 6px 0px;\\n    margin-left: 0px;\\n    margin-bottom: 8px;\\n  }\\n  .article-start {\\n    margin-left: 10px;\\n  }\\n  ul.fs-social-icon {\\n    margin: 0;\\n    padding: 0;\\n    position: fixed;\\n    top: 278px;\\n  }\\n  .social {\\n    top: 150px !important;\\n  }\\n  .left-side { box-shadow: 5px 0px 10px 0px rgba(162,162,162,0.25); }\\n  .rgtbgimg-gh1 {\\n   margin-left: -7px;\\n   margin-right: 5px;\\n   padding-bottom: 0;\\n }\\n .bg-page{background: url(https://cdn.zeebiz.com/html/images/bg-ancrpge.gif) repeat;}\\n .flt-none{float:none !important;}\\n #div-gpt-ad-1453470674008-2 {margin:0 auto;}\\n .left-hold-area {border: 1px solid #e0e0e0; background: #fff; padding: 10px 0px; width: 100%;}\\n .padding-left {padding-left:0px;}\\n .mrgntp-40px-topic-ad {margin:40px 0px 40px 0px;}\\n .-topic-ad {margin:40px 0px 0px 0px;}\\n .hold-left-box-topic {margin:0px 0px 40px 0px;}\\n .anchor-white-box {border: 1px solid #e0e0e0; background:#fff; padding:10px 10px; width:100%;}\\n .padding-right {padding-right:15px;}\\n .padd-breadcumb-india {padding: 10px 0px 0px 0px;}\\n .margin-tp40 {margin-top:40px;}\\n .content-box {width: 100%;}\\n h2.heading2 {margin-bottom:8px;}\\n .breadcrumb-gs{padding-bottom:10px;}\\n .vd-detail-blackbg {width:auto;}\\n .margin-bt40 {margin-bottom:40px;}\\n .mrgnbt-40px-topic-ad {margin:0px 0px 40px 0px;}\\n .vidbxlft2 {width:100%;}\\n .mrgntp-10px {margin-top:10px;}\\n .margin-tp20 {margin-top:20px;}\\n .content-box {width: 100% !important;}\\n\\n .margin-tp20 {margin-bottom:20px !important;}\\n .margin-bt40 {margin-bottom:40px !important;}\\n .mrgnbt-40px-topic-ad {margin:0px 0px 40px 0px;}\\n\\n .biz-head1 {\\n  margin: 0px 15px 15px 15px;\\n  padding: 0px 0px 10px 0px;\\n  font-size: 18px;\\n  color: #363636;\\n  font-weight: bold;\\n  padding-right: 28px;\\n  text-transform:uppercase;\\n  border-bottom:1px solid #ccc;\\n}\\n.biz-head1 a {\\n  font-size:18px;\\n  color: #363636;\\n  font-weight: bold;\\n  text-transform:uppercase;\\n}\\n.image-heading-hp a {\\n  font-weight: bold !important;\\n  line-height: normal !important;\\n  font-size: 22px !important;\\n}\\n.right-box-h4 h4 a {\\n  font-size: 13px;\\n  color: #363636;\\n  text-transform: none;\\n  line-height: 17px;\\n}\\nh4.right-title a {\\n  color: #363636;\\n  font-size: 13px;\\n  font-weight: normal;\\n  line-height: 17px;\\n  overflow: hidden;\\n  display: block;\\n  margin: 0px;\\n  text-transform: inherit;\\n}\\n.mrgntpbtm-15px {\\n  margin:5px auto;\\n  width: 100%;\\n  text-align: center;\\n}\\n.vd-head3-mobile a {\\n  color: #FFF;\\n  font-size: 13px !important;\\n  line-height: normal;\\n}\\n.vd-head3-mobile {\\n  margin-top: 10px;\\n  height: 54px;\\n  overflow: hidden;\\n}\\n\\n.inner-video-h4 {\\n  position: absolute;\\n  bottom: 0px;\\n  background: linear-gradient(to bottom,transparent 0,rgba(0,0,0,.45) 40%);\\n  width: 100%;\\n  color: #fff;\\n  padding: 10px 15px;\\n  text-shadow: 1px 1px 2px #333;\\n  line-height: 24px;\\n  font-weight: bold;\\n}\\n.inner-video-box {\\n  float: left;\\n  width: 46%;\\n  position: relative;\\n  margin-right: 10px;\\n}\\n.inner-video-box a h4 {\\n  font-size: 13px;\\n  color: #fff;\\n  margin-top: 10px;\\n  line-height: 18px;\\n}\\n.inner-video-icon {\\n position: absolute;\\n top: 14%;\\n left: 38%;\\n width: 30px;\\n}\\n.sectionleft h3 a {font-size:16px; font-weight:bold; line-height:20px;}\\n.margin-top {margin-top:60px !important;}\\nul.mobile-social-photo {margin:10px auto; padding:0; text-align:center;}\\nul.mobile-social-photo li {list-style:none; display:inline; margin:0 auto;}\\n/*CSS added for homepage Banner */\\n.budgethomebanner .region-highlighted {width: auto; margin-left: auto;}\\n/*End of CSS added for homepage Banner */\\n.zeebizSponserdbox{background: #F1E7D4;padding-left: 10px; padding-right: 10px;border-radius: 5px;}\\n@media (min-width:992px) and (max-width:1170px) {\\n  .hole-pad {padding-left:15px; padding-right:15px;}\\n}\\n@media (max-width:991px) {\\n  .left-hold-area {border-top:0px solid #e0e0e0;}\\n  .padding-left {padding-left:15px;}\\n  .padding-right {padding-right:0px;}\\n  .bg-page {padding:0px 15px;}\\n  .left-side {box-shadow:none !important;}\\n  .hole-pad-991 {padding-left:15px; padding-right:15px;}\\n  .heading2 h2 a {font-size:24px;}\\n  .margin-tp10 {margin-top:10px;}\\n  .margin-bt10 {margin-bottom:10px;}\\n  .article-start {margin-left:10px; margin-right:10px;}\\n\\n  .padd-lr {padding-left:0px; padding-right:0px;}\\n  .article-heading {font-size: 24px; font-weight: bold; color: #161616 !important; margin-left: 0px; line-height: normal; padding-right: 10px;}\\n  .relatedstory1 #div-gpt-ad-1453470934839-4 {margin:0 auto;}\\n\\n  .home-ad #div-gpt-ad-1453470491519-2 {margin:40px auto 0px auto;}\\n  .mrgntp-40px #div-gpt-ad-1453470491519-3 {margin:0 auto;}\\n  .mrgntp-40px-m{margin-top:40px;}\\n  .mrgntp-40px-m #div-gpt-ad-1453470491519-2 {margin: 0 auto;}\\n\\n  .inner-video-box {width:100%; margin-bottom:15px;}\\n  .inner-video-image {width:120px; height:auto; float:left; margin-right:10px;}\\n  .inner-video-box a h4 {margin-top:0px;}\\n  .margin0 {margin:0px;}\\n  .margin-bt20px {margin-bottom:20px;}\\n  .inner-video-icon {position: absolute; top: 16px; left: 45px; width: 30px;}\\n}\\n\\n.zee-biz-head1 {margin:0px 0px 15px 0px;padding:0px 0px 10px 0px;font-size:18px;color:#363636;font-weight:bold;text-transform:uppercase;border-bottom:1px solid #ccc;}\\n\\n.contact-whitebg {background:#FFF; border:1px solid #e0e0e0; padding:15px;}\\n.contact-whitebg h2 {color:#363636; font-size:24px; margin:0px 0px 15px 0px; padding:0px 0px 15px 0px; text-transform:uppercase; font-weight:bold; border-bottom:1px solid #ccc;}\\n.contact-whitebg p {line-height:28px; font-size:15px; margin-bottom:10px;}\\n\\n@media(max-width:767px) {\\n\\n  .zee-biz-head1 {margin:10px 0px 15px 0px;}\\n\\n}\\n\\n@media (max-width:1280px) {\\n  .hole-pad-991 {padding-left:15px; padding-right:15px;}\\n}\\n@media (max-width:550px) {\\n  .relatedstory1 {width:100%;}\\n  .relatedstory1 #div-gpt-ad-1453470934839-4 {margin:0 auto;}\\n}\\n\\n.lead-head3 a {font-size:35px !important; line-height:normal !important; display:inline !important; color:#363636 !important; font-weight:bold !important;}\\n@media (max-width:767px) {\\n  .lead-head3 {margin:5px 0px 10px 0px !important;}\\n  .lead-head3 a {font-size:23px !important; line-height:normal !important; display:inline !important; color:#363636 !important; font-weight:bold !important;}\\n  .hp-video-mobile {padding-left:0px; padding-right:0px;}\\n  .vd-home-lead {margin-bottom:15px;}\\n  .mini-vd-mobile {width:100%; margin:0px 0px 15px 0px; padding:0;}\\n  .vd-img-mobile {float:left; margin-right:10px; width:100px; position:relative;}\\n  .vd-head3-mobile {margin-top:0px; overflow:hidden;}\\n  .vidbxlfticon1 {position:absolute; top:15px; left:35%; width:30px;}\\n  .vd-head3-mobile a {color:#FFF; font-size:13px; line-height:normal;}\\n  .left-minilead {width:100% !important; margin-bottom:15px;}\\n  .gplslink, .gplslink:hover {background-size: 24px 24px; background-position: center 15px;}\\n  .twtrlink {background: url(https://cdn.zeebiz.com/html/images/twitericon-gry.png) no-repeat center 18px; background-size: 22px 22px;}\\n  .fblink, .fblink:hover {background-size: 10px 18px; background-position: center 18px;}\\n  .img45 {float:left; margin-right:10px; width:100px !important;}\\n  .img145 {float:left; margin-right:10px; width:100px !important;}\\n  .left-minilead h3 {margin-top:0px; overflow:hidden;padding-right:10px;}\\n  .left-minilead h3 a{margin-top:0px !important;}\\n  .market-mini-padleft {padding-left: 10px;}\\n  .max-video{overflow:hidden;}\\n}\\n\\n.zee-biz-head1 {margin:0px 0px 15px 0px;padding:0px 0px 10px 0px;font-size:18px;color:#363636;font-weight:bold;text-transform:uppercase;border-bottom:1px solid #ccc;}\\n.more-block {display:none !important;}\\n@media(max-width:767px) {.zee-biz-head1 {margin:10px 0px 15px 0px;}}\\n\\n@media (min-width: 992px) {\\n  #cssmenu > ul > li:last-child > a {border-right:none;}\\n  #cssmenu > ul > li > a {padding: 14px 10px;}\\n  #cssmenu > ul > li.has-sub > a::after {right: 0px;}\\n}\\n@media (min-width: 1050px) {\\n  #cssmenu > ul > li > a {padding: 14px 16px; font-size:12px;}\\n  #cssmenu > ul > li.has-sub > a::after {right: 7px;}\\n}\\n@media (min-width: 1100px) {\\n  #cssmenu > ul > li > a {padding: 14px 20px;}\\n  #cssmenu > ul > li.has-sub > a::after {right: 8px;}\\n}\\n@media (min-width: 1200px) {\\n  #cssmenu > ul > li > a {padding: 14px 29px;}\\n  #cssmenu > ul > li.has-sub > a::after {right: 14px;}\\n}\\n@media (min-width: 1155px) {\\n  #cssmenu > ul > li > a {padding: 14px 23px;}\\n  #cssmenu > ul > li.has-sub > a::after {right: 12px;}\\n}\\n@media (min-width: 1256px) {\\n  #cssmenu > ul > li > a {padding: 14px 28px;}\\n  #cssmenu > ul > li.has-sub > a::after {right: 10px;}\\n}\\n@media (min-width:992px) and (max-width:1285px)  {\\n  .more-block {display:block !important;}\\n  .nav-none {display:none !important;}\\n}\\n@media (min-width: 1283px) {\\n  #cssmenu > ul > li > a {padding: 14px 24px;}\\n  #cssmenu > ul > li.has-sub > a::after {right: 10px;}\\n}\\n.rss-ul li {line-height:normal; padding:5px 0px;}\\n.rss-ul li a {color:#434345;}\\n.rss-red {margin:0px; color:#d60008; font-weight:bold; margin-bottom:5px; font-size:18px;}\\n.rss-red a {color:#d60008 !important; font-weight:bold !important; font-size:18px !important;}\\n.media-arrow{border-bottom:0}\\n.prev-story-block{position:fixed;top:45%;box-shadow:3px 0 3px #bdbdbd;background-color:#fff;z-index:99;width:36px;left:0;padding:14px 0}\\n.arrow-con{position:absolute;left:30px;top:0;background-color:#FFF;padding:5px;box-shadow:3px 0 3px #bdbdbd;top:0;height:64px;overflow:hidden;width:0}\\n.img-60{width:60px;height:auto}\\n.arrow-text{font-size:12px}\\n.next-story-block{position:fixed;top:45%;box-shadow:-3px 0 3px #bdbdbd;background-color:#fff;z-index:99;width:36px;right:0;padding:14px 0}\\n.arrow-con2{position:absolute;top:0;background-color:#FFF;padding:5px;box-shadow:-3px 0 3px #bdbdbd;height:64px;overflow:hidden;width:0;right:30px}\\n@media (max-width:767px) {\\n  .next-story-block{padding:4px 0px;}\\n  .prev-story-block{padding:4px 0px;}\\n}\\n\\n.vd-sum-txt {color:#363636;}\\n.vd-row {margin-left:-7px; margin-right:-7px;}\\n.plr {padding-left:7px; padding-right:7px;}\\n.m-bt5 {margin-bottom:5px;}\\n.vd-heads-h3 {font-size:13px;line-height:17px;font-weight:normal;}\\n.vd-play-abs {position:absolute; top:50%; left:50%; margin-left:-17px; margin-top:-17px;}\\n.bold-border {border-bottom:10px solid #eee; padding-bottom:30px; margin-bottom:10px;}\\n.vd-state-border {border-bottom:1px solid #d2d2d2; padding-bottom:10px; margin-bottom:12px;}\\n.vd-heads {margin-right:10px;float:left;ont-size:24px;color:#363636;font-weight:bold;}\\n.vd-heads a {font-size:24px;color:#363636;font-weight:bold;float:left;background:url(https://cdn.zeebiz.com/sites/all/themes/zeebiz/html/images/arowheading.png) no-repeat right;\\n  padding-right:30px;margin-right:0px;}\\n  @media (max-width:767px) {\\n    .width-139 {width:120px; height:auto; float:left; margin-right:10px;}\\n    .vd-heads-h3 {overflow:hidden;}\\n    .vd-heads a{font-size:20px;}\\n  }\\n  .tab-load-block{margin:auto;text-align:center}\\n  .tab-load{margin:auto;text-align:center;color:#2070bb!important;font-size:16px;border:1px solid #2070bb;position:relative;display:inline-block;padding:14px 60px}\\n  .tab-load:hover{color:#363636!important;background:#f4f4f4}\\n  .tab-load:after{position:absolute;top:18px;right:40px;width:8px;height:8px;border-bottom:2px solid #2070bb;border-right:2px solid #2070bb;content:\"\";-webkit-transform:rotate(45deg);-moz-transform:rotate(45deg);-ms-transform:rotate(45deg);-o-transform:rotate(45deg);transform:rotate(45deg);-webkit-transition:border-color .2s ease;-moz-transition:border-color .2s ease;-ms-transition:border-color .2s ease;-o-transition:border-color .2s ease;transition:border-color .2s ease}\\n\\n  .logoimg {padding: 15px 10px 9px;}\\n  @media (max-width: 991px) {\\n    .logoimg {padding: 14px 28px 14px 35px !important;}\\n  }\\n  @media (max-width: 767px) {\\n    .socialicon {position: absolute;left: 150px;}\\n  }\\n  @media (max-width: 550px) {\\n    .socialicon {position: absolute;left:125px;}\\n  }\\n\\n   @media (min-width: 768px) {\\n  .region-highlighted {width: 1270px;margin-left: 40px;}\\n}\\n\\n</style>\\n<!-- <script defer src=\"https://apv-launcher.minute.ly/api/launcher/MIN-81100.js\"></script> -->\\n<style>\\n  @media screen and (min-width: 768px) {\\n    .breakpadd {padding-left:15px; padding-right:15px;}\\n  }\\n  .bn-breaking-news{display:block;width:100%;border:solid 1px #ce2525;background:#FFF;height:40px;box-sizing:border-box;position:relative;line-height:40px;overflow:hidden;border-radius:2px;text-align:auto;font-size:14px}\\n  .bn-breaking-news *{box-sizing:border-box}\\n  .bn-breaking-news.bn-fixed-top{position:fixed;left:0;right:0;top:0}\\n  .bn-breaking-news.bn-fixed-bottom{position:fixed;left:0;right:0;bottom:0}\\n  .bn-label{left:0;top:0;bottom:0;height:100%;position:absolute;background-color:#ce2525;text-align:center;color:#FFF;font-weight:700;z-index:3;padding:0 15px;white-space:nowrap}\\n  .bn-news{position:absolute;left:0;top:0;bottom:0;height:100%;right:0;overflow:hidden;margin-left:10px;}\\n  .bn-news ul{display:block;height:100%;list-style:none;padding:0;margin:0;left:0;bottom:0;width:100%;position:absolute}\\n  .bn-news ul li{white-space:nowrap;overflow:hidden!important;text-overflow:ellipsis;text-decoration:none;-webkit-transition:color .2s linear;-moz-transition:color .2s linear;-o-transition:color .2s linear;transition:color .2s linear;position:absolute;width:100%;display:none;color:#333}\\n  .bn-news ul li a{white-space:nowrap;text-overflow:ellipsis;text-decoration:none;padding:0 20px;color:#333;position:relative;display:block;overflow:hidden; font-weight: bold;}\\n  .bn-news ul li a:hover{color:#069}\\n  .bn-loader-text{padding:0 10px}\\n  .bn-seperator{display:inline-block;float:left;margin-right:15px;width:30px;height:40px;background-position:center;background-size:contain;background-repeat:no-repeat;position:relative}\\n  .bn-seperator.bn-news-dot{margin-right:0}\\n  .bn-seperator.bn-news-dot:after{content:\\'\\';position:absolute;width:8px;height:8px;background:#333;border-radius:50%;top:50%;margin-top:-4px;left:50%;margin-left:-4px}\\n  .bn-prefix{color:#d65d7a;margin-right:15px;padding-left:10px}\\n  .bn-positive{color:#0b8457;font-weight:700}\\n  .bn-negative{color:#dc2f2f;font-weight:700}\\n  .bn-controls{width:auto;right:0;top:0;bottom:0;height:100%;position:absolute;-webkit-touch-callout:none;-webkit-user-select:none;-khtml-user-select:none;-moz-user-select:none;-ms-user-select:none;user-select:none}\\n  .bn-controls button{width:30px;float:left;height:100%;cursor:pointer;border:none;border-left:solid 1px #EEE;text-align:center;background-color:#f6f6f6;outline:none}\\n  .bn-controls button:hover{background-color:#EEE}\\n  .bn-arrow{margin:0;display:inline-block;height:8px;position:relative;width:8px;top:-2px}\\n  .bn-arrow::after{border-bottom-style:solid;border-bottom-width:2px;border-right-style:solid;border-right-width:2px;content:\\'\\';display:inline-block;height:8px;left:0;position:absolute;top:0;width:8px}\\n  .bn-arrow.bn-next{-moz-transform:rotate(315deg);-ms-transform:rotate(315deg);-webkit-transform:rotate(315deg);transform:rotate(315deg);left:-3px}\\n  .bn-arrow.bn-prev{-moz-transform:rotate(135deg);-ms-transform:rotate(135deg);-webkit-transform:rotate(135deg);transform:rotate(135deg);left:3px}\\n  .bn-arrow::after{border-color:#999}\\n  .bn-arrow::before{background-color:#999}\\n  .bn-play{position:relative;background:#999;width:0;height:12px;display:inline-block;margin-left:-5px}\\n  .bn-play::after{left:100%;top:50%;border:solid transparent;content:\" \";height:0;width:0;position:absolute;pointer-events:none;border-color:rgba(136,183,213,0);border-left-color:#999;border-width:8px;margin-top:-8px}\\n  .bn-pause{position:relative;width:0;height:14px;display:inline-block;top:1px;left:-1px}\\n  .bn-pause::before{position:absolute;content:\"\";width:2px;height:100%;left:3px;background-color:#999}\\n  .bn-pause::after{position:absolute;content:\"\";width:2px;height:100%;left:-3px;background-color:#999}\\n  .bn-direction-rtl{direction:rtl}\\n  .bn-direction-rtl .bn-label{left:auto;right:0}\\n  .bn-direction-rtl .bn-controls{right:auto;left:0}\\n  .bn-direction-rtl .bn-seperator{margin-left:15px;margin-right:0;float:right}\\n  .bn-direction-rtl .bn-prefix{margin-left:15px;margin-right:0;padding-left:0;padding-right:10px}\\n  .bn-direction-rtl .bn-controls button{border-left:none;border-right:solid 1px #EEE}\\n  .bn-effect-scroll .bn-news ul{display:block;width:100%;position:relative}\\n  .bn-effect-scroll .bn-news ul li{display:list-item;float:left;position:relative;width:auto;font-weight: bold;}\\n  .bn-effect-scroll.bn-direction-rtl .bn-news ul li{float:right}\\n\\n  .tickerbox{width:100%;float:none;border:1px solid red;height:50px}\\n  #play_trigger,#pause_trigger{display:none}\\n  #ticker_container{margin-top:13px}\\n  #controls{margin-top:-3px}\\n  .icon{margin-right:5px;width:23px;height:24px}\\n  .break{background:#f2f2f2;font-family:\\'Roboto\\',sans-serif;width:100%;}\\n  .redbreak{float:left;text-align:center;text-transform:uppercase;color:#fff;font-size:13px;font-weight:400;padding:10px 5px;line-height:16px;margin-right:10px;font-weight:700;\\n\\n    background: rgba(246,216,84,1);\\n    background: -moz-linear-gradient(left, rgba(246,216,84,1) 0%, rgba(188,141,46,1) 100%);\\n    background: -webkit-gradient(left top, right top, color-stop(0%, rgba(246,216,84,1)), color-stop(100%, rgba(188,141,46,1)));\\n    background: -webkit-linear-gradient(left, rgba(246,216,84,1) 0%, rgba(188,141,46,1) 100%);\\n    background: -o-linear-gradient(left, rgba(246,216,84,1) 0%, rgba(188,141,46,1) 100%);\\n    background: -ms-linear-gradient(left, rgba(246,216,84,1) 0%, rgba(188,141,46,1) 100%);\\n    background: linear-gradient(to right, rgba(246,216,84,1) 0%, rgba(188,141,46,1) 100%);\\n    filter: progid:DXImageTransform.Microsoft.gradient( startColorstr=\\'#f6d854\\', endColorstr=\\'#bc8d2e\\', GradientType=1 );\\n\\n  }\\n  .redbreak a{color:#fff}\\n  .redbreak span{font-size:14px;margin-top:3px;display:block}\\n  .break-content span{padding-right:20px}\\n  .break .center-section{margin:0 auto}\\n  #newsTicker1{border:0;border-radius:0!important;background:#f2f2f2;}\\n\\n  @media (max-width:767px) {\\n    .bn-controls{display: none !important;}\\n  }\\n</style>\\n<!-- Google Tag Manager -->\\n<script>(function(w,d,s,l,i){w[l]=w[l]||[];w[l].push({\\'gtm.start\\':\\nnew Date().getTime(),event:\\'gtm.js\\'});var f=d.getElementsByTagName(s)[0],\\nj=d.createElement(s),dl=l!=\\'dataLayer\\'?\\'&l=\\'+l:\\'\\';j.async=true;j.src=\\n\\'https://www.googletagmanager.com/gtm.js?id=\\'+i+dl;f.parentNode.insertBefore(j,f);\\n})(window,document,\\'script\\',\\'dataLayer\\',\\'GTM-5PTFFB8\\');</script>\\n<!-- End Google Tag Manager -->\\n<script type=\"text/javascript\">\\n  (function() {\\n    /** CONFIGURATION START **/\\n    var _sf_async_config = window._sf_async_config = (window._sf_async_config || {});\\n    _sf_async_config.uid = 65504;\\n    _sf_async_config.domain = \\'zeebiz.com\\'; //CHANGE THIS TO THE ROOT DOMAIN\\n    _sf_async_config.flickerControl = false;\\n    _sf_async_config.useCanonical = true;\\n    _sf_async_config.useCanonicalDomain = true;\\n    _sf_async_config.sections = \\'Trending\\';\\n    _sf_async_config.authors = \\'Priya Vishwakarma\\';\\n    /** CONFIGURATION END **/\\n    function loadChartbeat() {\\n        var e = document.createElement(\\'script\\');\\n        var n = document.getElementsByTagName(\\'script\\')[0];\\n        e.type = \\'text/javascript\\';\\n        e.async = true;\\n        e.src = \\'//static.chartbeat.com/js/chartbeat.js\\';;\\n        n.parentNode.insertBefore(e, n);\\n    }\\n    loadChartbeat();\\n  })();\\n  </script>\\n  <script async src=\"//static.chartbeat.com/js/chartbeat_mab.js\"></script>\\n  <script async src=\"https://rtbcdn.andbeyond.media/prod-global-408157.js\"></script>\\n</head>\\n<body>\\n  <!-- Google Tag Manager (noscript) -->\\n<noscript><iframe src=\"https://www.googletagmanager.com/ns.html?id=GTM-5PTFFB8\"\\nheight=\"0\" width=\"0\" style=\"display:none;visibility:hidden\"></iframe></noscript>\\n<!-- End Google Tag Manager (noscript) -->\\n  <div id=\\'div-gpt-ad-outofpage\\' style=\\'height:1px; width:1px;\\'>\\n    <script type=\\'text/javascript\\'>\\n      googletag.cmd.push(function() { googletag.display(\\'div-gpt-ad-outofpage\\'); });\\n    </script>\\n  </div>\\n  <script>\\n  (function ($) {\\n    Drupal.behaviors.rightbarstick1 = {\\n     attach: function (context, settings) {\\n       $(\\'.prev-story-block\\').hover(function () {\\n        $(\".prev-story-block .arrow-con\").stop().animate ({ width: 250});\\n      },function() {\\n        $(\".prev-story-block .arrow-con\").stop().animate({ width: 0});\\n      });\\n       $(\\'.next-story-block\\').hover(function () {\\n        $(\".next-story-block .arrow-con2\").stop().animate({ width: 250});\\n      },function() {\\n        $(\".next-story-block .arrow-con2\").stop().animate({ width: 0});\\n      });\\n     }\\n   };\\n })(jQuery);\\n</script>\\n\\n<div class=\"container\">\\n  <div class=\"row\">\\n    <div class=\"visible-lg visible-md mrgntpbtm-15px\" style=\"height: 90px;\">\\n      <div style=\"margin: 0px auto;text-align:center;max-width:970px;\">\\n                  <!-- /11440465/Zeebiz_Web/Zeebiz_AS_ATF_970x90 -->\\n          <div id=\\'div-gpt-ad-1456225340086-0\\' style=\\'height:auto; width:970px;\\'>\\n            <script type=\\'text/javascript\\'>\\n              googletag.cmd.push(function() { googletag.display(\\'div-gpt-ad-1456225340086-0\\'); });\\n            </script>\\n          </div>\\n                      </div>\\n    </div>\\n\\n    \\n\\n    <div class=\"visible-lg visible-md mrgntpbtm-15px\">\\n\\n    </div>\\n\\n    <script type=\"application/ld+json\">\\n  {\\n    \"@context\": \"https://schema.org\",\\n    \"@graph\":\\n    [\\n    {\\n      \"@context\": \"https://schema.org\",\\n      \"@type\":\"SiteNavigationElement\",\\n      \"@id\":\"#table-of-contents\",\\n      \"name\": \"Home\",\\n      \"url\": \"https://www.zeebiz.com\"\\n    },\\n\\t\\t{\\n      \"@context\": \"https://schema.org\",\\n      \"@type\":\"SiteNavigationElement\",\\n      \"@id\":\"#table-of-contents\",\\n      \"name\": \"Personal Finance\",\\n      \"url\": \"https://www.zeebiz.com/personal-finance\"\\n    },\\n\\t\\t{\\n      \"@context\": \"https://schema.org\",\\n      \"@type\":\"SiteNavigationElement\",\\n      \"@id\":\"#table-of-contents\",\\n      \"name\": \"India\",\\n      \"url\": \"https://www.zeebiz.com/india\"\\n    },\\n\\t\\t{\\n      \"@context\": \"https://schema.org\",\\n      \"@type\":\"SiteNavigationElement\",\\n      \"@id\":\"#table-of-contents\",\\n      \"name\": \"Economy\",\\n      \"url\": \"https://www.zeebiz.com/india/economy\"\\n    },\\n    {\\n      \"@context\": \"https://schema.org\",\\n      \"@type\":\"SiteNavigationElement\",\\n      \"@id\":\"#table-of-contents\",\\n      \"name\": \"Tech\",\\n      \"url\": \"https://www.zeebiz.com/technology\"\\n    },\\n\\t\\t{\\n      \"@context\": \"https://schema.org\",\\n      \"@type\":\"SiteNavigationElement\",\\n      \"@id\":\"#table-of-contents\",\\n      \"name\": \"Auto\",\\n      \"url\": \"https://www.zeebiz.com/automobile\"\\n    },\\n\\t\\t{\\n      \"@context\": \"https://schema.org\",\\n      \"@type\":\"SiteNavigationElement\",\\n      \"@id\":\"#table-of-contents\",\\n      \"name\": \"Markets\",\\n      \"url\": \"https://www.zeebiz.com/marketss\"\\n    },\\n\\t\\t{\\n      \"@context\": \"https://schema.org\",\\n      \"@type\":\"SiteNavigationElement\",\\n      \"@id\":\"#table-of-contents\",\\n      \"name\": \"Jobs\",\\n      \"url\": \"https://www.zeebiz.com/jobs\"\\n    },\\n\\t\\t{\\n      \"@context\": \"https://schema.org\",\\n      \"@type\":\"SiteNavigationElement\",\\n      \"@id\":\"#table-of-contents\",\\n      \"name\": \"Indian Railways\",\\n      \"url\": \"https://www.zeebiz.com\"\\n    },\\n\\t\\t{\\n      \"@context\": \"https://schema.org\",\\n      \"@type\":\"SiteNavigationElement\",\\n      \"@id\":\"#table-of-contents\",\\n      \"name\": \"World\",\\n      \"url\": \"https://www.zeebiz.com/world\"\\n    },\\n    {\\n      \"@context\": \"https://schema.org\",\\n      \"@type\":\"SiteNavigationElement\",\\n      \"@id\":\"#table-of-contents\",\\n      \"name\": \"Videos\",\\n      \"url\": \"https://www.zeebiz.com/videos\"\\n    },\\n\\n    {\\n      \"@context\": \"https://schema.org\",\\n      \"@type\":\"SiteNavigationElement\",\\n      \"@id\":\"#table-of-contents\",\\n      \"name\": \"Photos\",\\n      \"url\": \"https://www.zeebiz.com/photos\"\\n    }\\n    ]\\n  }\\n</script>\\n<style>\\n#cssmenu > ul > li.has-sub > a::after {\\n  top: 14px;\\n}\\n  @media (min-width: 1283px) {\\n    #cssmenu > ul > li > a {padding: 14px 20px;}\\n    #cssmenu > ul > li.has-sub > a::after {right: 10px;}\\n  }\\n\\t#cssmenu > ul > li > a{font-size: 10px !important; padding:14px 20px 14px 9px !important;}\\n/*  .msmeHighlight{background: #97144d;}\\n  .msmeHighlight a:hover{color: #fff !important;}*/\\n  .readinhindi{background: #ba8b2d; border-radius: 8px;padding: 7px 10px;margin-top: 15px;margin-left: 10px;display: inline-block;color:#fff; cursor: pointer; outline: 0}\\n  .readinhindi a{color:#fff}\\n  .modalbxpopup .close{opacity: 1;margin-top: -40px;}\\n  .modalbxpopup .modal-content{background:url(popupbgimg.gif) no-repeat right top #222; border: 0; font-size: 40px; color: #fff; text-align: center}\\n  .modalbxpopup .modal-header,.modalbxpopup .modal-footer{background-color: transparent; border: 0; text-align: center}\\n  .modalbxpopup .modal-header{text-align: center}\\n  .modalbxpopup .modal-body{line-height: 60px; margin: 20px auto}\\n  .modalbxpopup .modal-header img{margin-top: 40px}\\n  .modalbxpopup .modal-footer{padding-bottom: 15px}\\n  .modalbxpopup .modal-footer a{display: inline-block; background: #ba8b2d; padding: 8px 15px; color: #fff; font-size: 25px; }\\n  .subbtn{font-size: 14px;width: 28%;padding: 8px 1px!important;}\\n  .fildsrch { width: 72%;}\\n\\t.highlightnav-tp{background:#ba8b2d ;}\\n\\t.highlightnav-tp a:hover{color: #fff !important;}\\n\\t.myMoney{position: relative}\\n  @media screen and (max-width: 768px) {\\n\\n    .livebtnmob{padding: 4px 5px;margin-top: 9px;right: 35px;float: none}\\n    .logoimg{padding: 13px 0px 14px 29px !important; border-right: 0}\\n    .readinhindi{padding: 8px 7px 7px 7px ; font-size: 12px;margin-top: 16px;margin-left: 10px;float: left}\\n    .borrgtgry{border-right: 0px solid #c3c3c3;margin-left: 95px;}\\n    .socialicon{right: 0;left: auto;}\\n    .fildsrch{width: 75%}\\n    .srchbox{left: auto;right: 0;}\\n  }\\n</style>\\n <!-- modal mailer--> \\n <style type=\"text/css\"> :root{\\n    --color-1: rgba(0,0,0, 0.1);\\n    --color-2: rgba(0,0,0, 0.2);\\n    --white: #ffffff;\\n    --color-4: rgba(0,0,0, 0.4);\\n    --color-5: rgba(0,0,0, 0.5);\\n     --blue: #195bca;\\n    --color-6: rgba(0,0,0, 0.6);\\n    --orange: #995b24;\\n    --border-color: rgba(0,0,0, 0.2);\\n}\\n .modal {\\n     display: none;\\n    /* Hidden by default */\\n     position: fixed;\\n    /* Stay in place */\\n     z-index: 1111;\\n    /* Sit on top */\\n    /* padding-top: 100px;\\n     */\\n     left: 0;\\n     top: 0;\\n     max-width: 100%;\\n    /* Full width */\\n     height: 100%;\\n    /* Full height */\\n     overflow: auto;\\n    /* Enable scroll if needed */\\n     background-color: rgb(0,0,0);\\n    /* Fallback color */\\n     background-color: rgba(0,0,0,0.4);\\n    /* Black w/ opacity */\\n}\\n/* Modal Content */\\n .modal-content {\\n    background-color: #f8f8f8;\\n    margin: auto;\\n    padding: 20px;\\n    border: 1px solid #888;\\n    max-width: 450px;\\n    box-shadow: 0 0 6px var(--color-1);\\n    position: relative;\\n    top: 50%;\\n    transform: translateY(-50%);\\n    border-radius: 10px;\\n}\\n/* The Close Button */\\n .close-ab {\\n  color: rgba(0,0,0, .5);\\n  position: absolute;top: 0;right: 0;\\n  font-size: 38px;background: rgba(0,0,0,.05);border-radius: 0 0px 0 10px;padding: 4px 10px 10px 9px;line-height: 20px;\\n  font-weight: bold;z-index: 1;\\n}\\n .close-ab:hover, .close-ab:focus {\\n     color: #000;\\n     text-decoration: none;\\n     cursor: pointer;\\n}\\n .mailersubscribebox{\\n    display:flex;\\n    justify-content:space-between;\\n    flex-wrap:wrap;\\n    align-items:center;\\n    overflow:hidden;\\n    border:1px solid var(--color-1);\\n    border-radius:10px;\\n     background: #fff;\\n    padding: 10px 0 0 10px;\\n    position: relative;\\n    margin-top: 40px;\\n    float: left;\\n}\\n .textmailer{\\n    width:auto;\\n    padding:5px 10px;\\n    border-left:1px solid var(--color-1);\\n    margin:5px 0\\n}\\n .thanks-u p, .textmailer p{\\n    font-size:16px;\\n    line-height:1.3;\\n    font-weight:700;\\n    color:#ee6721;\\n    padding:0\\n}\\n .thanks-u p span,.textmailer p span{\\n    color:#136b3c\\n}\\n .thanks-u p, .textmailer p {\\n    color: var(--orange);\\n}\\n .btn-col .btn{\\n    min-width:129px;\\n    font-size:13px;\\n    border:0;\\n    border-radius:10px;\\n    padding:10px 0;\\n    color:var(--white);\\n    font-weight:700;\\n    text-transform:none;\\n    background:#919191;\\n    background:-moz-linear-gradient(top, #919191 0%, #040404 100%);\\n    background:-webkit-linear-gradient(top, #919191 0%,#040404 100%);\\n    background:linear-gradient(to bottom, #919191 0%,#040404 100%);\\n    filter:progid:DXImageTransform.Microsoft.gradient( startColorstr=\\'#919191\\', endColorstr=\\'#040404\\',GradientType=0 );\\n}\\n .btn-col .btn:hover{\\n    background:#0784d3;\\n    background:-moz-linear-gradient(top, #0784d3 0%, #195bca 100%);\\n    background:-webkit-linear-gradient(top, #0784d3 0%,#195bca 100%);\\n    background:linear-gradient(to bottom, #0784d3 0%,#195bca 100%);\\n    filter:progid:DXImageTransform.Microsoft.gradient( startColorstr=\\'#0784d3\\', endColorstr=\\'#195bca\\',GradientType=0 );\\n}\\n .envelope{\\n    width:auto;\\n    margin-bottom: -5px;\\n    border-radius:0 10px 0 0;\\n}\\n .newsletter-subs{\\n    background: url(https://cdn.zeebiz.com/images/icon-newletter.png)no-repeat center;\\n    display: block;\\n    padding: 31px 25px 30px 22px;\\n    width: 13px;\\n    height: 27px;\\n    border-left: 1px solid #C3C3C3;\\n    float: left;\\n    background-size: 29px;\\n    cursor: pointer;\\n}\\n .newsletter-subs:hover{\\n    background: url(https://cdn.zeebiz.com/images/icon-newletter.png)no-repeat center #bfbfbf;\\n    background-size: 29px;\\n}\\n .modalHeader{\\n    padding: 0 0 8px 15px;\\n    margin: 20px 0 10px;\\n    text-transform: none;\\n    position: relative;\\n    color: var(--black);\\n    border-bottom: 1px solid var(--border-color);\\n    display: flex;\\n    justify-content: space-between;\\n    align-items: center;\\n    font-size: 22px;\\n    font-weight: bold;\\n}\\n .modalHeader::before{\\n    content: \\'\\';\\n    background: var(--orange);\\n    width: 4px;\\n    height: 22px;\\n    position: absolute;\\n    left: 0;\\n}\\n .enrolltext{\\n    font-size: 17px;\\n    line-height: 1.4;\\n    padding: 5px 0 20px;\\n    color: #000;\\n}\\n .subscribewhitbox input[type=\"text\"], .subscribewhitbox input[type=\"email\"]{\\n    padding:10px 15px;\\n    border-radius:5px;\\n    font-size:16px;\\n    line-height:1.6;\\n    background-color: var(--white);\\n    border: 1px solid var(--color-2);\\n    color: var(--black);\\n    display: block;\\n    width: 100%;\\n}\\n .subscribewhitbox input:focus{\\n    border-color: var(--blue);\\n    outline: none;\\n}\\n .subscribewhitbox input + input{\\n    margin-top:20px\\n}\\n .subscribe-btn-popup{\\n    min-width:129px;\\n    font-size:13px;\\n    border:0;\\n    border-radius:10px;\\n    padding:10px 0 !important;\\n    color:var(--white);\\n    font-weight:700;\\n    text-transform:none;\\n    background:#919191;\\n    background:-moz-linear-gradient(top, #919191 0%, #040404 100%);\\n    background:-webkit-linear-gradient(top, #919191 0%,#040404 100%);\\n    background:linear-gradient(to bottom, #919191 0%,#040404 100%);\\n    filter:progid:DXImageTransform.Microsoft.gradient( startColorstr=\\'#919191\\', endColorstr=\\'#040404\\',GradientType=0 );\\n}\\n.subscribe-btn-popup:hover{background:#c69430;background:-moz-linear-gradient(top,  #C69430 0%, #BA8B2D 100%);background:-webkit-linear-gradient(top,  #C69430 0%,#BA8B2D 100%);background:linear-gradient(to bottom,  #C69430 0%,#BA8B2D 100%);filter:progid:DXImageTransform.Microsoft.gradient( startColorstr=\\'#C69430\\', endColorstr=\\'#BA8B2D\\',GradientType=0 );\\n}\\n\\n .thanks-modal{\\n    text-align: center;\\n    margin: 10px 0;\\n    color: #00592a;\\n    font-size: 20px;\\n    font-weight:bold\\n}\\n .envelope{\\n    position: absolute;\\n    right: 0px;\\n    bottom: 0px;\\n    opacity: .2;\\n}\\n </style>\\n<div id=\"stickyribbon\">\\n\\n  <header id=\"myHeader\">\\n    <div class=\"logcntnr \">\\n      <figure class=\"logoimg hidden-sm hidden-xs nav-eventtracker\" data-event-title=\"no\" data-event-sub-cat=\"NavbarLogo\"  data-event-order=\"no\">\\n        <a href=\"/\" title=\"ZEE Business\"> <img  src=\"https://cdn.zeebiz.com/html/images/zee-business.png\" title=\"ZEE Business\" alt=\"ZEE Business\"></a></figure>\\n        <figure class=\"logoimg visible-sm visible-xs nav-eventtracker\" data-event-title=\"no\" data-event-sub-cat=\"NavbarLogo\"  data-event-order=\"no\"><a href=\"/\" title=\"ZEE Business\"> <img src=\"https://cdn.zeebiz.com/html/images/zeenbizlogo_mobile.png\" alt=\"ZEE BUSINESS\"></a>\\n      </figure>\\n\\n      <span class=\"readinhindi\"><a href=\"https://www.zeebiz.com/hindi/\" target=\"_blank\">हिंदी में पढ़ें &nbsp;<img src=\"https://cdn.zeebiz.com/html/images/readinengarrow.png\" title=\"हिंदी में पढ़ें\" alt=\"हिंदी में पढ़ें\"></a></span>\\n\\n\\n      <div class=\"float-r\">\\n        <ul class=\"socialicon nav-eventtracker\" data-event-title=\"yes\" data-event-sub-cat=\"NavbarSocial\"  data-event-order=\"no\">\\n          <li class=\"hidden-xs\"><span title=\"click for newsletter subscribe\" class=\"newsletter-subs myBtn-modal\" id=\"myBtn-modal1\"></a></li>\\n          <li class=\"hidden-xs\"><a href=\"https://www.facebook.com/Zeebusinessonline/\" target=\"_blank\" title=\"Facebook\" class=\"fblink\"></a></li>\\n          <li class=\"borrgtgry hidden-xs\"><a href=\"https://twitter.com/zeebusiness\" target=\"_blank\" title=\"Twitter\" class=\"twtrlink\"></a></li>\\n          <li class=\"hidden-sm hidden-xs\"><a target=\"_blank\" title=\"RSS\" class=\"rsslink\" href=\"/rss\"></a></li>\\n          <li class=\"borrgtgry\">\\n            <a title=\"Search\" class=\"srchlink\"></a>\\n            <div class=\"srchbox nav-eventtracker\" data-event-title=\"no\" data-event-sub-cat=\"NavbarSearch\"  data-event-order=\"no\">\\n              <input title=\"Enter the terms you wish to search for.\" type=\"text\" size=\"15\" maxlength=\"128\" class=\"fildsrch\"><input type=\"submit\" value=\"Search\" class=\"subbtn\">\\n            </div>\\n          </li>\\n        </ul>\\n        <div class=\"topnavnewnavab4-gh hidden-xs nav-eventtracker\" data-event-title=\"no\" data-event-sub-cat=\"NavbarLiveTV\"  data-event-order=\"no\"><a href=\"/live-tv\" class=\"live\">Live TV</a></div>\\n        <div class=\"livebtnmob visible-xs nav-eventtracker\" data-event-title=\"no\" data-event-sub-cat=\"NavbarLiveTV\"  data-event-order=\"no\"><a href=\"/live-tv\" title=\"live tv\"> Live TV</a></div>\\n      </div>\\n    </div>\\n    <!--end of logcntnr-->\\n    <!--Nav start here-->\\n    <nav id=\\'cssmenu\\'>\\n      <ul class=\"biz-menu nav-eventtracker\" data-event-title=\"yes\" data-event-sub-cat=\"NavbarTopMenu\"  data-event-order=\"no\">\\n       <li><a title=\"subscribe newsletter\" id=\"myBtn-modal2\" class=\"myBtn-modal visible-xs\">Subscribe for Newsletter</a></li>\\n       <li><a title=\"Home\" href=\"/\">Home</a></li>\\n       <li><a title=\"BUDGET 2024\" href=\"http://zeebiz.com/budget\">BUDGET 2024</a></li>\\n       <li><a title=\"Latest News\" href=\"#\">Latest News</a></li>\\n       <li class=\\'has-sub\\'>\\n          <span class=\"submenu-button\"></span>\\n          <a title=\"Markets\" href=\"https://www.zeebiz.com/markets\">Markets</a>\\n          <ul style=\"display: block;\" class=\"drop\">\\n            <li><a title=\"Commodities\" href=\"https://www.zeebiz.com/markets/commodities\">Commodities</a></li>\\n            <li><a title=\"Currency\" href=\"https://www.zeebiz.com/markets/currency\">Currency & Bonds</a></li>\\n            <li><a title=\"IPO\" href=\"https://www.zeebiz.com/markets/ipo\">IPO</a></li>\\n            <li><a title=\"Mutual Funds\" href=\"https://www.zeebiz.com/mutual-funds\">Mutual Funds</a></li>\\n          </ul>\\n       </li>\\n       <li><a title=\"Web Stories\" href=\"https://www.zeebiz.com/web-stories\">Web Stories</a></li>\\n       <li class=\\'has-sub\\'>\\n          <span class=\"submenu-button\"></span>\\n          <a title=\"Personal Finance\" href=\"https://www.zeebiz.com/personal-finance\">Personal Finance</a>\\n          <ul style=\"display: block;\" class=\"drop\">\\n            <li><a title=\"Commodities\" href=\"https://www.zeebiz.com/personal-finance/income-tax\">Income Tax</a></li>\\n            <li><a title=\"Currency\" href=\"https://www.zeebiz.com/topics/saving-schemes\">Savings</a></li>\\n          </ul>\\n       </li>\\n      <li><a title=\"Auto\" href=\"https://www.zeebiz.com/automobile\">Auto</a></li>\\n      <li><a title=\"Finance\" href=\"https://www.zeebiz.com/topics/personal-finance\">Finance</a></li>\\n      <li class=\\'has-sub\\'>\\n          <span class=\"submenu-button\"></span>\\n          <a title=\"Companies\" href=\"https://www.zeebiz.com/companies\">Companies</a>\\n          <ul style=\"display: block;\" class=\"drop\">\\n            <li><a title=\"Infra\" href=\"https://www.zeebiz.com/economy-infra\">Infra </a></li>\\n             <li><a title=\"Consumer\" href=\"#\">Consumer</a></li>\\n            <li><a title=\"Startups\" href=\"https://www.zeebiz.com/small-business/startups\">Startups</a></li>\\n            <li><a title=\"Telecom\" href=\"https://www.zeebiz.com/companies/telecom\">Telecom</a></li>\\n          </ul>\\n       </li>\\n      <li><a title=\"Economy\" href=\"https://www.zeebiz.com/topics/economy\">Economy</a></li>\\n      <li><a title=\"Tech\" href=\"https://www.zeebiz.com/technology\">Tech</a></li>\\n       <li class=\\'has-sub\\'>\\n          <span class=\"submenu-button\"></span>\\n          <a title=\"Videos\" href=\"https://www.zeebiz.com/videos\">Videos</a>\\n          <ul style=\"display: block;\" class=\"drop\">\\n             <li><a title=\"Paisa Wasool\" href=\"https://www.zeebiz.com/videos/paisa-wasool\">Paisa Wasool</a></li>\\n             <li><a title=\"The Right Property Show\" href=\"https://www.zeebiz.com/videos/right-property-show\">The Right Property Show</a></li>\\n          </ul>\\n       </li>\\n       <li class=\\'has-sub\\'>\\n          <span class=\"submenu-button\"></span>\\n          <a title=\"Trending News\" href=\"https://www.zeebiz.com/trending\">Trending</a>\\n          <ul style=\"display: block;\" class=\"drop\">\\n            <li><a title=\"Education\" href=\"https://www.zeebiz.com/education\">Education</a></li>\\n             <li><a title=\"Entertainment\" href=\"https://www.zeebiz.com/trending/entertainment\">Entertainment</a></li>\\n              <li><a title=\"Healthcare\" href=\"https://www.zeebiz.com/topics/healthcare\">Healthcare</a></li>\\n            <li><a title=\"Jobs\" href=\"https://www.zeebiz.com/jobs\">Jobs</a></li>\\n            <li><a title=\"Travel\" href=\"https://www.zeebiz.com/trending/travel\">Travel</a></li>\\n             <li><a title=\"Politics\" href=\"https://www.zeebiz.com/india/politics\">Politics</a></li>\\n             <li><a title=\"Sports\" href=\"https://www.zeebiz.com/trending/sports\">Sports</a></li>\\n              <li><a title=\"India\" href=\"https://www.zeebiz.com/india\">India</a></li>\\n              <li><a title=\"World\" href=\"https://www.zeebiz.com/world\">World</a></li>\\n              <li><a title=\"Indian Railways\" href=\"https://www.zeebiz.com/indian-railways\">Indian Railways</a></li>\\n            <!-- <li><a href=\"/trending/sports/ipl\" title=\"IPL 2023\">IPL 2023</a></li>\\n             <li><a href=\"/elections\" title=\"Karnataka Elections 2023\">Karnataka Elections 2023</a></li> -->\\n          </ul>\\n       </li>\\n    <!-- <li><a title=\"MSME SUMMIT- Season 3\" href=\"https://www.zeebiz.com/msme-summit-2023/\" style=\"font-family: \\'Ek Mukta\\',sans-serif !important;font-size: 12px; color: #dbad43;\">MSME SUMMIT - 3</a></li> -->\\n    </ul>\\n    </nav>\\n  <!--Nav Ends here-->\\n  </header>\\n\\n  <div class=\"col-xs-12\">\\n\\n  </div>\\n</div><!---end of stickyribbon-->\\n<div id=\"myModal\" class=\"modal\">\\n    <!-- Modal content -->\\n    <div class=\"modal-content\">\\n        <span class=\"close-ab\">&times;</span>\\n        <div class=\"subcripbe-modal\">\\n            <div class=\"modalHeader\">Subscribe Now</div>            \\n            <div class=\"enrolltext\">Sign up for our Newsletter</div>\\n            <div class=\"subscribewhitbox\">\\n                <form class=\"subscribe-form\" name=\"sub-form\" method=\"post\">\\n                    <input type=\"text\" maxlength=\"50\" name=\"\" id=\"name\" autocomplete=\"off\" required=\"\" placeholder=\"Full Name\" />\\n                    <input type=\"email\" maxlength=\"100\" name=\"\" id=\"email\" required=\"\" autocomplete=\"off\" placeholder=\"E-mail\" />\\n                    <input type=\"hidden\" name=\"site\" id=\"site\" value=\"www.zeebiz.com\" />\\n                    <input type=\"submit\" class=\"subscribe-btn-popup\" id=\"submitnow\" value=\"Subscribe Now\" />\\n                </form>\\n            </div>\\n        </div>\\n\\n        <div class=\"thanks-modal hide\">Thank you</div>\\n\\n        <div class=\"envelope\"><img src=\"https://english.cdn.zeenews.com/static/public/subscribe-now-envelope.png\" alt=\"ZeeBiz.com subscribe now\" width=\"107\" height=\"67\" /></div>\\n    </div>\\n</div>\\n<!--modal content ends here-->\\n\\n<script>\\nlet modal = document.getElementById(\"myModal\");\\nlet btn = document.querySelector(\"#myBtn-modal1\");\\nlet btn1 = document.querySelector(\"#myBtn-modal2\");\\nlet subbtn = document.querySelector(\"#submitnow\");\\nlet span = document.getElementsByClassName(\"close-ab\")[0];\\n//alert(span);\\nbtn.onclick = function() {\\n  modal.style.display = \"block\";\\n}\\nbtn1.onclick = function() {\\n  modal.style.display = \"block\";\\n}\\nspan.onclick = function() {\\n  modal.style.display = \"none\";\\n}\\nwindow.onclick = function(event) {\\n  if (event.target == modal) {\\n    modal.style.display = \"none\";\\n  }\\n}\\nsubbtn.onclick = function() {  \\n  var name = $.trim($(\\'#name\\').val());\\n  var email = $(\\'#email\\').val();\\n  var site = \\'www.zeebiz.com\\';\\n  //alert(name);\\n  $.ajax({\\n    url: \\'/news/signmein.php\\',\\n    method: \\'post\\',\\n    type: \"POST\",\\n     cache: false,\\n    data: {\\n        name: name,\\n        email: email,\\n        site: site\\n    },\\n    success: function(response) {\\n        $(\"#submitnow\").prop(\\'disabled\\', false)\\n        $(\\'.subcripbe-modal\\').hide();\\n        $(\\'.thanks-modal\\').removeClass(\\'hide\\');\\n    }\\n  });\\n}\\n</script>  \\n        \\n    <div class=\"visible-sm visible-xs mrgntpbtm-15px\">\\n          </div>\\n\\n    <div>\\n            <div class=\"container\" id=\"maincontent\">\\n\\n        <div class=\"row repeat-block\"  id=\"row269976\">\\n          <!--end of main container-->\\n\\n          <!--POPUP WINDOW START HERE-->\\n          <div class=\"hole-pad-991\">\\n\\n            <div class=\"bg-page\">\\n              <div class=\"row\">\\n\\n\\n                <div class=\"col-lg-9 col-md-9 col-sm-12 col-xs-12 padd-lr sidebar269976\">\\n                 <!-- prev-story -->\\n                 <!-- End prev-story -->\\n                 <div class=\"left-side sidebar-inner\">\\n                                                        <div class=\"region region-content\">\\n    <div id=\"block-system-main\" class=\"block block-system\">\\n\\n    \\n  <div class=\"content\">\\n    <!-- Out of Page 1 * 1   -->\\n<style>\\n /* View in APP css */\\n .btn-readapp, .viewinapp{display: none;}\\n .social-biz li:last-child{display:none;}\\n\\n@media(max-width:991px){\\n    .artposchngbox{position: relative;}\\n    .artposchngbox .col-md-push-3{margin-top: 140px;}\\n    .artposchngbox .col-md-pull-9{position: absolute !important;top: 0;width: 100%;}\\n}\\n\\n@media (max-width:767px) {\\n  .social-biz li:last-child{display:inline;}\\n.btn-readapp{background: #BA8A2E; color:#fff; font-size: 14px; text-transform: uppercase; padding: 5px 10px; position: fixed; bottom: 160px; left: 50%; z-index: 1000; display: block;border-radius: 6px;font-weight: bold;transform: translate(-50%, 0);}\\n.viewinapp{color: #fff; border:1px solid #BA8A2E;font-size: 14px; text-transform: uppercase; padding: 5px 10px; height: auto !important; width: auto !important; margin-top: 5px;margin-left: 5px; display: inline;font-weight: bold;position: absolute;right: 15px;}\\n.btn-readapp a{color:#fff !important}\\n.viewinapp a{color: #555555 ;}\\n}\\n</style>\\n  \\n<div class=\"article-box  article-box-new\" id=\"269976\"  data-url=\"/trending/entertainment/news-salaar-part-1-ceasefire-vs-dunki-box-office-collection-christmas-day-prabhas-action-thriller-crosses-rs-250-crore-mark-way-ahead-of-srk-dunki-story-imdb-rating-cast-269976\" data-title=\"Salaar Part 1: Ceasefire Day 4 collection: Prabhas starrer action-thriller crosses Rs 250 crore mark, way ahead of SRK&#039;s Dunki | Check Details\">\\n <div class=\"article-section  article-section-new\">\\n      <div id=\"breadcrumb\">\\n     <div class=\"breadcrumb-container\">\\n       <div class=\"breadcrumb breadcrumb-gs\">\\n        <span>\\n          <a href=\"/\"><span>Business News</span></a></span> »\\n          <span>\\n            <a href=\"/trending/entertainment\" itemprop=\"url\"><span itemprop=\"title\">Entertainment News</span></a></span>\\n          </div>\\n        </div>\\n      </div>\\n\\n      <script type=\"application/ld+json\">\\n        {\\n          \"@context\": \"https://schema.org\",\\n          \"@type\": \"BreadcrumbList\",\\n          \"itemListElement\": [{\\n          \"@type\": \"ListItem\",\\n          \"position\": 1,\\n          \"name\": \"Business News\",\\n          \"item\": \"https://www.zeebiz.com/\"\\n        },{\\n        \"@type\": \"ListItem\",\\n        \"position\": 2,\\n        \"name\": \"Entertainment\",\\n        \"item\": \"https://www.zeebiz.com/trending/entertainment\"\\n      }]\\n    }\\n  </script>\\n\\n  <div class=\"article-start\">\\n\\n    <h1 class=\"article-heading article-heading-biz margin-bt10px\">Salaar Part 1: Ceasefire Day 4 collection: Prabhas starrer action-thriller crosses Rs 250 crore mark, way ahead of SRK&#039;s Dunki | Check Details</h1>\\n          <h2 class=\"biz-a-sum\">Salaar Part 1: Ceasefire\\xa0Box Office Collection Day 4:\\xa0Shah Rukh Khan starrer film Dunki earned a decent amount on Day 5 at the domestic box office. However, compared to the Christmas Day collections of both movies, SRK\\'s film is far behind Salaar.\\n</h2>\\n        <ul class=\"social-biz\">\\n      <li><a href=\"https://twitter.com/share?url=https://www.zeebiz.com/trending/entertainment/news-salaar-part-1-ceasefire-vs-dunki-box-office-collection-christmas-day-prabhas-action-thriller-crosses-rs-250-crore-mark-way-ahead-of-srk-dunki-story-imdb-rating-cast-269976&text=Salaar+Part+1%3A+Ceasefire+Day+4+collection%3A+Prabhas+starrer+action-thriller+crosses+Rs+250+crore+mark%2C+way+ahead+of+SRK%27s+Dunki+%7C+Check+Details\" target=\"_blank\"><img src=\"https://cdn.zeebiz.com/html/images/fs-twitter-icon.gif\" alt=\"Twitter\" title=\"Twitter\"></a></li>\\n      <li><a href=\"https://www.facebook.com/sharer/sharer.php?u=https://www.zeebiz.com/trending/entertainment/news-salaar-part-1-ceasefire-vs-dunki-box-office-collection-christmas-day-prabhas-action-thriller-crosses-rs-250-crore-mark-way-ahead-of-srk-dunki-story-imdb-rating-cast-269976\" target=\"_blank\"><img src=\"https://cdn.zeebiz.com/html/images/fs-face-icon.gif\" alt=\"Facebook\" title=\"Facebook\"></a></li>\\n      <li><a href=\"https://www.linkedin.com/shareArticle?mini=true&url=https://www.zeebiz.com/trending/entertainment/news-salaar-part-1-ceasefire-vs-dunki-box-office-collection-christmas-day-prabhas-action-thriller-crosses-rs-250-crore-mark-way-ahead-of-srk-dunki-story-imdb-rating-cast-269976\" target=\"_blank\"><img src=\"https://cdn.zeebiz.com/html/images/linked_zeebiz.png\" alt=\"Linkedin\" title=\"Linkedin\"></a></li>\\n      <li  class=\"hidden-lg\"><a href=\"whatsapp://send?text=Salaar+Part+1%3A+Ceasefire+Day+4+collection%3A+Prabhas+starrer+action-thriller+crosses+Rs+250+crore+mark%2C+way+ahead+of+SRK%26%23039%3Bs+Dunki+%7C+Check+Details - https://www.zeebiz.com/trending/entertainment/news-salaar-part-1-ceasefire-vs-dunki-box-office-collection-christmas-day-prabhas-action-thriller-crosses-rs-250-crore-mark-way-ahead-of-srk-dunki-story-imdb-rating-cast-269976\" title=\"Whatsapp\" target=\"_blank\"><img src=\"https://cdn.zeebiz.com/html/images/fs-whatsapp-icon.gif\" alt=\"whatapp\"></a></li>\\n      <li class=\"viewinapp\"><a href=\"https://zeebusiness.page.link/?link=https://www.zeebiz.com/trending/entertainment/news-salaar-part-1-ceasefire-vs-dunki-box-office-collection-christmas-day-prabhas-action-thriller-crosses-rs-250-crore-mark-way-ahead-of-srk-dunki-story-imdb-rating-cast-269976%23English&apn=com.zeebusiness.news\" target=\"_blank\" title=\"\" onclick=\"gtag(\\'event\\', \\'ViewInApp\\', {\\'event_category\\' : \\'Download App\\', \\'event_label\\' : \\'/trending/entertainment/news-salaar-part-1-ceasefire-vs-dunki-box-office-collection-christmas-day-prabhas-action-thriller-crosses-rs-250-crore-mark-way-ahead-of-srk-dunki-story-imdb-rating-cast-269976\\'});\">View in App</a></li>\\n    </ul>\\n    <div class=\"pos-relative\">\\n     <img class=\"img-responsive article-img\" typeof=\"foaf:Image\" src=\"https://cdn.zeebiz.com/sites/default/files/2023/12/26/274217-salaar-twitter.jpg?im=FitAndFill=(1200,900)\" alt=\"Salaar Part 1: Ceasefire Day 4 collection: Prabhas starrer action-thriller crosses Rs 250 crore mark, way ahead of SRK&#039;s Dunki | Check Details\">      <div class=\"black-transparent\">Directed by Prashanth Neel of &#039;KGF 2 fame, the movie hit screens on Friday, December 22, in the Telugu, Kannada, Tamil, Malayalam, and Hindi languages. Pic: twitter.com/SalaarTheSaga</div>\\n      </div>\\n\\n</div>\\n<div>\\n  <div class=\"row artposchngbox\" style=\"padding-bottom:20px;\">\\n  <div class=\"col-lg-9 col-md-9 col-sm-12 pad-left sidebar269976 col-md-push-3\">\\n    <div class=\"sidebar-inner\">\\n      <div class=\"article-para\">\\n                <script>\\n var c_id = \\'\\';\\n gtag(\\'get\\', \\'UA-75361766-1\\', \\'client_id\\', (client_id) =>\\n{\\n  c_id = client_id;\\n});\\n\\n// CRE Splide Click\\n$(\"body\").on(\"click\", \".splide__slide_tranding\", function(){\\n  var itemJSON = {};\\n  itemJSON = itemJSONCompile($(this),\"click\", c_id);\\n  dataLayer.push(itemJSON);\\n  //console.log(\\'event fired \\', itemJSON);\\n});\\n\\n// CRE Splide Click left\\n$(\"body\").on(\"click\", \".slider-trending .slick-prev\", function(){\\n  var itemJSON = {};\\n  itemJSON = itemJSONCompile($(\\'.splide__slide_tranding.slick-current\\'),\"left\", c_id);\\n  dataLayer.push(itemJSON);\\n  //console.log(\\'event fired \\', itemJSON);\\n});\\n//CRE Splide Click right\\n$(\"body\").on(\"click\", \".slider-trending .slick-next\", function(){\\n  var itemJSON = {};\\n  itemJSON = itemJSONCompile($(\\'.splide__slide_tranding.slick-current\\'),\"right\", c_id);\\n  dataLayer.push(itemJSON);\\n  //console.log(\\'event fired \\', itemJSON);\\n});\\n//CRE Splide Click right rec temp commenet start\\n// $(\"body\").on(\"click\", \".splide__slide_recommended\", function(){\\n//   var itemJSON = {};\\n//   itemJSON = itemJSONCompile($(this),\"clickr\", c_id);\\n//   dataLayer.push(itemJSON);\\n//   //console.log(\\'event fired \\', itemJSON);\\n// });\\n// // CRE Splide Click left\\n// $(\"body\").on(\"click\", \".slider-recommended .slick-prev\", function(){\\n//   var itemJSON = {};\\n//   itemJSON = itemJSONCompile($(\\'.splide__slide_recommended.slick-current\\'),\"leftr\", c_id);\\n//   dataLayer.push(itemJSON);\\n//   //console.log(\\'event fired \\', itemJSON);\\n// });\\n// //CRE Splide Click right\\n// $(\"body\").on(\"click\", \".slider-recommended .slick-next\", function(){\\n//   var itemJSON = {};\\n//   itemJSON = itemJSONCompile($(\\'.splide__slide_recommended.slick-current\\'),\"rightr\", c_id);\\n//   dataLayer.push(itemJSON);\\n//   //console.log(\\'event fired \\', itemJSON);\\n// });\\n// temp commenet end\\n\\nfunction itemJSONCompile(itemBind, eventType, c_id){\\n  console.log(\"eventType\", eventType);\\n  var itemCount = itemBind.attr(\"data-count\");\\n  var clientId = c_id;//itemBind.attr(\"data-clientid\");\\n  var authorName = \\'na\\';\\n  var postId = itemBind.attr(\"data-postid\");\\n  var articleCat = itemBind.attr(\"data-Category\");\\n  var articleName = itemBind.attr(\"data-articlename\");\\n  var itemJSON = {};\\n  if(eventType == \"click\"){\\n    if(itemBind.hasClass(\"splide__slide_tranding\")){\\n      itemJSON = {\\n                \\'event\\':\\'cre_article_click\\',\\n                \\'eventCategory\\':\\'CRE\\',\\n                \\'eventAction\\':\\'cre_article_click\\',\\n                \\'eventLabel\\': itemCount,\\n                \\'Client_ID\\': clientId,\\n                \\'author_name\\': authorName,\\n                \\'section\\':\\'Trending Now\\',\\n                \\'postID\\': postId,\\n                \\'publish_date\\':\\'na\\',\\n                \\'article_category\\': articleCat,\\n                \\'article_name\\': articleName,\\n                \\'widget_position\\': \\'Top\\'\\n                      };\\n  }\\n}\\n  else if(eventType == \"left\"){\\n    if(itemBind.hasClass(\"splide__slide_tranding\")){\\n      itemJSON = {\\n                \\'event\\':\\'cre_arrow_click\\',\\n                \\'eventCategory\\':\\'CRE\\',\\n                \\'eventAction\\':\\'cre_arrow_click\\',\\n                \\'eventLabel\\': \\'left\\',\\n                \\'Client_ID\\': clientId,\\n                \\'author_name\\': authorName,\\n                \\'section\\':\\'Trending Now\\',\\n                \\'postID\\': postId,\\n                \\'publish_date\\':\\'na\\',\\n                \\'article_category\\': articleCat,\\n                \\'article_name\\': articleName,\\n                \\'widget_position\\': \\'Top\\'\\n               }\\n             }\\n\\n  }\\n  else if(eventType == \"right\"){\\n    if(itemBind.hasClass(\"splide__slide_tranding\")){\\n      itemJSON = {\\n                \\'event\\':\\'cre_arrow_click\\',\\n                \\'eventCategory\\':\\'CRE\\',\\n                \\'eventAction\\':\\'cre_arrow_click\\',\\n                \\'eventLabel\\': \\'right\\',\\n                \\'Client_ID\\': clientId,\\n                \\'author_name\\': authorName,\\n                \\'section\\':\\'Trending Now\\',\\n                \\'postID\\': postId,\\n                \\'publish_date\\':\\'na\\',\\n                \\'article_category\\': articleCat,\\n                \\'article_name\\': articleName,\\n                \\'widget_position\\': \\'Top\\'\\n               }\\n             }\\n\\n  }\\n// else if(eventType == \"clickr\"){\\n//     if(itemBind.hasClass(\"splide__slide_recommended\")){\\n//       itemJSON = {\\n//                 \\'event\\':\\'cre_article_click\\',\\n//                 \\'eventCategory\\':\\'CRE\\',\\n//                 \\'eventAction\\':\\'cre_article_click\\',\\n//                 \\'eventLabel\\': itemCount,\\n//                 \\'Client_ID\\': clientId,\\n//                 \\'author_name\\': authorName,\\n//                 \\'section\\':\\'Recommended stories\\',\\n//                 \\'postID\\': postId,\\n//                 \\'publish_date\\':\\'na\\',\\n//                 \\'article_category\\': articleCat,\\n//                 \\'article_name\\': articleName,\\n//                 \\'widget_position\\': \\'Middle\\'\\n//                }\\n//              }\\n\\n//   }\\n//     else if(eventType == \"leftr\"){\\n//     if(itemBind.hasClass(\"splide__slide_recommended\")){\\n//       itemJSON = {\\n//                 \\'event\\':\\'cre_arrow_click\\',\\n//                 \\'eventCategory\\':\\'CRE\\',\\n//                 \\'eventAction\\':\\'cre_arrow_click\\',\\n//                 \\'eventLabel\\': \\'left\\',\\n//                 \\'Client_ID\\': clientId,\\n//                 \\'author_name\\': authorName,\\n//                 \\'section\\':\\'Recommended stories\\',\\n//                 \\'postID\\': postId,\\n//                 \\'publish_date\\':\\'na\\',\\n//                 \\'article_category\\': articleCat,\\n//                 \\'article_name\\': articleName,\\n//                 \\'widget_position\\': \\'Middle\\'\\n//                }\\n//              }\\n\\n//   }\\n//   else if(eventType == \"rightr\"){\\n//     if(itemBind.hasClass(\"splide__slide_recommended\")){\\n//       itemJSON = {\\n//                 \\'event\\':\\'cre_arrow_click\\',\\n//                 \\'eventCategory\\':\\'CRE\\',\\n//                 \\'eventAction\\':\\'cre_arrow_click\\',\\n//                 \\'eventLabel\\': \\'right\\',\\n//                 \\'Client_ID\\': clientId,\\n//                 \\'author_name\\': authorName,\\n//                 \\'section\\':\\'Recommended stories\\',\\n//                 \\'postID\\': postId,\\n//                 \\'publish_date\\':\\'na\\',\\n//                 \\'article_category\\': articleCat,\\n//                 \\'article_name\\': articleName,\\n//                 \\'widget_position\\': \\'Middle\\'\\n//                }\\n//              }\\n\\n//   }\\n  //console.log(\"JSON\", itemJSON);\\n  return itemJSON;\\n}\\n\\n</script>\\n\\n   <div id=\"fieldcontent\" class=\"star269976\"><div class=\"field field-name-body field-type-text-with-summary field-label-hidden\"><div class=\"field-items\"><div class=\"field-item even\" property=\"content:encoded\"><p><strong>Salaar Part 1: Ceasefire\\xa0Box Office Collection Day 4: </strong>Prabhas starrer action-thriller \\'Salaar Part 1: Ceasefire\\' is making big bucks at the domestic box office as the film has minted more than Rs 260 crore in just four days. Directed by Prashanth Neel of \\'KGF 2 fame, the movie hit screens on Friday, December 22, in the Telugu, Kannada, Tamil, Malayalam, and Hindi languages.<br />\\n\\xa0<br />\\nProduced by Hombale Films (the same company that is behind the KGF franchise), the movie grossed Rs 46.3 crore on Monday (the fourth day). This took the total collection of \\'Salaar Part 1: Ceasefire\\' to Rs 262.90 crore (India Net Collection) at the domestic box office, as per the data shared by trade tracker Sacnilk.<br />\\n\\xa0<br />\\nThe film is the first collaboration between KGF director Neel and Baahubali actor Prabhas.</p><div class=\\'block margin-bt30px adATF\\'><div id=\\'div-gpt-ad-AS-Inarticle-1\\'></div><script>\\n      googletag.cmd.push(function() {\\n        googletag.defineSlot(\\'/11440465/Zeebiz_Web/Zeebiz_AS_Inarticle_1_300x250\\', [300, 250], \\'div-gpt-ad-AS-Inarticle-1\\').addService(googletag.pubads());\\n        googletag.display(\\'div-gpt-ad-AS-Inarticle-1\\');\\n      });\\n    </script></div></p>\\n<p><img class=\"img-responsive\"  alt=\"Salaar-imdb\" src=\"https://i.ibb.co/J5yJ4js/Salaar-imdb.jpg\" /></p><div id=\\'v-zeebiz-v0\\'></div><script>(function(v,d,o,ai){ai=d.createElement(\\'script\\');ai.defer=true;ai.async=true;ai.src=v.location.protocol+o;d.head.appendChild(ai);})(window, document, \\'//a.vdo.ai/core/v-zeebiz-v0/vdo.ai.js\\');</script></p>\\n<h2><strong>Salaar Vs Dunki Box Office Collection: Christmas Clash (Monday)</strong></h2>\\n<p>Shah Rukh Khan starrer film Dunki earned a decent amount on Day 5 at the domestic box office, which is Rs 22.5 crore (approximately). However, compared to the Christmas Day collections of both movies, SRK\\'s film is far behind Salaar.<br />\\n\\xa0<br />\\nIn terms of numbers, Prabhas\\' film earned more than double that of SRK\\'s Dunki at the domestic box office on Monday, i.e., Rs 46.3 crore, according to Sacknilk data.</p><div class=\"creTrendingnow mgbt30\">\\n        <h2 class=\"creheadtxt\">TRENDING NOW</h2>\\n          <div class=\"slider slider-trending\"><div class=\"crewhitebg splide__slide_tranding\" data-postid=\"273318\" data-articlename=\"Axis Bank stock plunges after Q3 results, top Nifty50 loser; should investors be worried?\" data-count=\"0\" data-Category=\"Stocks\"><a href=\"https://www.zeebiz.com/markets/stocks/news-axis-bank-share-price-today-nse-target-2024-q3-results-nii-nim-profit-top-nifty50-loser-revenue-brokerages-should-you-buy-sell-hold-273318\" title=\"Axis Bank stock plunges after Q3 results, top Nifty50 loser; should investors be worried?\"><img class=\"img-responsive\"  src=\"https://cdn.zeebiz.com/sites/default/files/styles/zeebiz_700x394/public/2024/01/24/277411-axis-bank-share-price-today.jpg?itok=bjXNG4PO\" alt=\" Axis Bank stock plunges after Q3 results, top Nifty50 loser; should investors be worried? \" class=\"img-res\"></a><a href=\"https://www.zeebiz.com/markets/stocks/news-axis-bank-share-price-today-nse-target-2024-q3-results-nii-nim-profit-top-nifty50-loser-revenue-brokerages-should-you-buy-sell-hold-273318\" title=\"Axis Bank stock plunges after Q3 results, top Nifty50 loser; should investors be worried?\"><h3 class=\"creTrendingheading\" > Axis Bank stock plunges after Q3 results, top Nifty50 loser; should investors be worried? </h3></a></div><div class=\"crewhitebg splide__slide_tranding\" data-postid=\"273297\" data-articlename=\"Share Market Today LIVE: Nifty above 21,200, Sensex down nearly 150 pts; Axis Bank drops 4%\" data-count=\"1\" data-Category=\"Stocks\"><a href=\"https://www.zeebiz.com/markets/stocks/live-updates-share-market-today-news-live-nse-bank-nifty-bse-indian-index-q3-result-today-nifty-50-sensex-rupee-dollar-gift-nifty-futures-273297\" title=\"Share Market Today LIVE: Nifty above 21,200, Sensex down nearly 150 pts; Axis Bank drops 4%\"><img class=\"img-responsive\"  src=\"https://cdn.zeebiz.com/sites/default/files/styles/zeebiz_700x394/public/2024/01/24/277409-stock-market-slight-fall.jpg?itok=TW8jTWPQ\" alt=\" Share Market Today LIVE: Nifty above 21,200, Sensex down nearly 150 pts; Axis Bank drops 4% \" class=\"img-res\"></a><a href=\"https://www.zeebiz.com/markets/stocks/live-updates-share-market-today-news-live-nse-bank-nifty-bse-indian-index-q3-result-today-nifty-50-sensex-rupee-dollar-gift-nifty-futures-273297\" title=\"Share Market Today LIVE: Nifty above 21,200, Sensex down nearly 150 pts; Axis Bank drops 4%\"><h3 class=\"creTrendingheading\" > Share Market Today LIVE: Nifty above 21,200, Sensex down nearly 150 pts; Axis Bank drops 4% </h3></a></div><div class=\"crewhitebg splide__slide_tranding\" data-postid=\"273315\" data-articlename=\"Should you buy Hero MotoCorp, REC, United Spirits, MGL and other stocks today? Here\\'s what brokerages suggest\" data-count=\"2\" data-Category=\"Stocks\"><a href=\"https://www.zeebiz.com/markets/stocks/news-should-you-buy-hero-motocorp-rec-united-spirits-mgl-and-other-stocks-today-heres-what-brokerages-suggest-273315\" title=\"Should you buy Hero MotoCorp, REC, United Spirits, MGL and other stocks today? Here\\'s what brokerages suggest\"><img class=\"img-responsive\"  src=\"https://cdn.zeebiz.com/sites/default/files/styles/zeebiz_700x394/public/2024/01/24/277410-stocks.jpg?itok=GDQ8Yksn\" alt=\" Should you buy Hero MotoCorp, REC, United Spirits, MGL and other stocks today? Here\\'s what brokerages suggest \" class=\"img-res\"></a><a href=\"https://www.zeebiz.com/markets/stocks/news-should-you-buy-hero-motocorp-rec-united-spirits-mgl-and-other-stocks-today-heres-what-brokerages-suggest-273315\" title=\"Should you buy Hero MotoCorp, REC, United Spirits, MGL and other stocks today? Here\\'s what brokerages suggest\"><h3 class=\"creTrendingheading\" > Should you buy Hero MotoCorp, REC, United Spirits, MGL and other stocks today? Here\\'s what brokerages suggest </h3></a></div><div class=\"crewhitebg splide__slide_tranding\" data-postid=\"273295\" data-articlename=\"Ram Mandir Ayodhya Darshan Timings: Devotees break through security lines amid heavy rush, police issues mobile phone-related instructions - Check puja, aarti timing\" data-count=\"3\" data-Category=\"India\"><a href=\"https://www.zeebiz.com/india/news-ram-temple-ayodhya-live-darshan-timing-booking-puja-time-timings-2024-darshan-for-public-tickets-narendra-modi-online-booking-up-police-273295\" title=\"Ram Mandir Ayodhya Darshan Timings: Devotees break through security lines amid heavy rush, police issues mobile phone-related instructions - Check puja, aarti timing\"><img class=\"img-responsive\"  src=\"https://cdn.zeebiz.com/sites/default/files/styles/zeebiz_700x394/public/2024/01/23/277391-ram-mandir-ayodhya-darshan-timings.jpg?itok=EiqE1sQc\" alt=\" Ram Mandir Ayodhya Darshan Timings: Devotees break through security lines amid heavy rush, police issues mobile phone-related instructions - Check puja, aarti timing \" class=\"img-res\"></a><a href=\"https://www.zeebiz.com/india/news-ram-temple-ayodhya-live-darshan-timing-booking-puja-time-timings-2024-darshan-for-public-tickets-narendra-modi-online-booking-up-police-273295\" title=\"Ram Mandir Ayodhya Darshan Timings: Devotees break through security lines amid heavy rush, police issues mobile phone-related instructions - Check puja, aarti timing\"><h3 class=\"creTrendingheading\" > Ram Mandir Ayodhya Darshan Timings: Devotees break through security lines amid heavy rush, police issues mobile phone-related instructions - Check puja, aarti timing </h3></a></div><div class=\"crewhitebg splide__slide_tranding\" data-postid=\"273314\" data-articlename=\"FIRST TRADE: Sensex slips over 350 pts; Nifty below 21,150; Axis Bank plunges post-Q3 results\" data-count=\"4\" data-Category=\"Markets\"><a href=\"https://www.zeebiz.com/market-news/news-first-trade-sensex-slips-over-200-pts-nifty-below-21250-axis-bank-down-over-4-percent-post-q3-results-hero-motocorp-asian-paints-mahindra-and-mahindra-bharti-airtel-273314\" title=\"FIRST TRADE: Sensex slips over 350 pts; Nifty below 21,150; Axis Bank plunges post-Q3 results\"><img class=\"img-responsive\"  src=\"https://cdn.zeebiz.com/sites/default/files/styles/zeebiz_700x394/public/2024/01/24/277408-bse.jpg?itok=6Bysik5U\" alt=\" FIRST TRADE: Sensex slips over 350 pts; Nifty below 21,150; Axis Bank plunges post-Q3 results \" class=\"img-res\"></a><a href=\"https://www.zeebiz.com/market-news/news-first-trade-sensex-slips-over-200-pts-nifty-below-21250-axis-bank-down-over-4-percent-post-q3-results-hero-motocorp-asian-paints-mahindra-and-mahindra-bharti-airtel-273314\" title=\"FIRST TRADE: Sensex slips over 350 pts; Nifty below 21,150; Axis Bank plunges post-Q3 results\"><h3 class=\"creTrendingheading\" > FIRST TRADE: Sensex slips over 350 pts; Nifty below 21,150; Axis Bank plunges post-Q3 results </h3></a></div><div class=\"crewhitebg splide__slide_tranding\" data-postid=\"273294\" data-articlename=\"GG Engineering approves conversion of 13.50 crore warrants into equity shares\" data-count=\"5\" data-Category=\"Stocks\"><a href=\"https://www.zeebiz.com/markets/stocks/news-gg-engineering-warrant-equity-shares-fundraising-bse-273294\" title=\"GG Engineering approves conversion of 13.50 crore warrants into equity shares\"><img class=\"img-responsive\"  src=\"https://cdn.zeebiz.com/sites/default/files/styles/zeebiz_700x394/public/2024/01/23/277390-stocksnew1.jpg?itok=6Mbku2WD\" alt=\" GG Engineering approves conversion of 13.50 crore warrants into equity shares  \" class=\"img-res\"></a><a href=\"https://www.zeebiz.com/markets/stocks/news-gg-engineering-warrant-equity-shares-fundraising-bse-273294\" title=\"GG Engineering approves conversion of 13.50 crore warrants into equity shares\"><h3 class=\"creTrendingheading\" > GG Engineering approves conversion of 13.50 crore warrants into equity shares  </h3></a></div><div class=\"crewhitebg splide__slide_tranding\" data-postid=\"273311\" data-articlename=\"Anil Singhvi strategy January 24: Important levels to track in Nifty50, Nifty Bank today\" data-count=\"6\" data-Category=\"Stocks\"><a href=\"https://www.zeebiz.com/markets/stocks/news-anil-singhvi-strategy-january-24-important-levels-to-track-in-nifty50-nifty-bank-today-273311\" title=\"Anil Singhvi strategy January 24: Important levels to track in Nifty50, Nifty Bank today\"><img class=\"img-responsive\"  src=\"https://cdn.zeebiz.com/sites/default/files/styles/zeebiz_700x394/public/2024/01/24/277404-anil-singhvi-2.jpg?itok=_qZXvgmv\" alt=\" Anil Singhvi strategy January 24: Important levels to track in Nifty50, Nifty Bank today \" class=\"img-res\"></a><a href=\"https://www.zeebiz.com/markets/stocks/news-anil-singhvi-strategy-january-24-important-levels-to-track-in-nifty50-nifty-bank-today-273311\" title=\"Anil Singhvi strategy January 24: Important levels to track in Nifty50, Nifty Bank today\"><h3 class=\"creTrendingheading\" > Anil Singhvi strategy January 24: Important levels to track in Nifty50, Nifty Bank today </h3></a></div><div class=\"crewhitebg splide__slide_tranding\" data-postid=\"273286\" data-articlename=\"Best ELSS vs Best Small-cap: Rs 10 lakh investment in 3 years; which fund would have given you better returns; know expert calculations\" data-count=\"7\" data-Category=\"Personal Finance\"><a href=\"https://www.zeebiz.com/personal-finance/news-best-elss-vs-best-small-cap-mutual-fund-expert-tax-calculations-rs-10-lakh-investment-in-3-years-which-fund-would-have-given-you-better-returns-lumpsum-calculator-sip-elss-calculator-mutual-fund-calculator-273286\" title=\"Best ELSS vs Best Small-cap: Rs 10 lakh investment in 3 years; which fund would have given you better returns; know expert calculations\"><img class=\"img-responsive\"  src=\"https://cdn.zeebiz.com/sites/default/files/styles/zeebiz_700x394/public/2024/01/23/277380-india-rupee.jpg?itok=3XtTdsym\" alt=\" Best ELSS vs Best Small-cap: Rs 10 lakh investment in 3 years; which fund would have given you better returns; know expert calculations \" class=\"img-res\"></a><a href=\"https://www.zeebiz.com/personal-finance/news-best-elss-vs-best-small-cap-mutual-fund-expert-tax-calculations-rs-10-lakh-investment-in-3-years-which-fund-would-have-given-you-better-returns-lumpsum-calculator-sip-elss-calculator-mutual-fund-calculator-273286\" title=\"Best ELSS vs Best Small-cap: Rs 10 lakh investment in 3 years; which fund would have given you better returns; know expert calculations\"><h3 class=\"creTrendingheading\" > Best ELSS vs Best Small-cap: Rs 10 lakh investment in 3 years; which fund would have given you better returns; know expert calculations </h3></a></div><div class=\"crewhitebg splide__slide_tranding\" data-postid=\"273309\" data-articlename=\"Traders\\' Diary: Buy, sell or hold strategy on Axis Bank, Pidilite Industries, Havells India, Cyient DLM, ONGC, over a dozen other stocks today\" data-count=\"8\" data-Category=\"Stocks\"><a href=\"https://www.zeebiz.com/markets/stocks/news-traders-diary-buy-sell-or-hold-strategy-on-axis-bank-pidilite-industries-havells-india-cyient-dlm-ongc-over-a-dozen-other-stocks-today-273309\" title=\"Traders\\' Diary: Buy, sell or hold strategy on Axis Bank, Pidilite Industries, Havells India, Cyient DLM, ONGC, over a dozen other stocks today\"><img class=\"img-responsive\"  src=\"https://cdn.zeebiz.com/sites/default/files/styles/zeebiz_700x394/public/2024/01/24/277403-stocks-news.jpg?itok=A5vsKz0e\" alt=\" Traders\\' Diary: Buy, sell or hold strategy on Axis Bank, Pidilite Industries, Havells India, Cyient DLM, ONGC, over a dozen other stocks today \" class=\"img-res\"></a><a href=\"https://www.zeebiz.com/markets/stocks/news-traders-diary-buy-sell-or-hold-strategy-on-axis-bank-pidilite-industries-havells-india-cyient-dlm-ongc-over-a-dozen-other-stocks-today-273309\" title=\"Traders\\' Diary: Buy, sell or hold strategy on Axis Bank, Pidilite Industries, Havells India, Cyient DLM, ONGC, over a dozen other stocks today\"><h3 class=\"creTrendingheading\" > Traders\\' Diary: Buy, sell or hold strategy on Axis Bank, Pidilite Industries, Havells India, Cyient DLM, ONGC, over a dozen other stocks today </h3></a></div><div class=\"crewhitebg splide__slide_tranding\" data-postid=\"273272\" data-articlename=\"Tata Steel Q3 Results Preview: Net profit likely at Rs 630 crore, EBITDA may grow 25%\" data-count=\"9\" data-Category=\"Companies\"><a href=\"https://www.zeebiz.com/companies/news-tata-steel-q3-fy24-results-preview-earnings-share-price-nse-bse-tatasteel-273272\" title=\"Tata Steel Q3 Results Preview: Net profit likely at Rs 630 crore, EBITDA may grow 25%\"><img class=\"img-responsive\"  src=\"https://cdn.zeebiz.com/sites/default/files/styles/zeebiz_700x394/public/2024/01/23/277316-steelreuters.jpg?itok=d4LkCeZj\" alt=\" Tata Steel Q3 Results Preview: Net profit likely at Rs 630 crore, EBITDA may grow 25% \" class=\"img-res\"></a><a href=\"https://www.zeebiz.com/companies/news-tata-steel-q3-fy24-results-preview-earnings-share-price-nse-bse-tatasteel-273272\" title=\"Tata Steel Q3 Results Preview: Net profit likely at Rs 630 crore, EBITDA may grow 25%\"><h3 class=\"creTrendingheading\" > Tata Steel Q3 Results Preview: Net profit likely at Rs 630 crore, EBITDA may grow 25% </h3></a></div><div class=\"crewhitebg splide__slide_tranding\" data-postid=\"273308\" data-articlename=\"OnePlus 12 Series: OnePlus 12, OnePlus 12R unveiled - Check price and features\" data-count=\"10\" data-Category=\"Technology\"><a href=\"https://www.zeebiz.com/technology/news-oneplus-12-price-in-india-features-camera-specs-oneplus-12r-oneplus-buds-3-price-offers-discount-273308\" title=\"OnePlus 12 Series: OnePlus 12, OnePlus 12R unveiled - Check price and features\"><img class=\"img-responsive\"  src=\"https://cdn.zeebiz.com/sites/default/files/styles/zeebiz_700x394/public/2024/01/24/277402-oneplus12launch.jpg?itok=SOcZwAqw\" alt=\" OnePlus 12 Series: OnePlus 12, OnePlus 12R unveiled - Check price and features  \" class=\"img-res\"></a><a href=\"https://www.zeebiz.com/technology/news-oneplus-12-price-in-india-features-camera-specs-oneplus-12r-oneplus-buds-3-price-offers-discount-273308\" title=\"OnePlus 12 Series: OnePlus 12, OnePlus 12R unveiled - Check price and features\"><h3 class=\"creTrendingheading\" > OnePlus 12 Series: OnePlus 12, OnePlus 12R unveiled - Check price and features  </h3></a></div><div class=\"crewhitebg splide__slide_tranding\" data-postid=\"273266\" data-articlename=\"CG Power and Industrial Solutions Q3 result: Net profit falls 15% to Rs 197 crore\" data-count=\"11\" data-Category=\"Companies\"><a href=\"https://www.zeebiz.com/companies/news-cg-power-and-industrial-solutions-q3-result-net-profit-falls-15-percent-to-rs-197-crore-273266\" title=\"CG Power and Industrial Solutions Q3 result: Net profit falls 15% to Rs 197 crore\"><img class=\"img-responsive\"  src=\"https://cdn.zeebiz.com/sites/default/files/styles/zeebiz_700x394/public/2024/01/23/277352-company-1.jpg?itok=p8eUPxeA\" alt=\" CG Power and Industrial Solutions Q3 result: Net profit falls 15% to Rs 197 crore \" class=\"img-res\"></a><a href=\"https://www.zeebiz.com/companies/news-cg-power-and-industrial-solutions-q3-result-net-profit-falls-15-percent-to-rs-197-crore-273266\" title=\"CG Power and Industrial Solutions Q3 result: Net profit falls 15% to Rs 197 crore\"><h3 class=\"creTrendingheading\" > CG Power and Industrial Solutions Q3 result: Net profit falls 15% to Rs 197 crore </h3></a></div><div class=\"crewhitebg splide__slide_tranding\" data-postid=\"273316\" data-articlename=\"Gold and Silver rate today (January 24, 2024): Precious metals subdued; yellow metal near Rs 62,000; white metal above Rs 71,000\" data-count=\"12\" data-Category=\"Commodities\"><a href=\"https://www.zeebiz.com/markets/commodities/news-gold-and-silver-rate-today-january-24-2024-check-24k-gold-price-in-mumbai-delhi-chennai-kolkata-and-other-cities-273316\" title=\"Gold and Silver rate today (January 24, 2024): Precious metals subdued; yellow metal near Rs 62,000; white metal above Rs 71,000\"><img class=\"img-responsive\"  src=\"https://cdn.zeebiz.com/sites/default/files/styles/zeebiz_700x394/public/2024/01/24/277401-gold-4.jpg?itok=0v4fhGL0\" alt=\" Gold and Silver rate today (January 24, 2024): Precious metals subdued; yellow metal near Rs 62,000; white metal above Rs 71,000 \" class=\"img-res\"></a><a href=\"https://www.zeebiz.com/markets/commodities/news-gold-and-silver-rate-today-january-24-2024-check-24k-gold-price-in-mumbai-delhi-chennai-kolkata-and-other-cities-273316\" title=\"Gold and Silver rate today (January 24, 2024): Precious metals subdued; yellow metal near Rs 62,000; white metal above Rs 71,000\"><h3 class=\"creTrendingheading\" > Gold and Silver rate today (January 24, 2024): Precious metals subdued; yellow metal near Rs 62,000; white metal above Rs 71,000 </h3></a></div><div class=\"crewhitebg splide__slide_tranding\" data-postid=\"273263\" data-articlename=\"Mutual fund guide: Can I withdraw funds anytime? Here are important factors to consider\" data-count=\"13\" data-Category=\"Personal Finance\"><a href=\"https://www.zeebiz.com/personal-finance/news-mutual-fund-exit-load-calculator-can-withdraw-funds-anytime-here-are-important-factors-to-consider-273263\" title=\"Mutual fund guide: Can I withdraw funds anytime? Here are important factors to consider\"><img class=\"img-responsive\"  src=\"https://cdn.zeebiz.com/sites/default/files/styles/zeebiz_700x394/public/2024/01/23/277348-mf-fp.png?itok=8urJZdWg\" alt=\" Mutual fund guide: Can I withdraw funds anytime? Here are important factors to consider \" class=\"img-res\"></a><a href=\"https://www.zeebiz.com/personal-finance/news-mutual-fund-exit-load-calculator-can-withdraw-funds-anytime-here-are-important-factors-to-consider-273263\" title=\"Mutual fund guide: Can I withdraw funds anytime? Here are important factors to consider\"><h3 class=\"creTrendingheading\" > Mutual fund guide: Can I withdraw funds anytime? Here are important factors to consider </h3></a></div><div class=\"crewhitebg splide__slide_tranding\" data-postid=\"273310\" data-articlename=\"Asian stocks | Stocks gain as potential China rescue package lifts mood\" data-count=\"14\" data-Category=\"World\"><a href=\"https://www.zeebiz.com/world/news-asian-stocks-stocks-gain-as-potential-china-rescue-package-lifts-mood-273310\" title=\"Asian stocks | Stocks gain as potential China rescue package lifts mood\"><img class=\"img-responsive\"  src=\"https://cdn.zeebiz.com/sites/default/files/styles/zeebiz_700x394/public/2024/01/24/277405-screenshot-2024-01-24-091117.png?itok=ByT9Nd31\" alt=\" Asian stocks | Stocks gain as potential China rescue package lifts mood \" class=\"img-res\"></a><a href=\"https://www.zeebiz.com/world/news-asian-stocks-stocks-gain-as-potential-china-rescue-package-lifts-mood-273310\" title=\"Asian stocks | Stocks gain as potential China rescue package lifts mood\"><h3 class=\"creTrendingheading\" > Asian stocks | Stocks gain as potential China rescue package lifts mood </h3></a></div></div></div></p>\\n<h2><strong>\\'Salaar Part 1: Ceasefire\\' Box Office Collection Day 1</strong></h2>\\n<p>According to industry tracker Sacnilk, the movie earned Rs 90.7 crore on the opening day in the domestic box office.</p><div class=\\'block margin-bt30px adATF\\'><div id=\\'div-gpt-ad-AS-Inarticle-2\\'></div><script>\\n      googletag.cmd.push(function() {\\n        googletag.defineSlot(\\'/11440465/Zeebiz_Web/Zeebiz_AS_Inarticle_2_300x250\\', [300, 250], \\'div-gpt-ad-AS-Inarticle-2\\').addService(googletag.pubads());\\n        googletag.display(\\'div-gpt-ad-AS-Inarticle-2\\');\\n      });\\n    </script></div></p>\\n<h2><strong>Salaar: Part-1 Ceasefire - Trailer</strong></h2>\\n<p><iframe allow=\"accelerometer; autoplay; clipboard-write; encrypted-media; gyroscope; picture-in-picture; web-share\" allowfullscreen=\"\" frameborder=\"0\" height=\"315\" src=\"https://www.youtube.com/embed/Pr2jBvbiy04?si=Eg1p20dzqJ19E_ix\" title=\"YouTube video player\" width=\"560\"></iframe></p>\\n<h2><strong>Salaar Part 1: Ceasefire: Day-Wise Collection So Far</strong></h2>\\n<p>Day 1 [1st Friday] - Rs 90.7 crore<br />\\nDay 2 [1st Saturday] - Rs 56.35 crore<br />\\nDay 3 [1st Sunday] - Rs 62.05 crore<br />\\nDay 4 [1st Monday] - Rs 46.3 crore<br />\\nDay 5 [1st Tuesday] - Rs 7.5 crore (estimated so far)<br />\\nTotal - Rs 262.9 crore</p>\\n<h2><strong>About \\'Salaar Part 1: Ceasefire\\'</strong></h2>\\n<p>The story of the movie revolves around a gang leader who tries to keep a promise made to his dying friend and takes on criminal gangs.</p>\\n<h2><strong>Salaar: Part-1 Ceasefire - Cast</strong></h2>\\n<p>Besides Prabhas, the film also stars Prithviraj Sukumaran and Shruti Haasan in prominent roles. The action-drama also features Tinnu Anand, Jagapathi Babu, Madhu Guruswamy, and others.</p>\\n<h2><strong>Salaar: Part-1 Ceasefire - IMDb Rating</strong></h2>\\n<p>The IMDB rating of the film is 6.9 out of 10.</p>\\n</div></div></div></div>\\n   </div>\\n<div class=\"tag-block hidden-xs\">\\n  <div class=\"row\">\\n    <div class=\"col-sm-1 col-md-1\">\\n      <strong class=\"tag-txt\">TAGS: </strong>\\n    </div>\\n    <div class=\"col-sm-11 col-md-11\">\\n      <div class=\"tag-link\">\\n        <a href=\\'/topics/entertainment\\'>entertainment</a><a href=\\'/topics/salaar-part-1-ceasefire\\'>Salaar Part 1: Ceasefire</a><a href=\\'/topics/box-office\\'>Box Office</a>      </div>\\n    </div>\\n  </div>\\n</div>\\n<div style=\"display:none;\">\\n</div>\\n<!--NEXT ARTICLE BLOCK CLOSE HERE-->\\n\\n<div class=\"clearfix\"></div>\\n<div class=\"article-also-read-box visible-xs visible-sm hidden-xs\">\\n <div class=\"view view-zbiz-st-mc-also-read view-id-zbiz_st_mc_also_read view-display-id-block_2 view-dom-id-dfa15b7b12c67376ae2de2140d29c49f\">\\n        \\n  \\n  \\n      <div class=\"view-content\">\\n        <div class=\"views-row-odd views-row-first views-row-last\">\\n      \\n              </div>\\n    </div>\\n  \\n  \\n  \\n  \\n  \\n  \\n</div> <div class=\"clearfix\"></div>\\n \\n</div>\\n\\n<div class=\"clearfix\"></div>\\n<div class=\"fb-comments-zee\" data-href=\"//www.zeebiz.com/trending/entertainment/news-salaar-part-1-ceasefire-vs-dunki-box-office-collection-christmas-day-prabhas-action-thriller-crosses-rs-250-crore-mark-way-ahead-of-srk-dunki-story-imdb-rating-cast-269976\" data-width=\"100%\" data-numposts=\"10\">\\n <div class=\"show-comment sr269976\">\\n\\n </div>\\n</div>\\n\\n<div class=\"clearfix\"></div>\\n\\n<div id=\"out-269976\">\\n  <div class=\"clearfix\"></div>\\n  <div id=\"taboola-below-article-thumbnails\"></div>\\n  \\n</div>\\n\\n\\n</div>\\n</div>\\n <div class=\"col-lg-3 col-md-3 col-sm-12 sidebar269976 pad-left25 col-md-pull-9\">\\n      <div class=\"sidebar-inner\">\\n        <span class=\"writerbox\">\\n        <style>.writerbox{display: block;}.date{line-height: 18px;}</style>\\n         \\n\\n\\n                      <div class=\"writer-name\">Written By: <span>Priya Vishwakarma</span></div>\\n      \\n\\n               <div class=\"writer-name\">Edited By: <span>Shaghil Bilali</span></div>\\n   \\n\\n   <div class=\"date\">\\n    Updated: Tue, Dec 26, 2023<br>05:26 pm  </div>\\n  \\n <div class=\"date\">PTI</div>\\n</span>\\n    <div class=\"article-also-read-box visible-lg visible-md\">\\n     <div class=\"relative-news-box\">\\n      <div class=\"also-read-head\">RELATED NEWS</div>\\n             <div class=\"also-read-content-box clearfix\">\\n        <a  title=\"Mrunal Thakur, Nani\\'s \\'Hi Nanna\\' to be out on OTT on this date\" href=\"/trending/entertainment/news-mrunal-thakur-nanis-hi-nanna-to-be-out-on-ott-on-this-date-270460\" class=\"also-read-bluelink\">\\n         <img src=\"https://cdn.zeebiz.com/sites/default/files/styles/zeebiz_160x90/public/2023/12/30/274668-hi-nanna-netflix.jpg?itok=H6Icni4p\" alt=\"Mrunal Thakur, Nani\\'s \\'Hi Nanna\\' to be out on OTT on this date\" class=\"img-responsive margin-bt7 margin-rt10\" title=\"Mrunal Thakur, Nani\\'s \\'Hi Nanna\\' to be out on OTT on this date\">         Mrunal Thakur, Nani\\'s \\'Hi Nanna\\' to be out on OTT on this date</a>\\n       </div>\\n            <div class=\"also-read-content-box clearfix\">\\n        <a  title=\"Salaar Vs Dunki Box Office Collection: Prabhas starrer action-thriller crosses Rs 300 crore mark, way ahead of SRK\\'s film | Check details\" href=\"/trending/entertainment/news-salaar-vs-dunki-box-office-collection-prabhas-action-thriller-crosses-rs-300-crore-mark-srk-comedy-drama-rs-161-crore-story-imdb-rating-270420\" class=\"also-read-bluelink\">\\n         <img src=\"https://cdn.zeebiz.com/sites/default/files/styles/zeebiz_160x90/public/2023/12/29/274623-salaar-vs-dunki.jpg?itok=IgEYW6X9\" alt=\"Salaar Vs Dunki Box Office Collection: Prabhas starrer action-thriller crosses Rs 300 crore mark, way ahead of SRK\\'s film | Check details\" class=\"img-responsive margin-bt7 margin-rt10\" title=\"Salaar Vs Dunki Box Office Collection: Prabhas starrer action-thriller crosses Rs 300 crore mark, way ahead of SRK\\'s film | Check details\">         Salaar Vs Dunki Box Office Collection: Prabhas starrer action-thriller crosses Rs 300 crore mark, way ahead of SRK\\'s film | Check details</a>\\n       </div>\\n            <div class=\"also-read-content-box clearfix\">\\n        <a  title=\"\\'Salaar Part 1: Ceasefire\\' Day 6 collection: Prabhas starrer action-thriller crosses Rs 500 crore mark worldwide | Check day-wise collection, other details\" href=\"/trending/entertainment/news-salaar-part-1-ceasefire-box-office-collection-christmas-day-prabhas-action-thriller-crosses-rs-500-crore-mark-worldwide-story-imdb-rating-cast-270278\" class=\"also-read-bluelink\">\\n         <img src=\"https://cdn.zeebiz.com/sites/default/files/styles/zeebiz_160x90/public/2023/12/28/274482-salaar-twitter1.jpg?itok=i2wIGHOA\" alt=\"\\'Salaar Part 1: Ceasefire\\' Day 6 collection: Prabhas starrer action-thriller crosses Rs 500 crore mark worldwide | Check day-wise collection, other details\" class=\"img-responsive margin-bt7 margin-rt10\" title=\"\\'Salaar Part 1: Ceasefire\\' Day 6 collection: Prabhas starrer action-thriller crosses Rs 500 crore mark worldwide | Check day-wise collection, other details\">         \\'Salaar Part 1: Ceasefire\\' Day 6 collection: Prabhas starrer action-thriller crosses Rs 500 crore mark worldwide | Check day-wise collection, other details</a>\\n       </div>\\n            <div class=\"also-read-content-box clearfix\">\\n        <a  title=\"Dunki Box Office Collection Day 2: Shah Rukh Khan-starrer fails to match Salaar\\'s opening day collections despite two days of earning\" href=\"/trending/entertainment/news-dunki-box-office-collection-day-2-shah-rukh-khan-starrer-struggling-to-bring-audience-story-imdb-rating-cast-details-269789\" class=\"also-read-bluelink\">\\n         <img src=\"https://cdn.zeebiz.com/sites/default/files/styles/zeebiz_160x90/public/2023/12/23/274033-dunki-srk-twitter-1.jpg?itok=lKNxmXO0\" alt=\"Dunki Box Office Collection Day 2: Shah Rukh Khan-starrer fails to match Salaar\\'s opening day collections despite two days of earning\" class=\"img-responsive margin-bt7 margin-rt10\" title=\"Dunki Box Office Collection Day 2: Shah Rukh Khan-starrer fails to match Salaar\\'s opening day collections despite two days of earning\">         Dunki Box Office Collection Day 2: Shah Rukh Khan-starrer fails to match Salaar\\'s opening day collections despite two days of earning</a>\\n       </div>\\n            <div class=\"also-read-content-box clearfix\">\\n        <a  title=\"Dunki vs Pathaan vs Jawan Vs Animal Box Office Collection Day 1: Shah Rukh Khan starrer takes a slow start, barely manages to cross Rs 30 crore on opening day\" href=\"/trending/entertainment/news-dunki-box-office-collection-day-1-vs-pathaan-vs-jawan-vs-animal-shah-rukh-khan-bollywood-movie-cast-story-imdb-rating-269762\" class=\"also-read-bluelink\">\\n         <img src=\"https://cdn.zeebiz.com/sites/default/files/styles/zeebiz_160x90/public/2023/12/22/274004-dunki-srk-twitter-1.jpg?itok=aUqBaLX4\" alt=\"Dunki vs Pathaan vs Jawan Vs Animal Box Office Collection Day 1: Shah Rukh Khan starrer takes a slow start, barely manages to cross Rs 30 crore on opening day\" class=\"img-responsive margin-bt7 margin-rt10\" title=\"Dunki vs Pathaan vs Jawan Vs Animal Box Office Collection Day 1: Shah Rukh Khan starrer takes a slow start, barely manages to cross Rs 30 crore on opening day\">         Dunki vs Pathaan vs Jawan Vs Animal Box Office Collection Day 1: Shah Rukh Khan starrer takes a slow start, barely manages to cross Rs 30 crore on opening day</a>\\n       </div>\\n     \\n   </div>\\n </div>\\n\\n\\n\\n</div>\\n</div>\\n</div>\\n</div>\\n</div>\\n\\n<div class=\"clearfix\"></div>\\n<script type=\"text/javascript\">\\n  (function ($) {\\n    Drupal.behaviors.ctags = {\\n      attach: function(context, settings) {\\n        var len = $(\\'#fieldcontent\\').find(\\'div.field-item > p\\').length;\\n        var alen = plen = aSpos = aLpos = tpos = 0;\\n        $(\\'ul.tag\\').children(\\'li\\').each(function(i, n) {\\n          mytag = ($(this).html());\\n          mytext = \\' \\' + ($(this).text()) + \\' \\';\\n          $(\\'#fieldcontent\\').find(\\'div.field-item\\').children(\\'p\\').html(function(k, v){\\n            alen = plen = aSpos = aLpos = tpos = 0;\\n            alen = ($(this).find(\"a\").length);\\n            if(alen>0){\\n             aSpos = v.indexOf(\"<a\");\\n             aLpos = v.indexOf(\"</a>\")\\n           }\\n           tpos = v.indexOf(mytext);\\n           if(tpos>aSpos && tpos<aLpos){\\n\\t\\t\\t\\t\\t\\t}else{\\n\\t\\t\\t\\t\\t\\t\\tif (k < len){\\n\\t\\t\\t\\t\\t\\t\\t\\treturn v.replace(mytext, \\' \\' + mytag + \\' \\');\\n\\t\\t\\t\\t\\t\\t\\t}\\n\\t\\t\\t\\t\\t\\t}\\n\\t\\t\\t\\t\\t});\\n        });\\n      }\\n    };\\n  })(jQuery);\\n</script>\\n</div>\\n  </div>\\n</div>\\n  </div>\\n\\n                </div>\\n              </div>\\n\\n              <div  id=\"main-rhs269976\" class=\"col-lg-3 col-md-3 col-sm-12 col-xs-12 col-right padding-left  hidden-xs sidebar269976\">\\n                <div class=\"padding-right sidebar-inner main-contents 269976\">\\n                  <aside>\\n                                          <div class=\"margin-bt40 ad margin-tp20 adATF\">\\n                        <!-- /11440465/Zeebiz_Web/Zeebiz_AS_ATF_300x250 -->\\n                        <div id=\\'div-gpt-ad-1456225340086-2\\'  style=\\'width:300px;\\'>\\n                          <script type=\\'text/javascript\\'>\\n                            googletag.cmd.push(function() { googletag.display(\\'div-gpt-ad-1456225340086-2\\'); });\\n                          </script>\\n                        </div>\\n                      </div>\\n                                        <div class=\"margin-bt40 clearfix\">\\n                      <div class=\"markettp clearfix\">\\n                       <p><a rel=\"nofollow\" class=\"bgnon\">LATEST NEWS</a></p>\\n                     </div>\\n                     <div class=\"view view-zbiz-hp-rb-most-read view-id-zbiz_hp_rb_most_read view-display-id-block_3 bxborcontr2 content-box view-dom-id-cac73f3b828e907114080d5b76f5c45d\">\\n        \\n  \\n  \\n      <div class=\"view-content\">\\n        <div class=\"vidbxrgt4 vidbxrgt4-new clearfix \">\\n    \\n<h4 class=\"right-title\"><a href=\"/companies/news-rec-q3-results-net-profit-rises-135-percent-to-rs-330842-crore-273247\">REC Q3 results: Net profit rises 13.5% to Rs 3,308.42 crore</a></h4>  </div>\\n  <div class=\"vidbxrgt4 vidbxrgt4-new clearfix \">\\n    \\n<h4 class=\"right-title\"><a href=\"/india/news-delhi-records-minimum-temp-of-83-air-quality-severe-at-some-stations-273322\">Delhi records minimum temp of 8.3, air quality &#039;severe&#039; at some stations</a></h4>  </div>\\n  <div class=\"vidbxrgt4 vidbxrgt4-new clearfix \">\\n    \\n<h4 class=\"right-title\"><a href=\"/markets/stocks/news-axis-bank-share-price-today-nse-target-2024-q3-results-nii-nim-profit-top-nifty50-loser-revenue-brokerages-should-you-buy-sell-hold-273318\">Axis Bank stock plunges after Q3 profit, NII, NIM fall short of Street expectations; should investors be worried?</a></h4>  </div>\\n  <div class=\"vidbxrgt4 vidbxrgt4-new clearfix \">\\n    \\n<h4 class=\"right-title\"><a href=\"/markets/stocks/news-traders-diary-buy-sell-or-hold-strategy-on-axis-bank-pidilite-industries-havells-india-cyient-dlm-ongc-over-a-dozen-other-stocks-today-273309\">Traders&#039; Diary: Buy, sell or hold strategy on Axis Bank, Pidilite Industries, Havells India, Cyient DLM, ONGC, over a dozen other stocks today</a></h4>  </div>\\n  <div class=\"vidbxrgt4 vidbxrgt4-new clearfix \">\\n    <div id=\"taboola-right-rail-hybrid-thumbnails\"></div>\\n<script type=\"text/javascript\">\\n  window._taboola = window._taboola || [];\\n  _taboola.push({\\n    mode: \\'alternating-thumbnails-rr\\',\\n    container: \\'taboola-right-rail-hybrid-thumbnails\\',\\n    placement: \\'Right Rail Hybrid Thumbnails\\',\\n    target_type: \\'mix\\'\\n  });\\n</script>\\n\\n<h4 class=\"right-title\"><a href=\"/markets/stocks/news-zomato-stock-jumps-after-swiggy-increases-platform-fee-from-rs-5-to-10-bse-nse-zomato-share-price-nifty-50-zomato-52-week-high-zomato-52-week-low-273319\">Zomato stock jumps after Swiggy increases platform fee from Rs 5 to Rs 10</a></h4>  </div>\\n  <div class=\"vidbxrgt4 vidbxrgt4-new clearfix \">\\n    \\n<h4 class=\"right-title\"><a href=\"/markets/stocks/news-anil-singhvi-strategy-january-24-important-levels-to-track-in-nifty50-nifty-bank-today-273311\">Anil Singhvi strategy January 24: Important levels to track in Nifty50, Nifty Bank today</a></h4>  </div>\\n  <div class=\"vidbxrgt4 vidbxrgt4-new clearfix \">\\n    \\n<h4 class=\"right-title\"><a href=\"/market-news/news-first-trade-sensex-slips-over-200-pts-nifty-below-21250-axis-bank-down-over-4-percent-post-q3-results-hero-motocorp-asian-paints-mahindra-and-mahindra-bharti-airtel-273314\">FIRST TRADE: Sensex slips over 350 pts; Nifty below 21,150; Axis Bank plunges post-Q3 results</a></h4>  </div>\\n  <div class=\"vidbxrgt4 vidbxrgt4-new clearfix \">\\n    \\n<h4 class=\"right-title\"><a href=\"/companies/news-axis-bank-q3-fy24-results-latest-news-share-price-nse-bse-profit-nii-nim-npa-273254\">Axis Bank Q3 Results: Net profit rises 3.7% to Rs 6,071 crore with over 9% NII growth; asset quality stable</a></h4>  </div>\\n  <div class=\"vidbxrgt4 vidbxrgt4-new clearfix \">\\n    \\n<h4 class=\"right-title\"><a href=\"/markets/commodities/news-gold-and-silver-rate-today-january-24-2024-check-24k-gold-price-in-mumbai-delhi-chennai-kolkata-and-other-cities-273316\">Gold and Silver rate today (January 24, 2024): Precious metals subdued; yellow metal near Rs 62,000; white metal above Rs 71,000</a></h4>  </div>\\n  <div class=\"vidbxrgt4 vidbxrgt4-new clearfix \">\\n    \\n<h4 class=\"right-title\"><a href=\"/world/news-asian-stocks-stocks-gain-as-potential-china-rescue-package-lifts-mood-273310\">Asian stocks | Stocks gain as potential China rescue package lifts mood</a></h4>  </div>\\n    </div>\\n  \\n  \\n  \\n  \\n  \\n  \\n</div>                   </div><!--end of fltlft clearfix-->\\n\\n\\n                   <div class=\"clearfix\"></div>\\n\\n                   <div class=\"clearfix margin-bt40\">\\n                    <a href=\"/live-tv\"><img border=0 src=\"https://cdn.zeebiz.com/html/images/zee_greater-than.jpg\" ></a>\\n\\n                  </div>\\n                                      <div class=\"mrgntp-40px adBTF\" >\\n                      <!-- /11440465/Zeebiz_Web/Zeebiz_AS_BTF_1_300x250 -->\\n                      <div id=\\'div-gpt-ad-1456225340086-3\\' style=\\'width:300px;\\'>\\n                        <script type=\\'text/javascript\\'>\\n                          googletag.cmd.push(function() { googletag.display(\\'div-gpt-ad-1456225340086-3\\'); });\\n                        </script>\\n                      </div>\\n                    </div>\\n                                  </aside>\\n              </div>\\n            </div>\\n          </div>\\n        </div>\\n      </div>\\n      <!--POPUP WINDOW END HERE-->\\n    </div>\\n  </div>\\n  </div>\\n\\n</div><!--end of row-->\\n</div><!--end of main container-->\\n\\n<script src=\"https://cdn.zeebiz.com/html/js/jquery.autopager-1.0.0.js\"></script>\\n<script type=\"text/javascript\">\\n (function ($) {\\n    Drupal.behaviors.pagerload = {\\n      attach: function (context, settings) {\\n        $(document).ready(function () {\\n          var maindiv = false;\\n          var fbcontainer = \\'\\';\\n          var fbid = \\'\\';\\n          var fb_script = document.createElement(\\'script\\');\\n          fb_script.text = \"(function(d, s, id) {var js, fjs = d.getElementsByTagName(s)[0];if (d.getElementById(id)) return;js = d.createElement(s); js.id = id;js.src = \\'//connect.facebook.net/en_GB/sdk.js#xfbml=1&version=v2.9\\';fjs.parentNode.insertBefore(js, fjs);}(document, \\'script\\', \\'facebook-jssdk\\'));\";\\n          var fmain = $(\".sr269976\");\\n          var fdiv = \\'<div class=\"fb-comments\" id=\"fb269976\" data-href=\"\\' + window.location.href + \\'\" data-width=\"100%\" data-numposts=\"10\"></div>\\';\\n          var ci = 1;\\n          var pl = $(\".star269976 > div.field-name-body > div.field-items > div.field-item\").children(\\'p\\').length;\\n          var adcount = 0;\\n          if (pl > 3) {\\n            $(\".star269976 > div.field-name-body > div.field-items > div.field-item\").children(\\'p\\').each(function (i, n) {\\n              ci = parseInt(i) + 1;\\n              t = this;\\n              var htm = $(this).html();\\n              d = $(\"<div id=\\'ad\" + ci + \"-269976\\' class=\\'block margin-bt30px adATF\\' style=\\'height:auto; width:300px; margin:auto; padding-bottom: 20px;\\'></div>\");\\n              if ((i + 1) % 3 == 0 && (i + 1) > 2 && $(this).html().length > 20 && ci < pl && adcount < 3) {\\n                if (adcount == 2) {\\n                  $(\\'<div id=\"taboola-mid-article-thumbnails\"></div>\\').insertAfter(t);\\n                }\\n                adcount++;\\n              } else if (adcount >= 3) {\\n                return false;\\n              }\\n            });\\n          }\\n          // Zee Biz English - Hide FB Comment Module #WBH-1433 - Start \\n          /* \\n            $(fb_script).appendTo(fmain);\\n            $(fdiv).appendTo(fmain); \\n          */\\n          // Zee Biz English - Hide FB Comment Module #WBH-1433 - End\\n          \\n          var rightside = $(\\'div#main-rhs269976 > div.main-contents:first\\').clone();\\n          var outpg = $(\\'body\\').children(\\'.outpage\\');\\n          $(\".sidebar269976\").theiaStickySidebar();\\n          if ($.autopager) {\\n            var use_ajax = true;\\n\\n            function loadshare(curl) {\\n              history.pushState(\\'\\', \\'\\', curl);\\n              if (window.OBR) {\\n                window.OBR.extern.researchWidget();\\n              }\\n              if (_up == false) {\\n                var cu_url = curl;\\n                ga(\\'set\\', \\'page\\', curl);\\n                ga(\\'send\\', \\'pageview\\');\\n              }\\n            }\\n            if (use_ajax == false) {\\n              var view_selector = \\'div#maincontent\\';\\n              var content_selector = view_selector;\\n              var items_selector = content_selector + \\' > div.repeat-block\\';\\n              var pager_selector = \\'div.view-zbiz-article-prev-next > div.view-content > div > div.next-article-blick-biz\\';\\n              var next_selector = \\'div.view-zbiz-article-prev-next > div.view-content > div > div.next-article-blick-biz > a:last\\';\\n              var auto_selector = \\'div.view-zbiz-article-prev-next\\';\\n              var img_location = view_selector + \\' > div.repeat-block:last\\';\\n              var img_path = \\'<span class=\"glyphicon glyphicon-refresh glyphicon-refresh-animate\"></span>\\';\\n              var img = \\'<div id=\"views_infinite_scroll-ajax-loader\"></div>\\';\\n              var x = 0;\\n              var url = \\'\\';\\n              var prevLoc = window.location.pathname;\\n              var circle = \"\";\\n              var myTimer = \"\";\\n              var interval = 30;\\n              var angle = 0;\\n              var Inverval = \"\";\\n              var angle_increment = 6;\\n              var handle = $.autopager({\\n                appendTo: content_selector,\\n                content: items_selector,\\n                runscroll: maindiv,\\n                link: next_selector,\\n                autoLoad: false,\\n                page: 0,\\n                start: function () {\\n                  $(img_location).after(img);\\n                },\\n                load: function () {\\n                  $(\\'#views_infinite_scroll-ajax-loader\\').remove();\\n                  $(\\'div#main-rhs\\' + x).empty();\\n                  //console.log($(\\'div#main-rhs269976 > div.sidebar269976 > div:first\\').text());\\n                  $(\\'#maincontent >.row:last\\').before(\\'<a name=\"s\\' + x + \\'\"></a><div class=\"next-article-block arrow-hor\" ><div class=\"hidden-xs\" id=\"ad-\\' + x + \\'\" class=\"dfp-ad\"></div><div class=\"visible-xs\" id=\"ad-mob-\\' + x + \\'\" class=\"dfp-ad\"></div><div class=\"text-center n-article\">NEXT STORY</div></div>\\');\\n                  $(rightside).clone().appendTo(\\'div#main-rhs\\' + x);\\n                  $(\".sidebar\" + x).theiaStickySidebar();\\n                  var fb_script = document.createElement(\\'script\\');\\n                  fb_script.text = \"(function(d, s, id) {var js, fjs = d.getElementsByTagName(s)[0];if (d.getElementById(id)) return;js = d.createElement(s); js.id = id;js.src = \\'//connect.facebook.net/en_GB/sdk.js#xfbml=1&version=v2.9\\';fjs.parentNode.insertBefore(js, fjs);}(document, \\'script\\', \\'facebook-jssdk\\'));\";\\n                  var fmain = $(\".sr\" + x);\\n                  var fdiv = \\'<div class=\"fb-comments\" id=\"fb\\' + x + \\'\" data-href=\"\\' + url + \\'\" data-width=\"100%\" data-numposts=\"10\"></div>\\';\\n                   // Zee Biz English - Hide FB Comment Module #WBH-1433                 \\n                  //$(fdiv).appendTo(fmain);\\n                  FB.XFBML.parse();\\n                  var $dfpAd = $(\\'#maincontent\\').children().find(\"#ad-\" + x);\\n                  var $dfpAdMob = $(\\'#maincontent\\').children().find(\"#ad-mob-\" + x);\\n                  var $dfpAdrhs = $(\\'#main-rhs\\' + x).children().find(\\'.adATF\\').empty().attr(\"id\", \"ad-300-\" + x);\\n                  var $dfpAdrhs2 = $(\\'#main-rhs\\' + x).children().find(\\'.adBTF\\').empty().attr(\"id\", \"ad-300-2-\" + x);\\n                  $(\\'body\\').children(\\'.outpage\\').empty().append(\\'<div class=\"opage\" id=\"opage\">&nbsp;</div>\\');\\n                  var $dfpAdOutofpage = $(\\'body\\').children(\\'div.opage\\');\\n                  var instagram_script = document.createElement(\\'script\\');\\n                  instagram_script.defer = \\'defer\\';\\n                  instagram_script.async = \\'async\\';\\n                  instagram_script.src = \\'//platform.instagram.com/en_US/embeds.js\\';\\n                  setTimeout(function () {\\n                    var twit = $(\"div.field-name-body\").find(\\'blockquote[class^=\"twitter\"]\\').length;\\n                    var insta = $(\"div.field-name-body\").find(\\'blockquote[class^=\"instagram\"]\\').length;\\n                    if (twit == 0) {\\n                      twit = ($(\"div.field-name-body\").find(\\'twitterwidget[class^=\"twitter\"]\\').length);\\n                    }\\n                    if (twit > 0) {\\n                      if (typeof (twttr) != \\'undefined\\') {\\n                        twttr.widgets.load();\\n\\n                      } else {\\n                        $.getScript(\\'//platform.twitter.com/widgets.js\\');\\n                      }\\n                    }\\n                    if (insta > 0) {\\n                      $(\\'#maincontent >.row:last\\').after(instagram_script);\\n                      window.instgrm.Embeds.process();\\n                    }\\n                  }, 1500);\\n                }\\n              });\\n\\n              $(document).delegate(\"button[id^=\\'mf\\']\", \"click\", function () {\\n                fbcontainer = \\'\\';\\n                fbid = \\'#\\' + $(this).attr(\\'id\\');\\n                var sr = fbid.replace(\"#mf\", \".sr\");\\n\\n                $(fbid).parent().children(sr).toggle();\\n                fbcontainer = $(fbid).parent().children(sr).children(\".fb-comments\").attr(\"id\");\\n              });\\n\\n              var title, imageUrl, description, author, shortName, identifier, timestamp, summary, newsID, nextnews;\\n              var previousScroll = 0;\\n              $(window).scroll(function () {\\n                var last = $(auto_selector).filter(\\':last\\');\\n                var lastHeight = last.offset().top;\\n                var currentScroll = $(this).scrollTop();\\n                if (currentScroll > previousScroll) {\\n                  _up = false;\\n                } else {\\n                  _up = true;\\n                }\\n                previousScroll = currentScroll;\\n                var cutoff = $(window).scrollTop() + 64;\\n                $(\\'div[id^=\"row\"]\\').each(function () {\\n                  if ($(this).offset().top + $(this).height() > cutoff) {\\n                    if (prevLoc != $(this).children().find(\\'.article-box\\').attr(\\'data-url\\')) {\\n                      prevLoc = $(this).children().find(\\'.article-box\\').attr(\\'data-url\\');\\n                      $(\\'html head\\').find(\\'title\\').text($(this).children().find(\\'.article-box\\').attr(\\'data-title\\'));\\n                      loadshare(prevLoc);\\n                    }\\n                    return false; // stops the iteration after the first one on screen\\n                  }\\n                });\\n                if (lastHeight + last.height() < $(document).scrollTop() + $(window).height()) {\\n                  url = $(next_selector).attr(\\'href\\');\\n                  x = $(next_selector).attr(\\'id\\');\\n                }\\n              });\\n            }\\n          }\\n        });\\n      }\\n    };\\n  })(jQuery);\\n\\n</script>\\n<style>\\n  .breadcrumb{padding-left:0px;}\\n  .article-para blockquote {padding:10px 20px; border-left:5px solid #cccccc; margin-bottom:25px; font-style:italic; font-family:Georgia, \"Times New Roman\", Times, serif;}\\n  .next{left:inherit;}\\n\\n  .article-box-new{padding-left:0!important;padding-right:0!important;}\\n  .article-section-new {width:94%;margin:auto;}\\n  .article-start {margin-left:0px !important;}\\n  .vidbxrgt4-new{min-height:auto!important}\\n  .biz-a-sum{color:#909090;font-size:18px;line-height:26px;margin-bottom:15px}\\n  ul.social-biz{margin:0 0 20px;padding:0}\\n  ul.social-biz li{display:inline;margin-right:5px}\\n  .article-heading-biz{margin-bottom:20px!important}\\n  .tag-block{margin-bottom:40px}\\n  .tag-txt{font-size:13px;text-align:center}\\n  .tag-link a{display:inline-block;margin:0 5px 10px 0;font-size:11px;color:#1167b2;font-weight:700;text-transform:uppercase;background:#f9f9f9;border:1px solid #e6e6e6;padding:5px}\\n  .next-article-blick-biz img{float:left;margin-right:20px;margin-top:2px}\\n  .next-article-blick-biz{margin-bottom:40px;background:#2170bb;color:#FFF;padding:8px 10px;cursor:pointer}\\n  .next-article-blick-biz:hover{background:#3f84c5}\\n  .next-article-blick-biz p{font-size:12px;color:#FFF;padding:5px 0;font-weight:700}\\n  .next-article-blick-biz p span{font-size:15px!important;font-weight:400!important;padding-left:5px}\\n  .com-box-biz{margin-bottom:50px}\\n  .next-article-block{border-bottom:1px solid #bbb;padding:10px 0 0;margin-bottom:50px;margin-top:40px;text-align:center}\\n  .n-article{padding:20px 0;font-family:Arial,Helvetica,sans-serif;font-weight:700;font-size:16px;color:#3583cb}\\n  .next-article-block img{margin:auto;text-align:center}\\n  .arrow-hor{position:relative;border-bottom:1px solid #bbb}\\n  .arrow-hor:after,.arrow-hor:before{top:100%;left:50%;border:solid transparent;content:\" \";height:0;width:0;position:absolute;pointer-events:none}\\n  .arrow-hor:before{border-color:rgba(187,187,187,0);border-top-color:#bbb;border-width:15px;margin-left:-15px}\\n  .arrow-hor:after{border-color:rgba(240,240,240,0);border-top-color:#f0f0f0;border-width:14px;margin-left:-14px}\\n  .markettp p a {font-size: 24px;color: #363636;font-weight: bold;text-transform: uppercase;float: left;\\n  background: url(https://cdn.zeebiz.com/html/images/arowheading.png) no-repeat right;padding-right: 30px;margin-right: 0px;\\n}\\n  @media (max-width:767px) {\\n    .tag-txt{text-align:left !important;display:block;margin-bottom:10px;}\\n    .next-article-blick-biz p {overflow:hidden;line-height:18px;padding:0px;}\\n  }\\n</style>\\n<script type=\"text/javascript\">\\n  window._taboola = window._taboola || [];\\n  _taboola.push({\\n    mode: \\'thumbnails-m\\',\\n    container: \\'taboola-mid-article-thumbnails\\',\\n    placement: \\'Mid Article Thumbnails\\',\\n    target_type: \\'mix\\'\\n  });\\n</script>\\n<style>\\n  .padddesktop0{padding: 0;}\\n  .footernwbox{background:#282828}\\n\\n  .footernwdwn{margin:10px 0px 30px 0px; border-bottom:1px solid #3a3939; padding-bottom:15px}\\n  .footernwdwn li{display:inline; line-height:30px; font-size:15px; padding:0px 10px; background:url(https://cdn.zeebiz.com/html/images/buletimgftrnw.png) no-repeat left center}\\n  .footernwdwn li:first-child{background:none; padding-left:0px;}\\n  .footernwdwn li a{color:#d6d6d6}\\n  .footernwdwn li a:hover, .footernwdwn1 li a:hover{color:#1f81cf}\\n\\n  .footernwdwn1{border-bottom:1px solid #3a3939; padding-bottom:15px; margin-bottom:30px}\\n  .footernwdwn1 h2{color:#fff; text-transform:uppercase; font-size:18px; margin-bottom:10px}\\n  .footernwdwn1 li{display:inline; line-height:30px; font-size:15px;}\\n  .footernwdwn1 li a{color:#d6d6d6; padding:0px 10px}\\n  .footernwdwn1 li::after{content:\\'|\\'; color:#6e6e6e}\\n  .footernwdwn1 li:first-child{margin-left:-10px;}\\n  .footernwdwn1 p {color: #fff;text-transform: uppercase;font-size: 18px;margin-bottom: 10px;}\\n\\n  .footernwbox .ftrsoclsubbx{padding: 0 3px;padding-left:0px;}\\n\\n  .footernwdwn2{color:#b3b3b3; font-size:13px; text-align:center; margin-top:-10px; padding-bottom:15px }\\n  #stickyad.stickydiv div[id*=\"div-gpt-ad\"]{padding:0px !important}\\n  #stickyad.stickydiv{position:fixed; bottom:0px;display:none; width:100%;z-index:1000;background:rgba(0,0,0,0.6);}\\n  .date {\\n    display: block;\\n    font-size: 12px;\\n    padding: 6px 20px;\\n    font-family: \\'Noto Serif\\', serif;\\n  }\\n  @media screen and (max-width:480px){\\n    #stickyad.stickydiv{display:block;}\\n    .closestickyadd{position: absolute; top: -16px;padding: 2px 5px; right: 0;background: url(https://cdn.dnaindia.com/sites/all/themes/mobile2017/images/search_cancel.png) no-repeat center rgba(0,0,0,0.6); background-size: 8px 8px; width:12px; height:12px; cursor: pointer;border-radius: 5px 0 0 0;}\\n\\n  }\\n  @media(max-width:768px){\\n   .footernwdwn1mrgnbtm{border-top: 1px solid #3a3939;\\n    margin-top: 25px;\\n    padding-top: 25px;}\\n   .padddesktop0{padding: 0 15px;}\\n\\n  }\\n</style>\\n\\n<style>@media (min-width: 768px) {\\n    .region-highlighted {margin-left: 0px !important;}\\n  }</style>  <!-- jQuery (necessary for Bootstrap\\'s JavaScript plugins) -->\\n  <!-- Include all compiled plugins (below), or include individual files as needed -->\\n  <script src=\"https://cdn.zeebiz.com/html/js/bootstrap.min.js\"></script>\\n  <script type=\"text/javascript\" src=\"https://cdn.zeebiz.com/sites/all/themes/zeebiz/html/js/jquery.bxSlider.min.js?v=1\"></script>\\n  <script type=\"text/javascript\" src=\"https://cdn.zeebiz.com/sites/all/themes/zeebiz/html/js/scriptbiz-1.js\"></script>\\n  \\n\\n\\n\\n<script type=\"text/javascript\" src=\"https://cdn.zeebiz.com/html/js/stick-n.js\"></script>\\n<script  type=\"text/javascript\">\\n  (function ($) {\\n    Drupal.behaviors.rightbarstick = {\\n      attach: function (context, settings) {\\n       $(document).ready(function(){\\n         if($(location).attr(\\'pathname\\')==\\'/union-budget\\'){\\n          $(\\'.timer-block\\').remove();\\n        }\\n        $(\".sidebar\").theiaStickySidebar();\\n        $(\".closestickyadd\").click(function(){\\n         $(\\'#stickyad\\').hide();\\n       });\\n      });\\n     }\\n   };\\n })(jQuery);\\n</script>\\n<script>\\n  (function ($) {\\n    Drupal.behaviors.loadmorecs = {\\n      attach: function(context, settings) {\\n        $(\".pager-load-more\").find(\"span\").remove();\\n        $(\".pager-load-more\").find(\"a\").append(\"<span class=\\'caret\\'></span>\");\\n      }\\n    };\\n  })(jQuery);\\n</script>\\n<script>\\n\\t(function ($) {\\n   Drupal.behaviors.footerequalh = {\\n     attach: function (context, settings) {\\n      $(window).on(\\'load\\', function() {\\n        equalHeight($(\".equal_height\"));\\n      });\\n\\n      $(\".subbtn\").click(function(){\\n       location.href=\\'/google?search=\\' + $(\".fildsrch\").val();\\n       return false;\\n     });\\n\\n      function equalHeight(group) {\\n        tallest = 0;\\n        group.each(function() {\\n          thisHeight = $(this).height();\\n          if(thisHeight > tallest) {\\n            tallest = thisHeight;\\n          }\\n        });\\n        group.height(tallest);\\n\\n      }\\n      $(window).resize(function(){\\n       $(\\'.equal_height\\').height(\\'auto\\');\\n       equalHeight($(\".equal_height\"));\\n     });\\n\\n      $(window).scroll(function() {\\n       var height = $(\\'.article-section\\').height();\\n       if($(this).scrollTop() < height) {\\n        $(\\'.social-share-list\\').fadeIn();\\n        $(\\'.prev-node\\').fadeIn();\\n        $(\\'.next-node\\').fadeIn();\\n      } else {\\n        $(\\'.social-share-list\\').fadeOut();\\n        $(\\'.prev-node\\').fadeOut();\\n        $(\\'.next-node\\').fadeOut();\\n      }\\n    });\\n\\n    }\\n  };\\n})(jQuery);\\n\\n</script>\\n<script>\\n  $(document).ready(function(){\\n    if($(\\'.budgethighlightslide\\').length){\\n      $(\\'.budgethighlightslide\\').bxSlider({\\n        auto: false,\\n        minSlides: 2,\\n        maxSlides: 5,\\n        moveSlides: 1,\\n        touchEnabled: true,\\n        pager: false,\\n        slideWidth: 250\\n      });\\n    }\\n\\n    if($(\\'.inn-slider\\').length){\\n      $(\\'.inn-slider\\').bxSlider({\\n        auto: false,\\n        minSlides: 1,\\n        maxSlides: 3,\\n        touchEnabled: true,\\n        pager: false,\\n        slideWidth: 320,\\n        moveSlides: 1,\\n        slideMargin: 30\\n\\n      });\\n    }\\n\\n  });\\n</script>\\n  <script type=\"\">\\n    (function() {\\n      $(document).ready(function() {\\n  \\t\\t  $(\\'.borbtmgrylead div:first\\').attr(\\'data-tb-region\\',\\'Lead Area\\');\\n  \\t\\t  $(\\'.borbtmgrylead div:first div:first\\').attr(\\'data-tb-region-item\\',\\'\\');\\n  \\t\\t  $(\\'.borrgtgry3 div:first .view-content\\').attr(\\'data-tb-region\\',\\'Mini Lead Area\\');\\n  \\t\\t  $(\\'.borrgtgry3 div:first .view-content .borrgtgry2\\').attr(\\'data-tb-region-item\\',\\'\\');\\n  \\t\\t  // video\\n  \\t\\t  $(\\'.bxslidervideo div:first div:first .view-content\\').attr(\\'data-tb-region\\',\\'Videos Lead\\');\\n\\n  \\t\\t  $(\\'.max-video div.bxslidervideo div div:first\\').siblings().children().first().attr(\\'data-tb-region\\',\\'Videos Mini 1\\');\\n\\n  \\t\\t  $(\\'.max-video div.bxslidervideo div div:first\\').siblings().children().last().attr(\\'data-tb-region\\',\\'Videos Mini 2\\');\\n  \\t\\t  $(\\'.max-video div.bxslidervideo div.vidbxrgt1\\').attr(\\'data-tb-region-item\\',\\'\\');\\n\\n  \\t\\t  $(\\'#block-views-zbiz-hp-mc-india-news-block section div.bxborcontr div:first\\').attr(\\'data-tb-region\\',\\'India Lead Area\\');\\n  \\t\\t  $(\\'#block-views-zbiz-hp-mc-india-news-block section div.bxborcontr div:first div:first\\').attr(\\'data-tb-region-item\\',\\'\\');\\n  \\t\\t  $(\\'#block-views-zbiz-hp-mc-india-news-block section div.bxborcontr div:first\\').siblings().children().first().attr(\\'data-tb-region\\',\\'India Mini Lead 1\\');\\n  \\t\\t  $(\\'#block-views-zbiz-hp-mc-india-news-block section div.bxborcontr div:first\\').siblings().children().last().attr(\\'data-tb-region\\',\\'India Mini Lead 2\\');\\n  \\t\\t  $(\\'#block-views-zbiz-hp-mc-india-news-block section div.bxborcontr div.vidbxrgt2\\').attr(\\'data-tb-region-item\\',\\'\\');\\n\\n  \\t\\t  $(\\'#block-views-zbiz-hp-mc-market-news-block section div.bxborcontr div:first\\').attr(\\'data-tb-region\\',\\'World Lead Area\\');\\n  \\t\\t  $(\\'#block-views-zbiz-hp-mc-market-news-block section div.bxborcontr div:first div:first\\').attr(\\'data-tb-region-item\\',\\'\\');\\n  \\t\\t  $(\\'#block-views-zbiz-hp-mc-market-news-block section div.bxborcontr div:first\\').siblings().children().first().attr(\\'data-tb-region\\',\\'World Mini Lead 1\\');\\n  \\t\\t  $(\\'#block-views-zbiz-hp-mc-market-news-block section div.bxborcontr div:first\\').siblings().children().last().attr(\\'data-tb-region\\',\\'World Mini Lead 2\\');\\n  \\t\\t  $(\\'#block-views-zbiz-hp-mc-market-news-block section div.bxborcontr div.vidbxrgt2\\').attr(\\'data-tb-region-item\\',\\'\\');\\n\\n  \\t\\t  $(\\'#block-views-zbiz-hp-mc-economy-block section div.bxborcontr div:first\\').attr(\\'data-tb-region\\',\\'Companies Lead Area\\');\\n  \\t\\t  $(\\'#block-views-zbiz-hp-mc-economy-block section div.bxborcontr div:first div:first\\').attr(\\'data-tb-region-item\\',\\'\\');\\n  \\t\\t  $(\\'#block-views-zbiz-hp-mc-economy-block section div.bxborcontr div:first\\').siblings().children().first().attr(\\'data-tb-region\\',\\'Companies Mini Lead 1\\');\\n  \\t\\t  $(\\'#block-views-zbiz-hp-mc-economy-block section div.bxborcontr div:first\\').siblings().children().last().attr(\\'data-tb-region\\',\\'Companies Mini Lead 2\\');\\n  \\t\\t  $(\\'#block-views-zbiz-hp-mc-economy-block section div.bxborcontr div.vidbxrgt2\\').attr(\\'data-tb-region-item\\',\\'\\');\\n\\n  \\t\\t  $(\\'#block-views-zbiz-hp-mc-tech-gadgets-block section div.bxborcontr div:first\\').attr(\\'data-tb-region\\',\\'Technology Lead Area\\');\\n  \\t\\t  $(\\'#block-views-zbiz-hp-mc-tech-gadgets-block section div.bxborcontr div:first div:first\\').attr(\\'data-tb-region-item\\',\\'\\');\\n  \\t\\t  $(\\'#block-views-zbiz-hp-mc-tech-gadgets-block section div.bxborcontr div:first\\').siblings().children().first().attr(\\'data-tb-region\\',\\'Technology Mini Lead 1\\');\\n  \\t\\t  $(\\'#block-views-zbiz-hp-mc-tech-gadgets-block section div.bxborcontr div:first\\').siblings().children().last().attr(\\'data-tb-region\\',\\'Technology Mini Lead 2\\');\\n  \\t\\t  $(\\'#block-views-zbiz-hp-mc-tech-gadgets-block section div.bxborcontr div.vidbxrgt2\\').attr(\\'data-tb-region-item\\',\\'\\');\\n\\n  \\t\\t  $(\\'#block-views-zbiz-hp-mc-automobiles-block section div.bxborcontr div:first\\').attr(\\'data-tb-region\\',\\'Automobile Lead Area\\');\\n  \\t\\t  $(\\'#block-views-zbiz-hp-mc-automobiles-block section div.bxborcontr div:first div:first\\').attr(\\'data-tb-region-item\\',\\'\\');\\n  \\t\\t  $(\\'#block-views-zbiz-hp-mc-automobiles-block section div.bxborcontr div:first\\').siblings().children().first().attr(\\'data-tb-region\\',\\'Automobile Mini Lead 1\\');\\n  \\t\\t  $(\\'#block-views-zbiz-hp-mc-automobiles-block section div.bxborcontr div:first\\').siblings().children().last().attr(\\'data-tb-region\\',\\'Automobile Mini Lead 2\\');\\n  \\t\\t  $(\\'#block-views-zbiz-hp-mc-automobiles-block section div.bxborcontr div.vidbxrgt2\\').attr(\\'data-tb-region-item\\',\\'\\');\\n\\n  \\t\\t  $(\\'#block-views-zbiz-hp-mc-industry-block section div.bxborcontr div:first\\').attr(\\'data-tb-region\\',\\'PersonalFinance Lead Area\\');\\n  \\t\\t  $(\\'#block-views-zbiz-hp-mc-industry-block section div.bxborcontr div:first div:first\\').attr(\\'data-tb-region-item\\',\\'\\');\\n  \\t\\t  $(\\'#block-views-zbiz-hp-mc-industry-block section div.bxborcontr div:first\\').siblings().children().first().attr(\\'data-tb-region\\',\\'PersonalFinance Mini Lead 1\\');\\n  \\t\\t  $(\\'#block-views-zbiz-hp-mc-industry-block section div.bxborcontr div:first\\').siblings().children().last().attr(\\'data-tb-region\\',\\'PersonalFinance Mini Lead 2\\');\\n  \\t\\t  $(\\'#block-views-zbiz-hp-mc-industry-block section div.bxborcontr div.vidbxrgt2\\').attr(\\'data-tb-region-item\\',\\'\\');\\n\\n  \\t\\t  $(\\'#block-views-zbiz-hp-mc-lifestyle-block section div.bxborcontr div:first\\').attr(\\'data-tb-region\\',\\'SmallBusiness Lead Area\\');\\n  \\t\\t  $(\\'#block-views-zbiz-hp-mc-lifestyle-block section div.bxborcontr div:first div:first\\').attr(\\'data-tb-region-item\\',\\'\\');\\n  \\t\\t  $(\\'#block-views-zbiz-hp-mc-lifestyle-block section div.bxborcontr div:first\\').siblings().children().first().attr(\\'data-tb-region\\',\\'SmallBusiness Mini Lead 1\\');\\n  \\t\\t  $(\\'#block-views-zbiz-hp-mc-lifestyle-block section div.bxborcontr div:first\\').siblings().children().last().attr(\\'data-tb-region\\',\\'SmallBusiness Mini Lead 2\\');\\n  \\t\\t  $(\\'#block-views-zbiz-hp-mc-lifestyle-block section div.bxborcontr div.vidbxrgt2\\').attr(\\'data-tb-region-item\\',\\'\\');\\n\\n  \\t\\t  $(\\'.view-zbiz-hp-rb-most-read.view-display-id-block .view-content\\').attr(\\'data-tb-region\\',\\'MostRead Lead Area\\');\\n  \\t\\t  $(\\'.view-zbiz-hp-rb-most-read.view-display-id-block_1 .view-content\\').attr(\\'data-tb-region\\',\\'MostRead Mini Lead Area\\');\\n  \\t\\t  $(\\'.view-zbiz-hp-rb-most-read .view-content .vidbxrgt4\\').attr(\\'data-tb-region-item\\',\\'\\');\\n\\n  \\t\\t  $(\\'.view-zbiz-hp-rb-most-view.view-display-id-block .view-content\\').attr(\\'data-tb-region\\',\\'MostViewed Mini Lead Area\\');\\n  \\t\\t  $(\\'.view-zbiz-hp-rb-most-view .view-content .vidbxrgt4\\').attr(\\'data-tb-region-item\\',\\'\\');\\n\\n  \\t\\t  $(\\'.view-zbiz-editor-pick.view-display-id-block .view-content\\').attr(\\'data-tb-region\\',\\'EditorsPicks Lead Area\\');\\n  \\t\\t  $(\\'.view-zbiz-editor-pick.view-display-id-block_1 .view-content\\').attr(\\'data-tb-region\\',\\'EditorsPicks Mini Lead Area\\');\\n  \\t\\t  $(\\'.view-zbiz-editor-pick .view-content .vidbxrgt4\\').attr(\\'data-tb-region-item\\',\\'\\');\\n\\t\\t  });\\n    })();\\n  </script>\\n  <script type=\\'text/javascript\\'>\\n    window._newsroom = window._newsroom || [];\\n    window._newsroom.push({pageTemplate: \\'home\\'});\\n    window._newsroom.push({pageDashboard: \\'home\\'});\\n    window._newsroom.push(\\'auditClicks\\');\\n    window._newsroom.push(\\'trackPage\\');\\n\\n    !function (e, f, u) {\\n     e.async = 1;\\n     e.src = u;\\n     f.parentNode.insertBefore(e, f);\\n   }(document.createElement(\\'script\\'),\\n    document.getElementsByTagName(\\'script\\')[0], \\'//c2.taboola.com/nr/zeemedia-zeebizcom/newsroom.js\\');\\n  </script>\\n  <script type=\"text/javascript\" src=\"https://s.skimresources.com/js/235410X1718621.skimlinks.js\"></script>\\n  <script src=\"https://cdnjs.cloudflare.com/ajax/libs/slick-carousel/1.8.1/slick.min.js\" integrity=\"sha512-XtmMtDEcNz2j7ekrtHvOVR4iwwaD6o/FUJe6+Zq+HgcCsk3kj4uSQQR8weQ2QVj1o0Pk6PwYLohm206ZzNfubg==\" crossorigin=\"anonymous\" referrerpolicy=\"no-referrer\"></script>\\n\\n<link rel=\"stylesheet\" href=\"https://cdnjs.cloudflare.com/ajax/libs/slick-carousel/1.8.1/slick.min.css\" integrity=\"sha512-yHknP1/AwR+yx26cB1y0cjvQUMvEa2PFzt1c9LlS4pRQ5NOTZFWbhBig+X9G9eYW/8m0/4OXNx8pxJ6z57x0dw==\" crossorigin=\"anonymous\" referrerpolicy=\"no-referrer\" />\\n\\n<link rel=\"stylesheet\" href=\"https://cdnjs.cloudflare.com/ajax/libs/slick-carousel/1.8.1/slick-theme.css\" integrity=\"sha512-6lLUdeQ5uheMFbWm3CP271l14RsX1xtx+J5x2yeIDkkiBpeVTNhTqijME7GgRKKi6hCqovwCoBTlRBEC20M8Mg==\" crossorigin=\"anonymous\" referrerpolicy=\"no-referrer\" />\\n<style>\\n  .mgbt30{margin-bottom: 30px;}\\n    .img-res{max-width: 100%;height: auto;}\\n    .slick-track{display: flex ;}\\n    .slick-slide{height: inherit ;}\\n    .slick-track {margin-left:0 !important;}\\n    .creTrendingnow{background: #E5E5E5;padding: 15px 40px 15px 50px;position: relative;top:20px}\\n    .creRecommended{padding: 15px 30px;position: relative;}\\n    .crewhitebg{background: #fff;padding: 8px;margin-right: 10px;}\\n    .borRad4px{border-radius: 4px;}\\n    .creheadtxt{color:#1F1F1F;text-transform: uppercase;font-size: 15px;font-weight: bold; margin-left: -15px; margin-bottom: 15px;position: absolute;top: -20px;left: 15px;width: 100%;height: 40px;margin-top: -5px;}\\n    .creRecommended .creheadtxt{margin-left: -25px;top: -5px;left: 25px;}\\n      /*    .creTrendingheading{font-size: 14px;line-height: 17px;font-weight: bold;padding-top: 5px;}*/\\n    .creTrendingheading{font-weight: bold;padding-top: 5px;color: #180000 !important;font-size: 13px !important;line-height: 22px !important;display: -webkit-box;-webkit-box-orient: vertical;-webkit-line-clamp: 4;overflow: hidden;min-height: 93px !important;}\\n    .slider-trending .slick-prev{left: -35px;}\\n    .slider-trending .slick-next{right: -25px;}\\n    .slider-trending .slick-next:before{background: url(https://cdn.zeebiz.com/images/2023/rightArrowTrans.png)no-repeat;content: \\'\\';position:absolute;width: 20px;height: 20px;left: 0px;top:0;background-size: cover; opacity: .4;}\\n    .slider-trending .slick-prev:before{background: url(https://cdn.zeebiz.com/images/2023/leftArrowTrans.png)no-repeat;content: \\'\\';position:absolute;width: 20px;height: 20px;right: 0px;top:0;;background-size: cover;opacity: .4;}\\n\\n    .crewhitebgBor{border: 1px solid #D0D0D0;padding: 10px;}\\n    .crewhitebgBor a, .crewhitebg a{color: #000;}\\n    .slider-recommended .slick-slide {margin-right: 10px;}\\n    .slider-recommended .slick-prev:before{background: url(https://cdn.zeebiz.com/images/2023/leftArrowTrans.png)no-repeat;content: \\'\\';position:absolute;width: 20px;height: 20px;left: -15px;background-size: cover; opacity: .4;}\\n    .slick-prev:hover, .slick-prev:focus, .slick-next:hover, .slick-next:focus{ opacity: .4;}\\n    .slider-recommended .slick-next:before{background: url(https://cdn.zeebiz.com/images/2023/rightArrowTrans.png)no-repeat;content: \\'\\';position:absolute;width: 20px;height: 20px;right: -5px;background-size: cover; opacity: .4;}\\n    .slider-recommended .slick-prev{left: -15px;}\\n    .slider-recommended .slick-next{right: -15px;}\\n\\n </style>\\n<script>\\n    $(\\'.slider-trending\\').slick({\\n      slidesToShow: 3,\\n      slidesToScroll: 1,\\n      arrows:true,\\n      dots: false,\\n      focusOnSelect: true,\\n      autoplay:false,\\n      infinite:false,\\n      responsive: [\\n      {\\n        breakpoint: 991,\\n        settings: {\\n          slidesToShow: 2,\\n        }\\n      },\\n      {\\n        breakpoint: 767,\\n        settings: {\\n          slidesToShow: 2,\\n        }\\n      }\\n    ]\\n\\n    });\\n\\n    // $(\\'.slider-recommended\\').slick({\\n    //   slidesToShow: 3,\\n    //   slidesToScroll: 1,\\n    //   arrows:true,\\n    //   dots: false,\\n    //   focusOnSelect: true,\\n    //   autoplay:false,\\n    //   infinite:false,\\n    //   responsive: [\\n    //   {\\n    //     breakpoint: 991,\\n    //     settings: {\\n    //       slidesToShow: 2,\\n    //     }\\n    //   },\\n    //   {\\n    //     breakpoint: 767,\\n    //     settings: {\\n    //       slidesToShow: 2,\\n    //     }\\n    //   }\\n    // ]\\n    // });\\n\\n    </script>\\n</body>\\n<style>\\n  body {overflow-x:hidden !important;}\\n  .article-para table {width:100%; border:1px solid #cacaca; border-collapse:collapse; margin-bottom:10px;}\\n  .article-para table td {padding: 10px;}\\n  .article-para ul {margin:0px 15px; padding:0;}\\n  .article-para ul li {list-style:disc; padding-bottom:10px; line-height: 22px; font-size: 16px;}\\n  .bottmban-mal{position:fixed; bottom:0px; min-height:50px; width:100%; z-index:101;}\\n  .topnavnewnavab4-gh {float: right;background: url(https://cdn.zeebiz.com/html/images/biz-live-2018.jpg) no-repeat !important;width: 95px;height: 61px;}\\n</style>\\n\\t<style>\\n      @font-face{font-family:\\'FontAwesome\\';src:url(https://zeenews-fonts.s3.amazonaws.com/fonts/fontawesome-webfont.eot?v=4.6.3);src:url(https://zeenews-fonts.s3.amazonaws.com/fonts/fontawesome-webfont.eot?#iefix&v=4.6.3) format(\"embedded-opentype\"),url(https://zeenews-fonts.s3.amazonaws.com/fonts/fontawesome-webfont.woff2?v=4.6.3) format(\"woff2\"),url(https://zeenews-fonts.s3.amazonaws.com/fonts/fontawesome-webfont.woff?v=4.6.3) format(\"woff\"),url(https://zeenews-fonts.s3.amazonaws.com/fonts/fontawesome-webfont.ttf?v=4.6.3) format(\"truetype\"),url(https://zeenews-fonts.s3.amazonaws.com/fonts/fontawesome-webfont.svg?v=4.6.3#fontawesomeregular) format(\"svg\");font-weight:400;font-style:normal}\\n      .fa{display:inline-block;font:normal normal normal 14px/1 FontAwesome;font-size:inherit;text-rendering:auto;-webkit-font-smoothing:antialiased;-moz-osx-font-smoothing:grayscale}\\n      @keyframes fade-in-up {\\n      0%{opacity:0}\\n      100%{transform:translateY(0);opacity:1}\\n      }\\n      @-webkit-keyframes ripple {\\n      70%{box-shadow:0 0 0 50px rgba(255,0,0,0)}\\n      100%{box-shadow:0 0 0 0 rgba(255,0,0,0)}\\n      }\\n      @keyframes ripple {\\n      70%{box-shadow:0 0 0 50px rgba(255,0,231,0)}\\n      100%{box-shadow:0 0 0 0 rgba(255,0,0,0)}\\n      }\\n      @-moz-keyframes ripple {\\n      70%{box-shadow:0 0 0 50px rgba(255,0,0,0)}\\n      100%{box-shadow:0 0 0 0 rgba(255,0,0,0)}\\n      }\\n      .fa-expand::before{content:\"\\\\f065\"}\\n      .fa-arrows::before{content:\"\\\\f047\"}\\n      .fa-close::before{content:\"\\\\f00d\";}\\n      .video-wrap{text-align:center}\\n      .video-index iframe{max-width:100%;max-height:100%}\\n      .video-index{position:fixed;bottom:10px;right:10px;z-index:99999}\\n      #can-vd2{position:absolute;top:5px;left:5px;background:transparent;border:1px solid #575757;color:#FFF;font-size:16px;outline:none;padding:3px 6px}\\n      #livebtbox{position:fixed;bottom:150px;right:100px;display:none;z-index:99999;}\\n      #livedrag{position:absolute;}\\n      #live-bt{height:60px;width:60px;border-radius:50%;background-color:#f13030;color:#FFF;box-shadow:2px 2px 5px #888;text-align:center;font-weight:700;margin:0 auto;font-size:12px;z-index:9999}\\n      #live-bt a{text-decoration:none;color:#FFF;font-size:11px;line-height:60px;font-family:\\'Roboto\\',sans-serif;font-weight:700;display:block; cursor: pointer;}\\n      .circle-rippl,.circle-rippl::after,.circle-rippl::before{position:absolute;right:0px;bottom:0px;height:60px;width:60px;z-index:-1;border-radius:50%;box-shadow:0 0 0 0 rgba(255,0,0,.2);-webkit-animation:ripple 3s infinite;-moz-animation:ripple 3s infinite;-ms-animation:ripple 3s infinite;-o-animation:ripple 3s infinite;animation:ripple 3s infinite}\\n      .circle-rippl::after,.circle-rippl::before{content:\"\";position:absolute;top:0;right:0}\\n      .circle-rippl::after{-webkit-animation-delay:.6s;-moz-animation-delay:.6s;-ms-animation-delay:.6s;-o-animation-delay:.6s;animation-delay:.6s}\\n      #video-expand{position:absolute;top:5px;right:5px;background:transparent;border:1px solid #575757;color:#FFF;font-size:16px;outline:none;padding:3px 6px}\\n      .videomove{bottom:10px;right:10px;position:absolute;width:320px;height:240px;background:#000;border:1px solid #FFF;transform:translateY(100%);animation:fade-in-up .25s ease forwards;z-index:9999;-webkit-box-shadow:0 0 12px -1px rgba(0,0,0,0.42);-moz-box-shadow:0 0 12px -1px rgba(0,0,0,0.42);box-shadow:0 0 12px -1px rgba(0,0,0,0.42);}\\n      @media (max-width:767px) {\\n      .videomove{width:210px;height:158px;\\n      }\\n    </style>\\n        <div id=\"livebtbox\" class=\"hide_app\" style=\"display:block;\">\\n      <div id=\"livedrag\">\\n        <i class=\"fa fa-arrows\" aria-hidden=\"true\" style=\"background:#e8e8e8;border-radius:2px;position:absolute;top:-10px;left:-10px;padding:2px;cursor:move;\"></i>\\n        <div id=\"live-bt\">            \\n          <a>LIVE TV</a>\\n        </div>\\n        <div id=\"cripple\" class=\"circle-rippl\"></div>\\n      </div>\\n    </div>\\n\\n<script src=\"https://cdnjs.cloudflare.com/ajax/libs/jqueryui/1.10.3/jquery-ui.min.js\"></script>\\n  <script src=\"https://cdnjs.cloudflare.com/ajax/libs/jqueryui-touch-punch/0.2.2/jquery.ui.touch-punch.min.js\"></script>\\n  <script> \\n$(document).ready(function(){          \\n     \\n\\n    $(\\'#livedrag\\').draggable({cancel: \"#live-bt a\"});     \\n    $(\"#live-bt a\").on(\\'touchstart click\\', function() {\\n        $(location).attr(\\'href\\', \\'/live-tv\\');\\n    });  \\n});\\n\\n  </script>\\n<div id=\"cookieScreenOverlay\" class=\"cookieScreenOverlay\">\\n  <div id=\"co-container\" class=\"cookiepolicy cookiePolicyBox cookiepolicyFlex\">\\n    <p class=\"cookiePara\">By accepting cookies, you agree to the storing of cookies on your device to enhance site navigation, analyze site usage, and assist in our marketing efforts.</p>\\n\\n    <div class=\"cookiepolicyFlex\">\\n    <button id=\"rejectBtn\" class=\"cookieButtonReject\">Reject</button>\\n    <button id=\"acceptBtn\" class=\"cookieButtonAccept\">Accept Cookies</button>\\n    </div>\\n    <div id=\"myCloseBtn\" class=\"cookieClose\">x</div>\\n\\n  </div>\\n</div>\\n<style type=\"text/css\">\\n.cookiePolicyBox{position: fixed;bottom: 0;width: 100%; padding: 20px 10px;background: #fff;border: 1px solid #707070;z-index: 99999; }\\n.cookiepolicyFlex{display: flex;align-items: center;}\\n.cookieButtonReject{color: rgb(189, 169, 56);border: 1px solid rgb(189, 169, 56);width: 150px;margin-right: 20px;text-align: center;height: 35px;}\\n.cookieButtonAccept{background: rgb(189, 169, 56);text-align: center;color: #fff;width: 190px;border: 0;height: 35px;}\\n.cookiePara{font: normal normal normal 15px/20px Raleway;margin-right: 15px;}\\n.cookieClose{position:absolute;right:10px;top:-18px;background-color:#000;border-radius:50%;width:25px;height:25px;color:#fff;font-size:18px;font-weight:300;opacity:1;display: flex;justify-content: center;align-items: center;cursor: pointer;}\\n.cookieScreenOverlay{width:100vw;height:100vh;z-index:999999;position:fixed;top:0;left:0;visibility:visible;background-color:rgba(34,34,34,.6);transition:opacity .2s linear,visibility .1s,width 1s ease-in}\\n.hideCookieModal{opacity: 1;visibility: hidden;transform: scale(1);transition: visibility linear, opacity .25s, transform .25s}\\n@media(max-width:767px){\\n    .cookiepolicyFlex{display: block;text-align: center;}\\n    .cookiePara{margin-bottom: 20px;}\\n    .cookieButtonReject{width: 100px;margin-right: 10px;}\\n    .cookieButtonAccept{width: 150px;}\\n}\\n\\n.cookieScreenOverlay{display:none;width:100vw;height:100vh;z-index:999999;position:fixed;top:0;left:0;visibility:visible;background-color:rgba(34,34,34,.6);transition:opacity .2s linear,visibility .1s,width 1s ease-in}.btn-reject{text-decoration:none;font:medium 15px / 23px Poppins;color:rgb(189, 169, 56) !important;border:1px solid rgb(189, 169, 56) !important;width:150px;margin-right:20px;margin-left:20px;border-radius:0!important;font-weight:normal !important}.cookiepolicy .close{position:absolute;right:1%;top:-16px;background-color:#000;border-radius:50%;width:25px;height:25px;color:#fff;font-size:24px;font-weight:normal;opacity:1}.btn-accept-cookies{text-decoration:none;font:normal normal normal 15px/20px Raleway;background:rgb(189, 169, 56) !important;text-align:center;color:#fff!important;width:190px;border-radius:0 !important;}.btn{display:inline-block;font-weight:400;color:#212529;text-align:center;vertical-align:middle;-webkit-user-select:none;-moz-user-select:none;-ms-user-select:none;user-select:none;background-color:transparent;border:1px solid transparent;padding:.375rem .75rem;font-size:1rem;line-height:1.5;border-radius:.25rem;transition:color .15s ease-in-out,background-color .15s ease-in-out,border-color .15s ease-in-out,box-shadow .15s ease-in-out}\\n.co-block{padding:20px 15px;max-width:1366px;margin:auto;text-align:center}\\n.co-block p{color:#999;display:inline-block;padding-right:20px}\\n.co-block p a{color: #FFFFFF;background: #000;padding: 10px;border-radius: 6px;}\\n.co-close{text-align:center;background:#0c80ed;color:#FFF;padding:5px 20px;text-decoration:none;border-radius:5px;display:inline-block}\\n.co-close:hover{text-decoration: none;}\\n.modal{display:none;position:fixed;z-index:1;padding-top:100px;left:0;top:0;width:100%;height:100%;overflow:auto;background-color:#000;background-color:rgba(0,0,0,0.4);z-index: 1000002;}\\n@-webkit-keyframes animatetop {\\n  from{top:-300px;opacity:0}\\n  to{top:0;opacity:1}\\n}\\n@keyframes animatetop {\\n  from{top:-300px;opacity:0}\\n  to{top:0;opacity:1}\\n}\\n.close{color:#fff;float:right;font-size:28px;font-weight:700;padding: 10px;}\\n.close:hover,.close:focus{color:#000;text-decoration:none;cursor:pointer}\\n</style>\\n</div>\\n<script>\\n$(function() {\\n  $(document).ready(function(){\\n    var overlay = document.getElementById(\\'cookieScreenOverlay\\');\\n    var ccontainer = document.getElementById(\\'co-container\\');\\n    var btn = document.getElementById(\"acceptBtn\");\\n    var myClsBtn = document.getElementById(\"myCloseBtn\");\\n\\n    function checkCookieValues(){\\n      //console.log(\"GDPRFlag: \" + localStorage.getItem(\\'zeebiz_cookies\\'));\\n      if (localStorage.getItem(\\'zeebiz_cookies\\') != \\'1\\'){\\n\\n        overlay.style.display = \"block\";\\n      }else{\\n\\n        overlay.style.display = \"none\";\\n      }\\n    }\\n    function setCookieValues(){\\n      localStorage.setItem(\\'zeebiz_cookies\\', \\'1\\');\\n      checkCookieValues();\\n    }\\n    $(\\'#rejectBtn\\').click(function(){\\n      localStorage.setItem(\\'zeebiz_cookies_reject\\', \\'1\\');\\n\\n      overlay.style.display = \"none\";\\n    });\\n    $(btn).click(function(){\\n      setCookieValues();\\n    });\\n    $(myClsBtn).click(function(){\\n      setCookieValues();\\n      ccontainer.style.display = \"none\";\\n      overlay.style.display = \"none\";\\n    });\\n    if(localStorage.getItem(\\'zeebiz_cookies_reject\\') != \\'1\\'){\\n      checkCookieValues();\\n    }\\n  });\\n})\\n</script>\\n<script src=\"https://cdn.zeebiz.com/html/js/script-nav.js\"></script>\\n\\n<script type=\"text/javascript\">\\n    $(document).ready(function(){\\n      if(document.URL.indexOf(\"fromapp=yes\")>0){\\n        $(\".hide_app\").toggle();\\n        $(\".daburbanner\").css(\"cssText\", \"display: none !important;\");\\n      }\\n    });\\n</script>\\n\\n<style>\\n\\t@media (min-width: 992px) {\\n   #cssmenu > ul > li > a {padding:14px 8px 14px 7px; font-size:12px;}\\n }\\n @media (min-width: 1050px) {\\n   #cssmenu > ul > li > a {padding:14px 20px 14px 12px; font-size:12px;}\\n\\n }\\n @media (min-width: 1100px) {\\n   #cssmenu > ul > li > a {padding: 14px 20px 14px 12px;}\\n\\n }\\n @media (min-width: 1200px) {\\n   #cssmenu > ul > li > a {padding: 14px 20px 14px 12px;}\\n\\n }\\n @media (min-width: 1155px) {\\n   #cssmenu > ul > li > a {padding: 14px 20px 14px 12px;}\\n\\n }\\n @media (min-width: 1256px) {\\n   #cssmenu > ul > li > a {padding: 14px 20px 14px 12px;}\\n }\\n\\n @media (min-width: 1283px) {\\n   #cssmenu > ul > li > a {padding: 14px 20px 14px 12px;}\\n\\n }\\n</style>\\n<script type=\"text/javascript\" src=\"https://english.cdn.zeenews.com/desktop/js/highlight.pack.js?v=2\"></script>\\n<script type=\"text/javascript\">\\n  $(document).ready(function(){\\n    $(\\'#newsTicker1\\').breakingNews();\\n  });\\n</script>\\n\\n<script>\\n  var qazy_image = \"https://cdn.zeebiz.com/ads/placeholder_image-zeebiz.jpg\";\\n</script>\\n<script src=\"https://english.cdn.zeenews.com/js/qazy-min.js\"></script>\\n<script>\\n! function() {\\nvar lotameClientId = \\'12844\\';\\nvar lotameTagInput = {\\ndata: {}, config: {\\nclientId: Number(lotameClientId) } };\\n// Lotame initialization\\nvar lotameConfig = lotameTagInput.config || {};\\nvar namespace = window[\\'lotame_\\' + lotameConfig.clientId] = {}; namespace.config = lotameConfig;\\nnamespace.data = lotameTagInput.data || {}; namespace.cmd = namespace.cmd || [];\\n} ();\\n</script>\\n<script>\\ngtag(\\'get\\', \\'UA-75361766-1\\', \\'client_id\\', (client_id) => {\\n  console.log(\"client id :\", client_id);\\n  window.lotame_12844.cmd.push(function () {\\n      window.lotame_12844.collect({\\n          behaviors: {\\n              int: [\\'site:zeebiz.com\\', \\'english\\'],\\n              seg: [\\'articleTitle:Salaar Part 1: Ceasefire Day 4 collection: Prabhas starrer action-thriller crosses Rs 250 crore mark, way ahead of SRKs Dunki | Check Details\\', \\'category:Trending\\',\\'tags:Entertainment\\',\\'tags:Salaar Part 1: Ceasefire\\',\\'tags:Box Office\\']\\n              },\\n          thirdParty: {\\n                namespace: \\'ZMCL\\',\\n                value: client_id\\n              }\\n      });\\n  });\\n});\\n</script>\\n<script async src=\"https://tags.crwdcntrl.net/lt/c/12844/lt.min.js\"></script>\\n<input type=\"hidden\" id=\"cltid\" name=\"cltid\" value=\"\" />\\n<input type=\"hidden\" id=\"gaid\" name=\"gaid\" value=\"UA-75361766-1\" />\\n<script >\\nvar clientId=\\'\\';\\ngtag(\\'get\\', \\'UA-75361766-1\\', \\'client_id\\', (client_id) => {\\n    clientId = client_id;\\n    $(\"#cltid\").val(clientId);\\n});\\n</script>\\n<!-- Begin comScore Tag -->\\n<script>\\nvar _comscore = _comscore || []; _comscore.push({ c1: \"2\", c2: \"9254297\" }); (function () { var s = document.createElement(\"script\"), el = document.getElementsByTagName(\"script\")[0]; s.async = true; s.src = (document.location.protocol == \"https:\" ? \"https://sb\" : \"http://b\") + \".scorecardresearch.com/beacon.js\"; el.parentNode.insertBefore(s, el); })();</script><noscript><img src=\"https://sb.scorecardresearch.com/p?c1=2&c2=9254297&cv=2.0&cj=1\" />\\n</noscript>\\n<!-- End comScore Tag -->\\n\\n<script> window._izq = window._izq || []; window._izq.push([\"init\"]);</script>\\n<script> window._izq.push([\"register_callback\",function(obj){ if(obj.statuscode==1){ window._izq.push([\"userProfile\",{\"add\":{\"language\":\"English\"}}]);}}]); </script>\\n\\n<script async src=\"https://cdn.izooto.com/scripts/58a5cb49b3868b6ed182cd0496d712e8aa27e124.js\"></script>\\n<!-- start Integration of Microsoft Clarity -->\\n<script type=\"text/javascript\">\\n(function(c,l,a,r,i,t,y){\\n    c[a]=c[a]||function(){(c[a].q=c[a].q||[]).push(arguments)};\\n    t=l.createElement(r);t.async=1;t.src=\"https://www.clarity.ms/tag/\"+i;\\n    y=l.getElementsByTagName(r)[0];y.parentNode.insertBefore(t,y);\\n})(window, document, \"clarity\", \"script\", \"er0kmbohvw\");\\n</script>\\n<!-- end Integration of Microsoft Clarity -->\\n<!-- Taboola script conditionally -->\\n<script type=\"text/javascript\">\\n      window._taboola = window._taboola || [];\\n      _taboola.push({\\n      mode: \"thumbs-feed-01\",\\n      container: \"taboola-below-article-thumbnails\",\\n      placement: \"Below Article Thumbnails\",\\n      target_type: \"mix\"\\n      });</script>    <script type=\"text/javascript\">\\n      setTimeout(function(){\\n      window._taboola = window._taboola || [];\\n      _taboola.push({flush: true});\\n      }, 9e3);\\n      if ($(window).width() > 992) {          \\n          $(window).scroll(function(){\\n            if ($(window).scrollTop() >= 100) {\\n              $(\\'#myHeader\\').addClass(\\'f-nav\\');\\n              $(\\'.top-ad\\').addClass(\\'visible-title\\');\\n            }\\n            else {\\n              $(\\'#myHeader\\').removeClass(\\'f-nav\\');\\n              $(\\'.top-ad\\').removeClass(\\'visible-title\\');\\n            }\\n          });\\n      }\\n    </script>\\n</html>\\n'"
            ],
            "application/vnd.google.colaboratory.intrinsic+json": {
              "type": "string"
            }
          },
          "metadata": {},
          "execution_count": 28
        }
      ]
    },
    {
      "cell_type": "code",
      "source": [
        "soup=BeautifulSoup(html_content,'lxml')"
      ],
      "metadata": {
        "id": "-I7fIYZu16eZ"
      },
      "execution_count": null,
      "outputs": []
    },
    {
      "cell_type": "code",
      "source": [
        "body=soup.body.text"
      ],
      "metadata": {
        "id": "hM3ol9YI1_6h"
      },
      "execution_count": null,
      "outputs": []
    },
    {
      "cell_type": "code",
      "source": [
        "body=body.replace('\\n',\" \")\n",
        "body=body.replace('\\t',\" \")\n",
        "body=body.replace('\\xa0',\" \")\n"
      ],
      "metadata": {
        "id": "insJ2XOA2B6u"
      },
      "execution_count": null,
      "outputs": []
    },
    {
      "cell_type": "code",
      "source": [
        "body.strip()"
      ],
      "metadata": {
        "colab": {
          "base_uri": "https://localhost:8080/",
          "height": 123
        },
        "id": "EFTMWwlW2D7Q",
        "outputId": "35078239-9ebb-4052-d062-33a2d08313c8"
      },
      "execution_count": null,
      "outputs": [
        {
          "output_type": "execute_result",
          "data": {
            "text/plain": [
              "\"हिंदी में पढ़ें                Live TV  Live TV       Subscribe for Newsletter Home BUDGET 2024 Latest News   Markets  Commodities Currency & Bonds IPO Mutual Funds   Web Stories   Personal Finance  Income Tax Savings   Auto Finance   Companies  Infra  Consumer Startups Telecom   Economy Tech   Videos  Paisa Wasool The Right Property Show     Trending  Education Entertainment Healthcare Jobs Travel Politics Sports India World Indian Railways               ×  Subscribe Now Sign up for our Newsletter          Thank you                               Business News »            Entertainment News      Salaar Part 1: Ceasefire Day 4 collection: Prabhas starrer action-thriller crosses Rs 250 crore mark, way ahead of SRK's Dunki | Check Details Salaar Part 1: Ceasefire Box Office Collection Day 4: Shah Rukh Khan starrer film Dunki earned a decent amount on Day 5 at the domestic box office. However, compared to the Christmas Day collections of both movies, SRK's film is far behind Salaar.       View in App    Directed by Prashanth Neel of 'KGF 2 fame, the movie hit screens on Friday, December 22, in the Telugu, Kannada, Tamil, Malayalam, and Hindi languages. Pic: twitter.com/SalaarTheSaga         Salaar Part 1: Ceasefire Box Office Collection Day 4: Prabhas starrer action-thriller 'Salaar Part 1: Ceasefire' is making big bucks at the domestic box office as the film has minted more than Rs 260 crore in just four days. Directed by Prashanth Neel of 'KGF 2 fame, the movie hit screens on Friday, December 22, in the Telugu, Kannada, Tamil, Malayalam, and Hindi languages.   Produced by Hombale Films (the same company that is behind the KGF franchise), the movie grossed Rs 46.3 crore on Monday (the fourth day). This took the total collection of 'Salaar Part 1: Ceasefire' to Rs 262.90 crore (India Net Collection) at the domestic box office, as per the data shared by trade tracker Sacnilk.   The film is the first collaboration between KGF director Neel and Baahubali actor Prabhas.  Salaar Vs Dunki Box Office Collection: Christmas Clash (Monday) Shah Rukh Khan starrer film Dunki earned a decent amount on Day 5 at the domestic box office, which is Rs 22.5 crore (approximately). However, compared to the Christmas Day collections of both movies, SRK's film is far behind Salaar.   In terms of numbers, Prabhas' film earned more than double that of SRK's Dunki at the domestic box office on Monday, i.e., Rs 46.3 crore, according to Sacknilk data. TRENDING NOW  Axis Bank stock plunges after Q3 results, top Nifty50 loser; should investors be worried?  Share Market Today LIVE: Nifty above 21,200, Sensex down nearly 150 pts; Axis Bank drops 4%  Should you buy Hero MotoCorp, REC, United Spirits, MGL and other stocks today? Here's what brokerages suggest  Ram Mandir Ayodhya Darshan Timings: Devotees break through security lines amid heavy rush, police issues mobile phone-related instructions - Check puja, aarti timing  FIRST TRADE: Sensex slips over 350 pts; Nifty below 21,150; Axis Bank plunges post-Q3 results  GG Engineering approves conversion of 13.50 crore warrants into equity shares   Anil Singhvi strategy January 24: Important levels to track in Nifty50, Nifty Bank today  Best ELSS vs Best Small-cap: Rs 10 lakh investment in 3 years; which fund would have given you better returns; know expert calculations  Traders' Diary: Buy, sell or hold strategy on Axis Bank, Pidilite Industries, Havells India, Cyient DLM, ONGC, over a dozen other stocks today  Tata Steel Q3 Results Preview: Net profit likely at Rs 630 crore, EBITDA may grow 25%  OnePlus 12 Series: OnePlus 12, OnePlus 12R unveiled - Check price and features   CG Power and Industrial Solutions Q3 result: Net profit falls 15% to Rs 197 crore  Gold and Silver rate today (January 24, 2024): Precious metals subdued; yellow metal near Rs 62,000; white metal above Rs 71,000  Mutual fund guide: Can I withdraw funds anytime? Here are important factors to consider  Asian stocks | Stocks gain as potential China rescue package lifts mood  'Salaar Part 1: Ceasefire' Box Office Collection Day 1 According to industry tracker Sacnilk, the movie earned Rs 90.7 crore on the opening day in the domestic box office. Salaar: Part-1 Ceasefire - Trailer  Salaar Part 1: Ceasefire: Day-Wise Collection So Far Day 1 [1st Friday] - Rs 90.7 crore Day 2 [1st Saturday] - Rs 56.35 crore Day 3 [1st Sunday] - Rs 62.05 crore Day 4 [1st Monday] - Rs 46.3 crore Day 5 [1st Tuesday] - Rs 7.5 crore (estimated so far) Total - Rs 262.9 crore About 'Salaar Part 1: Ceasefire' The story of the movie revolves around a gang leader who tries to keep a promise made to his dying friend and takes on criminal gangs. Salaar: Part-1 Ceasefire - Cast Besides Prabhas, the film also stars Prithviraj Sukumaran and Shruti Haasan in prominent roles. The action-drama also features Tinnu Anand, Jagapathi Babu, Madhu Guruswamy, and others. Salaar: Part-1 Ceasefire - IMDb Rating The IMDB rating of the film is 6.9 out of 10.      TAGS:     entertainmentSalaar Part 1: CeasefireBox Office                                  Written By: Priya Vishwakarma Edited By: Shaghil Bilali      Updated: Tue, Dec 26, 202305:26 pm   PTI    RELATED NEWS            Mrunal Thakur, Nani's 'Hi Nanna' to be out on OTT on this date             Salaar Vs Dunki Box Office Collection: Prabhas starrer action-thriller crosses Rs 300 crore mark, way ahead of SRK's film | Check details             'Salaar Part 1: Ceasefire' Day 6 collection: Prabhas starrer action-thriller crosses Rs 500 crore mark worldwide | Check day-wise collection, other details             Dunki Box Office Collection Day 2: Shah Rukh Khan-starrer fails to match Salaar's opening day collections despite two days of earning             Dunki vs Pathaan vs Jawan Vs Animal Box Office Collection Day 1: Shah Rukh Khan starrer takes a slow start, barely manages to cross Rs 30 crore on opening day                            LATEST NEWS     REC Q3 results: Net profit rises 13.5% to Rs 3,308.42 crore   Delhi records minimum temp of 8.3, air quality 'severe' at some stations   Axis Bank stock plunges after Q3 profit, NII, NIM fall short of Street expectations; should investors be worried?   Traders' Diary: Buy, sell or hold strategy on Axis Bank, Pidilite Industries, Havells India, Cyient DLM, ONGC, over a dozen other stocks today     Zomato stock jumps after Swiggy increases platform fee from Rs 5 to Rs 10   Anil Singhvi strategy January 24: Important levels to track in Nifty50, Nifty Bank today   FIRST TRADE: Sensex slips over 350 pts; Nifty below 21,150; Axis Bank plunges post-Q3 results   Axis Bank Q3 Results: Net profit rises 3.7% to Rs 6,071 crore with over 9% NII growth; asset quality stable   Gold and Silver rate today (January 24, 2024): Precious metals subdued; yellow metal near Rs 62,000; white metal above Rs 71,000   Asian stocks | Stocks gain as potential China rescue package lifts mood\""
            ],
            "application/vnd.google.colaboratory.intrinsic+json": {
              "type": "string"
            }
          },
          "metadata": {},
          "execution_count": 32
        }
      ]
    },
    {
      "cell_type": "code",
      "source": [
        "sos='Salaar Part 1: Ceasefire Box Office Collection Day 4'\n",
        "eos='Madhu Guruswamy, and others.'"
      ],
      "metadata": {
        "id": "1aWM_o_L2GyW"
      },
      "execution_count": null,
      "outputs": []
    },
    {
      "cell_type": "code",
      "source": [
        "si=body.index(sos)"
      ],
      "metadata": {
        "id": "6p4t2gwc2I-2"
      },
      "execution_count": null,
      "outputs": []
    },
    {
      "cell_type": "code",
      "source": [
        "ei=body.index(eos)+len(eos)"
      ],
      "metadata": {
        "id": "a7dXhPm05Hnc"
      },
      "execution_count": null,
      "outputs": []
    },
    {
      "cell_type": "code",
      "source": [
        "body[4928]"
      ],
      "metadata": {
        "colab": {
          "base_uri": "https://localhost:8080/",
          "height": 36
        },
        "id": "txdEZqAZ5J9w",
        "outputId": "57b9d5db-663c-41bd-a5f1-7778e8583ce3"
      },
      "execution_count": null,
      "outputs": [
        {
          "output_type": "execute_result",
          "data": {
            "text/plain": [
              "' '"
            ],
            "application/vnd.google.colaboratory.intrinsic+json": {
              "type": "string"
            }
          },
          "metadata": {},
          "execution_count": 36
        }
      ]
    },
    {
      "cell_type": "code",
      "source": [
        "len(eos)"
      ],
      "metadata": {
        "colab": {
          "base_uri": "https://localhost:8080/"
        },
        "id": "2czwc3GI5OWr",
        "outputId": "f061a8c3-ebe9-4030-e4cc-2538fdd6cd40"
      },
      "execution_count": null,
      "outputs": [
        {
          "output_type": "execute_result",
          "data": {
            "text/plain": [
              "28"
            ]
          },
          "metadata": {},
          "execution_count": 37
        }
      ]
    },
    {
      "cell_type": "code",
      "source": [
        "body=body[si:ei]"
      ],
      "metadata": {
        "id": "uin2ZS3J5PO6"
      },
      "execution_count": null,
      "outputs": []
    },
    {
      "cell_type": "code",
      "source": [
        "text=NER(body)"
      ],
      "metadata": {
        "id": "EoegUbFj5RWb"
      },
      "execution_count": null,
      "outputs": []
    },
    {
      "cell_type": "code",
      "source": [
        "displacy.render(text,style='ent',jupyter=True)"
      ],
      "metadata": {
        "colab": {
          "base_uri": "https://localhost:8080/",
          "height": 927
        },
        "id": "xz2Cusza5TZC",
        "outputId": "874c2441-ec4e-42c2-e327-48b8930c0d80"
      },
      "execution_count": null,
      "outputs": [
        {
          "output_type": "display_data",
          "data": {
            "text/plain": [
              "<IPython.core.display.HTML object>"
            ],
            "text/html": [
              "<span class=\"tex2jax_ignore\"><div class=\"entities\" style=\"line-height: 2.5; direction: ltr\">Salaar Part \n",
              "<mark class=\"entity\" style=\"background: #e4e7d2; padding: 0.45em 0.6em; margin: 0 0.25em; line-height: 1; border-radius: 0.35em;\">\n",
              "    1\n",
              "    <span style=\"font-size: 0.8em; font-weight: bold; line-height: 1; border-radius: 0.35em; vertical-align: middle; margin-left: 0.5rem\">CARDINAL</span>\n",
              "</mark>\n",
              ": \n",
              "<mark class=\"entity\" style=\"background: #7aecec; padding: 0.45em 0.6em; margin: 0 0.25em; line-height: 1; border-radius: 0.35em;\">\n",
              "    Ceasefire Box Office Collection Day 4\n",
              "    <span style=\"font-size: 0.8em; font-weight: bold; line-height: 1; border-radius: 0.35em; vertical-align: middle; margin-left: 0.5rem\">ORG</span>\n",
              "</mark>\n",
              ": Shah Rukh Khan starrer film \n",
              "<mark class=\"entity\" style=\"background: #feca74; padding: 0.45em 0.6em; margin: 0 0.25em; line-height: 1; border-radius: 0.35em;\">\n",
              "    Dunki\n",
              "    <span style=\"font-size: 0.8em; font-weight: bold; line-height: 1; border-radius: 0.35em; vertical-align: middle; margin-left: 0.5rem\">GPE</span>\n",
              "</mark>\n",
              " earned a decent amount on \n",
              "<mark class=\"entity\" style=\"background: #bfe1d9; padding: 0.45em 0.6em; margin: 0 0.25em; line-height: 1; border-radius: 0.35em;\">\n",
              "    Day 5\n",
              "    <span style=\"font-size: 0.8em; font-weight: bold; line-height: 1; border-radius: 0.35em; vertical-align: middle; margin-left: 0.5rem\">DATE</span>\n",
              "</mark>\n",
              " at the domestic box office. However, compared to \n",
              "<mark class=\"entity\" style=\"background: #bfe1d9; padding: 0.45em 0.6em; margin: 0 0.25em; line-height: 1; border-radius: 0.35em;\">\n",
              "    the Christmas Day\n",
              "    <span style=\"font-size: 0.8em; font-weight: bold; line-height: 1; border-radius: 0.35em; vertical-align: middle; margin-left: 0.5rem\">DATE</span>\n",
              "</mark>\n",
              " collections of both movies, \n",
              "<mark class=\"entity\" style=\"background: #7aecec; padding: 0.45em 0.6em; margin: 0 0.25em; line-height: 1; border-radius: 0.35em;\">\n",
              "    SRK\n",
              "    <span style=\"font-size: 0.8em; font-weight: bold; line-height: 1; border-radius: 0.35em; vertical-align: middle; margin-left: 0.5rem\">ORG</span>\n",
              "</mark>\n",
              "'s film is far behind \n",
              "<mark class=\"entity\" style=\"background: #7aecec; padding: 0.45em 0.6em; margin: 0 0.25em; line-height: 1; border-radius: 0.35em;\">\n",
              "    Salaar\n",
              "    <span style=\"font-size: 0.8em; font-weight: bold; line-height: 1; border-radius: 0.35em; vertical-align: middle; margin-left: 0.5rem\">ORG</span>\n",
              "</mark>\n",
              ".       View in App    Directed by Prashanth Neel of 'KGF \n",
              "<mark class=\"entity\" style=\"background: #e4e7d2; padding: 0.45em 0.6em; margin: 0 0.25em; line-height: 1; border-radius: 0.35em;\">\n",
              "    2\n",
              "    <span style=\"font-size: 0.8em; font-weight: bold; line-height: 1; border-radius: 0.35em; vertical-align: middle; margin-left: 0.5rem\">CARDINAL</span>\n",
              "</mark>\n",
              " fame, the movie hit screens on \n",
              "<mark class=\"entity\" style=\"background: #bfe1d9; padding: 0.45em 0.6em; margin: 0 0.25em; line-height: 1; border-radius: 0.35em;\">\n",
              "    Friday, December 22\n",
              "    <span style=\"font-size: 0.8em; font-weight: bold; line-height: 1; border-radius: 0.35em; vertical-align: middle; margin-left: 0.5rem\">DATE</span>\n",
              "</mark>\n",
              ", in the \n",
              "<mark class=\"entity\" style=\"background: #feca74; padding: 0.45em 0.6em; margin: 0 0.25em; line-height: 1; border-radius: 0.35em;\">\n",
              "    Telugu\n",
              "    <span style=\"font-size: 0.8em; font-weight: bold; line-height: 1; border-radius: 0.35em; vertical-align: middle; margin-left: 0.5rem\">GPE</span>\n",
              "</mark>\n",
              ", \n",
              "<mark class=\"entity\" style=\"background: #feca74; padding: 0.45em 0.6em; margin: 0 0.25em; line-height: 1; border-radius: 0.35em;\">\n",
              "    Kannada\n",
              "    <span style=\"font-size: 0.8em; font-weight: bold; line-height: 1; border-radius: 0.35em; vertical-align: middle; margin-left: 0.5rem\">GPE</span>\n",
              "</mark>\n",
              ", \n",
              "<mark class=\"entity\" style=\"background: #feca74; padding: 0.45em 0.6em; margin: 0 0.25em; line-height: 1; border-radius: 0.35em;\">\n",
              "    Tamil\n",
              "    <span style=\"font-size: 0.8em; font-weight: bold; line-height: 1; border-radius: 0.35em; vertical-align: middle; margin-left: 0.5rem\">GPE</span>\n",
              "</mark>\n",
              ", \n",
              "<mark class=\"entity\" style=\"background: #7aecec; padding: 0.45em 0.6em; margin: 0 0.25em; line-height: 1; border-radius: 0.35em;\">\n",
              "    Malayalam\n",
              "    <span style=\"font-size: 0.8em; font-weight: bold; line-height: 1; border-radius: 0.35em; vertical-align: middle; margin-left: 0.5rem\">ORG</span>\n",
              "</mark>\n",
              ", and \n",
              "<mark class=\"entity\" style=\"background: #feca74; padding: 0.45em 0.6em; margin: 0 0.25em; line-height: 1; border-radius: 0.35em;\">\n",
              "    Hindi\n",
              "    <span style=\"font-size: 0.8em; font-weight: bold; line-height: 1; border-radius: 0.35em; vertical-align: middle; margin-left: 0.5rem\">GPE</span>\n",
              "</mark>\n",
              " languages. Pic: twitter.com/SalaarTheSaga         Salaar Part \n",
              "<mark class=\"entity\" style=\"background: #e4e7d2; padding: 0.45em 0.6em; margin: 0 0.25em; line-height: 1; border-radius: 0.35em;\">\n",
              "    1\n",
              "    <span style=\"font-size: 0.8em; font-weight: bold; line-height: 1; border-radius: 0.35em; vertical-align: middle; margin-left: 0.5rem\">CARDINAL</span>\n",
              "</mark>\n",
              ": \n",
              "<mark class=\"entity\" style=\"background: #7aecec; padding: 0.45em 0.6em; margin: 0 0.25em; line-height: 1; border-radius: 0.35em;\">\n",
              "    Ceasefire Box Office Collection Day 4\n",
              "    <span style=\"font-size: 0.8em; font-weight: bold; line-height: 1; border-radius: 0.35em; vertical-align: middle; margin-left: 0.5rem\">ORG</span>\n",
              "</mark>\n",
              ": Prabhas starrer action-thriller 'Salaar Part \n",
              "<mark class=\"entity\" style=\"background: #e4e7d2; padding: 0.45em 0.6em; margin: 0 0.25em; line-height: 1; border-radius: 0.35em;\">\n",
              "    1\n",
              "    <span style=\"font-size: 0.8em; font-weight: bold; line-height: 1; border-radius: 0.35em; vertical-align: middle; margin-left: 0.5rem\">CARDINAL</span>\n",
              "</mark>\n",
              ": Ceasefire' is making big bucks at the domestic box office as the film has minted more than Rs 260 crore in \n",
              "<mark class=\"entity\" style=\"background: #bfe1d9; padding: 0.45em 0.6em; margin: 0 0.25em; line-height: 1; border-radius: 0.35em;\">\n",
              "    just four days\n",
              "    <span style=\"font-size: 0.8em; font-weight: bold; line-height: 1; border-radius: 0.35em; vertical-align: middle; margin-left: 0.5rem\">DATE</span>\n",
              "</mark>\n",
              ". Directed by \n",
              "<mark class=\"entity\" style=\"background: #7aecec; padding: 0.45em 0.6em; margin: 0 0.25em; line-height: 1; border-radius: 0.35em;\">\n",
              "    Prashanth Neel of '\n",
              "    <span style=\"font-size: 0.8em; font-weight: bold; line-height: 1; border-radius: 0.35em; vertical-align: middle; margin-left: 0.5rem\">ORG</span>\n",
              "</mark>\n",
              "KGF \n",
              "<mark class=\"entity\" style=\"background: #e4e7d2; padding: 0.45em 0.6em; margin: 0 0.25em; line-height: 1; border-radius: 0.35em;\">\n",
              "    2\n",
              "    <span style=\"font-size: 0.8em; font-weight: bold; line-height: 1; border-radius: 0.35em; vertical-align: middle; margin-left: 0.5rem\">CARDINAL</span>\n",
              "</mark>\n",
              " fame, the movie hit screens on \n",
              "<mark class=\"entity\" style=\"background: #bfe1d9; padding: 0.45em 0.6em; margin: 0 0.25em; line-height: 1; border-radius: 0.35em;\">\n",
              "    Friday, December 22\n",
              "    <span style=\"font-size: 0.8em; font-weight: bold; line-height: 1; border-radius: 0.35em; vertical-align: middle; margin-left: 0.5rem\">DATE</span>\n",
              "</mark>\n",
              ", in the \n",
              "<mark class=\"entity\" style=\"background: #feca74; padding: 0.45em 0.6em; margin: 0 0.25em; line-height: 1; border-radius: 0.35em;\">\n",
              "    Telugu\n",
              "    <span style=\"font-size: 0.8em; font-weight: bold; line-height: 1; border-radius: 0.35em; vertical-align: middle; margin-left: 0.5rem\">GPE</span>\n",
              "</mark>\n",
              ", \n",
              "<mark class=\"entity\" style=\"background: #feca74; padding: 0.45em 0.6em; margin: 0 0.25em; line-height: 1; border-radius: 0.35em;\">\n",
              "    Kannada\n",
              "    <span style=\"font-size: 0.8em; font-weight: bold; line-height: 1; border-radius: 0.35em; vertical-align: middle; margin-left: 0.5rem\">GPE</span>\n",
              "</mark>\n",
              ", \n",
              "<mark class=\"entity\" style=\"background: #feca74; padding: 0.45em 0.6em; margin: 0 0.25em; line-height: 1; border-radius: 0.35em;\">\n",
              "    Tamil\n",
              "    <span style=\"font-size: 0.8em; font-weight: bold; line-height: 1; border-radius: 0.35em; vertical-align: middle; margin-left: 0.5rem\">GPE</span>\n",
              "</mark>\n",
              ", \n",
              "<mark class=\"entity\" style=\"background: #7aecec; padding: 0.45em 0.6em; margin: 0 0.25em; line-height: 1; border-radius: 0.35em;\">\n",
              "    Malayalam\n",
              "    <span style=\"font-size: 0.8em; font-weight: bold; line-height: 1; border-radius: 0.35em; vertical-align: middle; margin-left: 0.5rem\">ORG</span>\n",
              "</mark>\n",
              ", and \n",
              "<mark class=\"entity\" style=\"background: #feca74; padding: 0.45em 0.6em; margin: 0 0.25em; line-height: 1; border-radius: 0.35em;\">\n",
              "    Hindi\n",
              "    <span style=\"font-size: 0.8em; font-weight: bold; line-height: 1; border-radius: 0.35em; vertical-align: middle; margin-left: 0.5rem\">GPE</span>\n",
              "</mark>\n",
              " languages.   Produced by \n",
              "<mark class=\"entity\" style=\"background: #aa9cfc; padding: 0.45em 0.6em; margin: 0 0.25em; line-height: 1; border-radius: 0.35em;\">\n",
              "    Hombale Films\n",
              "    <span style=\"font-size: 0.8em; font-weight: bold; line-height: 1; border-radius: 0.35em; vertical-align: middle; margin-left: 0.5rem\">PERSON</span>\n",
              "</mark>\n",
              " (the same company that is behind the \n",
              "<mark class=\"entity\" style=\"background: #7aecec; padding: 0.45em 0.6em; margin: 0 0.25em; line-height: 1; border-radius: 0.35em;\">\n",
              "    KGF\n",
              "    <span style=\"font-size: 0.8em; font-weight: bold; line-height: 1; border-radius: 0.35em; vertical-align: middle; margin-left: 0.5rem\">ORG</span>\n",
              "</mark>\n",
              " franchise), the movie grossed \n",
              "<mark class=\"entity\" style=\"background: #bfeeb7; padding: 0.45em 0.6em; margin: 0 0.25em; line-height: 1; border-radius: 0.35em;\">\n",
              "    Rs 46.3\n",
              "    <span style=\"font-size: 0.8em; font-weight: bold; line-height: 1; border-radius: 0.35em; vertical-align: middle; margin-left: 0.5rem\">PRODUCT</span>\n",
              "</mark>\n",
              " crore on \n",
              "<mark class=\"entity\" style=\"background: #bfe1d9; padding: 0.45em 0.6em; margin: 0 0.25em; line-height: 1; border-radius: 0.35em;\">\n",
              "    Monday\n",
              "    <span style=\"font-size: 0.8em; font-weight: bold; line-height: 1; border-radius: 0.35em; vertical-align: middle; margin-left: 0.5rem\">DATE</span>\n",
              "</mark>\n",
              " (\n",
              "<mark class=\"entity\" style=\"background: #bfe1d9; padding: 0.45em 0.6em; margin: 0 0.25em; line-height: 1; border-radius: 0.35em;\">\n",
              "    the fourth day\n",
              "    <span style=\"font-size: 0.8em; font-weight: bold; line-height: 1; border-radius: 0.35em; vertical-align: middle; margin-left: 0.5rem\">DATE</span>\n",
              "</mark>\n",
              "). This took the total collection of 'Salaar Part \n",
              "<mark class=\"entity\" style=\"background: #e4e7d2; padding: 0.45em 0.6em; margin: 0 0.25em; line-height: 1; border-radius: 0.35em;\">\n",
              "    1\n",
              "    <span style=\"font-size: 0.8em; font-weight: bold; line-height: 1; border-radius: 0.35em; vertical-align: middle; margin-left: 0.5rem\">CARDINAL</span>\n",
              "</mark>\n",
              ": Ceasefire' to \n",
              "<mark class=\"entity\" style=\"background: #bfeeb7; padding: 0.45em 0.6em; margin: 0 0.25em; line-height: 1; border-radius: 0.35em;\">\n",
              "    Rs 262.90\n",
              "    <span style=\"font-size: 0.8em; font-weight: bold; line-height: 1; border-radius: 0.35em; vertical-align: middle; margin-left: 0.5rem\">PRODUCT</span>\n",
              "</mark>\n",
              " crore (\n",
              "<mark class=\"entity\" style=\"background: #7aecec; padding: 0.45em 0.6em; margin: 0 0.25em; line-height: 1; border-radius: 0.35em;\">\n",
              "    India Net Collection\n",
              "    <span style=\"font-size: 0.8em; font-weight: bold; line-height: 1; border-radius: 0.35em; vertical-align: middle; margin-left: 0.5rem\">ORG</span>\n",
              "</mark>\n",
              ") at the domestic box office, as per the data shared by trade tracker \n",
              "<mark class=\"entity\" style=\"background: #7aecec; padding: 0.45em 0.6em; margin: 0 0.25em; line-height: 1; border-radius: 0.35em;\">\n",
              "    Sacnilk\n",
              "    <span style=\"font-size: 0.8em; font-weight: bold; line-height: 1; border-radius: 0.35em; vertical-align: middle; margin-left: 0.5rem\">ORG</span>\n",
              "</mark>\n",
              ".   The film is the \n",
              "<mark class=\"entity\" style=\"background: #e4e7d2; padding: 0.45em 0.6em; margin: 0 0.25em; line-height: 1; border-radius: 0.35em;\">\n",
              "    first\n",
              "    <span style=\"font-size: 0.8em; font-weight: bold; line-height: 1; border-radius: 0.35em; vertical-align: middle; margin-left: 0.5rem\">ORDINAL</span>\n",
              "</mark>\n",
              " collaboration between \n",
              "<mark class=\"entity\" style=\"background: #7aecec; padding: 0.45em 0.6em; margin: 0 0.25em; line-height: 1; border-radius: 0.35em;\">\n",
              "    KGF\n",
              "    <span style=\"font-size: 0.8em; font-weight: bold; line-height: 1; border-radius: 0.35em; vertical-align: middle; margin-left: 0.5rem\">ORG</span>\n",
              "</mark>\n",
              " director \n",
              "<mark class=\"entity\" style=\"background: #aa9cfc; padding: 0.45em 0.6em; margin: 0 0.25em; line-height: 1; border-radius: 0.35em;\">\n",
              "    Neel\n",
              "    <span style=\"font-size: 0.8em; font-weight: bold; line-height: 1; border-radius: 0.35em; vertical-align: middle; margin-left: 0.5rem\">PERSON</span>\n",
              "</mark>\n",
              " and \n",
              "<mark class=\"entity\" style=\"background: #feca74; padding: 0.45em 0.6em; margin: 0 0.25em; line-height: 1; border-radius: 0.35em;\">\n",
              "    Baahubali\n",
              "    <span style=\"font-size: 0.8em; font-weight: bold; line-height: 1; border-radius: 0.35em; vertical-align: middle; margin-left: 0.5rem\">GPE</span>\n",
              "</mark>\n",
              " actor \n",
              "<mark class=\"entity\" style=\"background: #aa9cfc; padding: 0.45em 0.6em; margin: 0 0.25em; line-height: 1; border-radius: 0.35em;\">\n",
              "    Prabhas\n",
              "    <span style=\"font-size: 0.8em; font-weight: bold; line-height: 1; border-radius: 0.35em; vertical-align: middle; margin-left: 0.5rem\">PERSON</span>\n",
              "</mark>\n",
              ".  Salaar Vs Dunki Box Office Collection: Christmas Clash (\n",
              "<mark class=\"entity\" style=\"background: #bfe1d9; padding: 0.45em 0.6em; margin: 0 0.25em; line-height: 1; border-radius: 0.35em;\">\n",
              "    Monday\n",
              "    <span style=\"font-size: 0.8em; font-weight: bold; line-height: 1; border-radius: 0.35em; vertical-align: middle; margin-left: 0.5rem\">DATE</span>\n",
              "</mark>\n",
              ") \n",
              "<mark class=\"entity\" style=\"background: #aa9cfc; padding: 0.45em 0.6em; margin: 0 0.25em; line-height: 1; border-radius: 0.35em;\">\n",
              "    Shah Rukh Khan\n",
              "    <span style=\"font-size: 0.8em; font-weight: bold; line-height: 1; border-radius: 0.35em; vertical-align: middle; margin-left: 0.5rem\">PERSON</span>\n",
              "</mark>\n",
              " starrer film \n",
              "<mark class=\"entity\" style=\"background: #feca74; padding: 0.45em 0.6em; margin: 0 0.25em; line-height: 1; border-radius: 0.35em;\">\n",
              "    Dunki\n",
              "    <span style=\"font-size: 0.8em; font-weight: bold; line-height: 1; border-radius: 0.35em; vertical-align: middle; margin-left: 0.5rem\">GPE</span>\n",
              "</mark>\n",
              " earned a decent amount on \n",
              "<mark class=\"entity\" style=\"background: #bfe1d9; padding: 0.45em 0.6em; margin: 0 0.25em; line-height: 1; border-radius: 0.35em;\">\n",
              "    Day 5\n",
              "    <span style=\"font-size: 0.8em; font-weight: bold; line-height: 1; border-radius: 0.35em; vertical-align: middle; margin-left: 0.5rem\">DATE</span>\n",
              "</mark>\n",
              " at the domestic box office, which is Rs \n",
              "<mark class=\"entity\" style=\"background: #e4e7d2; padding: 0.45em 0.6em; margin: 0 0.25em; line-height: 1; border-radius: 0.35em;\">\n",
              "    22.5\n",
              "    <span style=\"font-size: 0.8em; font-weight: bold; line-height: 1; border-radius: 0.35em; vertical-align: middle; margin-left: 0.5rem\">CARDINAL</span>\n",
              "</mark>\n",
              " crore (approximately). However, compared to \n",
              "<mark class=\"entity\" style=\"background: #bfe1d9; padding: 0.45em 0.6em; margin: 0 0.25em; line-height: 1; border-radius: 0.35em;\">\n",
              "    the Christmas Day\n",
              "    <span style=\"font-size: 0.8em; font-weight: bold; line-height: 1; border-radius: 0.35em; vertical-align: middle; margin-left: 0.5rem\">DATE</span>\n",
              "</mark>\n",
              " collections of both movies, \n",
              "<mark class=\"entity\" style=\"background: #7aecec; padding: 0.45em 0.6em; margin: 0 0.25em; line-height: 1; border-radius: 0.35em;\">\n",
              "    SRK\n",
              "    <span style=\"font-size: 0.8em; font-weight: bold; line-height: 1; border-radius: 0.35em; vertical-align: middle; margin-left: 0.5rem\">ORG</span>\n",
              "</mark>\n",
              "'s film is far behind \n",
              "<mark class=\"entity\" style=\"background: #7aecec; padding: 0.45em 0.6em; margin: 0 0.25em; line-height: 1; border-radius: 0.35em;\">\n",
              "    Salaar\n",
              "    <span style=\"font-size: 0.8em; font-weight: bold; line-height: 1; border-radius: 0.35em; vertical-align: middle; margin-left: 0.5rem\">ORG</span>\n",
              "</mark>\n",
              ".   In terms of numbers, \n",
              "<mark class=\"entity\" style=\"background: #7aecec; padding: 0.45em 0.6em; margin: 0 0.25em; line-height: 1; border-radius: 0.35em;\">\n",
              "    Prabhas\n",
              "    <span style=\"font-size: 0.8em; font-weight: bold; line-height: 1; border-radius: 0.35em; vertical-align: middle; margin-left: 0.5rem\">ORG</span>\n",
              "</mark>\n",
              "' film earned more than double that of \n",
              "<mark class=\"entity\" style=\"background: #7aecec; padding: 0.45em 0.6em; margin: 0 0.25em; line-height: 1; border-radius: 0.35em;\">\n",
              "    SRK\n",
              "    <span style=\"font-size: 0.8em; font-weight: bold; line-height: 1; border-radius: 0.35em; vertical-align: middle; margin-left: 0.5rem\">ORG</span>\n",
              "</mark>\n",
              "'s \n",
              "<mark class=\"entity\" style=\"background: #feca74; padding: 0.45em 0.6em; margin: 0 0.25em; line-height: 1; border-radius: 0.35em;\">\n",
              "    Dunki\n",
              "    <span style=\"font-size: 0.8em; font-weight: bold; line-height: 1; border-radius: 0.35em; vertical-align: middle; margin-left: 0.5rem\">GPE</span>\n",
              "</mark>\n",
              " at the domestic box office on \n",
              "<mark class=\"entity\" style=\"background: #bfe1d9; padding: 0.45em 0.6em; margin: 0 0.25em; line-height: 1; border-radius: 0.35em;\">\n",
              "    Monday\n",
              "    <span style=\"font-size: 0.8em; font-weight: bold; line-height: 1; border-radius: 0.35em; vertical-align: middle; margin-left: 0.5rem\">DATE</span>\n",
              "</mark>\n",
              ", i.e., \n",
              "<mark class=\"entity\" style=\"background: #bfeeb7; padding: 0.45em 0.6em; margin: 0 0.25em; line-height: 1; border-radius: 0.35em;\">\n",
              "    Rs 46.3\n",
              "    <span style=\"font-size: 0.8em; font-weight: bold; line-height: 1; border-radius: 0.35em; vertical-align: middle; margin-left: 0.5rem\">PRODUCT</span>\n",
              "</mark>\n",
              " crore, according to \n",
              "<mark class=\"entity\" style=\"background: #7aecec; padding: 0.45em 0.6em; margin: 0 0.25em; line-height: 1; border-radius: 0.35em;\">\n",
              "    Sacknilk\n",
              "    <span style=\"font-size: 0.8em; font-weight: bold; line-height: 1; border-radius: 0.35em; vertical-align: middle; margin-left: 0.5rem\">ORG</span>\n",
              "</mark>\n",
              " data. TRENDING NOW  \n",
              "<mark class=\"entity\" style=\"background: #7aecec; padding: 0.45em 0.6em; margin: 0 0.25em; line-height: 1; border-radius: 0.35em;\">\n",
              "    Axis Bank\n",
              "    <span style=\"font-size: 0.8em; font-weight: bold; line-height: 1; border-radius: 0.35em; vertical-align: middle; margin-left: 0.5rem\">ORG</span>\n",
              "</mark>\n",
              " stock plunges after \n",
              "<mark class=\"entity\" style=\"background: #bfeeb7; padding: 0.45em 0.6em; margin: 0 0.25em; line-height: 1; border-radius: 0.35em;\">\n",
              "    Q3\n",
              "    <span style=\"font-size: 0.8em; font-weight: bold; line-height: 1; border-radius: 0.35em; vertical-align: middle; margin-left: 0.5rem\">PRODUCT</span>\n",
              "</mark>\n",
              " results, top \n",
              "<mark class=\"entity\" style=\"background: #7aecec; padding: 0.45em 0.6em; margin: 0 0.25em; line-height: 1; border-radius: 0.35em;\">\n",
              "    Nifty50\n",
              "    <span style=\"font-size: 0.8em; font-weight: bold; line-height: 1; border-radius: 0.35em; vertical-align: middle; margin-left: 0.5rem\">ORG</span>\n",
              "</mark>\n",
              " loser; should investors be worried?  Share Market Today LIVE: Nifty above \n",
              "<mark class=\"entity\" style=\"background: #e4e7d2; padding: 0.45em 0.6em; margin: 0 0.25em; line-height: 1; border-radius: 0.35em;\">\n",
              "    21,200\n",
              "    <span style=\"font-size: 0.8em; font-weight: bold; line-height: 1; border-radius: 0.35em; vertical-align: middle; margin-left: 0.5rem\">CARDINAL</span>\n",
              "</mark>\n",
              ", Sensex down \n",
              "<mark class=\"entity\" style=\"background: #e4e7d2; padding: 0.45em 0.6em; margin: 0 0.25em; line-height: 1; border-radius: 0.35em;\">\n",
              "    nearly 150\n",
              "    <span style=\"font-size: 0.8em; font-weight: bold; line-height: 1; border-radius: 0.35em; vertical-align: middle; margin-left: 0.5rem\">CARDINAL</span>\n",
              "</mark>\n",
              " pts; \n",
              "<mark class=\"entity\" style=\"background: #7aecec; padding: 0.45em 0.6em; margin: 0 0.25em; line-height: 1; border-radius: 0.35em;\">\n",
              "    Axis Bank\n",
              "    <span style=\"font-size: 0.8em; font-weight: bold; line-height: 1; border-radius: 0.35em; vertical-align: middle; margin-left: 0.5rem\">ORG</span>\n",
              "</mark>\n",
              " drops \n",
              "<mark class=\"entity\" style=\"background: #e4e7d2; padding: 0.45em 0.6em; margin: 0 0.25em; line-height: 1; border-radius: 0.35em;\">\n",
              "    4%\n",
              "    <span style=\"font-size: 0.8em; font-weight: bold; line-height: 1; border-radius: 0.35em; vertical-align: middle; margin-left: 0.5rem\">PERCENT</span>\n",
              "</mark>\n",
              "  Should you buy \n",
              "<mark class=\"entity\" style=\"background: #7aecec; padding: 0.45em 0.6em; margin: 0 0.25em; line-height: 1; border-radius: 0.35em;\">\n",
              "    Hero MotoCorp\n",
              "    <span style=\"font-size: 0.8em; font-weight: bold; line-height: 1; border-radius: 0.35em; vertical-align: middle; margin-left: 0.5rem\">ORG</span>\n",
              "</mark>\n",
              ", \n",
              "<mark class=\"entity\" style=\"background: #7aecec; padding: 0.45em 0.6em; margin: 0 0.25em; line-height: 1; border-radius: 0.35em;\">\n",
              "    REC\n",
              "    <span style=\"font-size: 0.8em; font-weight: bold; line-height: 1; border-radius: 0.35em; vertical-align: middle; margin-left: 0.5rem\">ORG</span>\n",
              "</mark>\n",
              ", \n",
              "<mark class=\"entity\" style=\"background: #7aecec; padding: 0.45em 0.6em; margin: 0 0.25em; line-height: 1; border-radius: 0.35em;\">\n",
              "    United Spirits\n",
              "    <span style=\"font-size: 0.8em; font-weight: bold; line-height: 1; border-radius: 0.35em; vertical-align: middle; margin-left: 0.5rem\">ORG</span>\n",
              "</mark>\n",
              ", \n",
              "<mark class=\"entity\" style=\"background: #7aecec; padding: 0.45em 0.6em; margin: 0 0.25em; line-height: 1; border-radius: 0.35em;\">\n",
              "    MGL\n",
              "    <span style=\"font-size: 0.8em; font-weight: bold; line-height: 1; border-radius: 0.35em; vertical-align: middle; margin-left: 0.5rem\">ORG</span>\n",
              "</mark>\n",
              " and other stocks \n",
              "<mark class=\"entity\" style=\"background: #bfe1d9; padding: 0.45em 0.6em; margin: 0 0.25em; line-height: 1; border-radius: 0.35em;\">\n",
              "    today\n",
              "    <span style=\"font-size: 0.8em; font-weight: bold; line-height: 1; border-radius: 0.35em; vertical-align: middle; margin-left: 0.5rem\">DATE</span>\n",
              "</mark>\n",
              "? Here's what brokerages suggest  Ram Mandir Ayodhya Darshan Timings: Devotees break through security lines amid heavy rush, police issues mobile phone-related instructions - Check puja, aarti timing  FIRST TRADE: Sensex slips over \n",
              "<mark class=\"entity\" style=\"background: #e4e7d2; padding: 0.45em 0.6em; margin: 0 0.25em; line-height: 1; border-radius: 0.35em;\">\n",
              "    350\n",
              "    <span style=\"font-size: 0.8em; font-weight: bold; line-height: 1; border-radius: 0.35em; vertical-align: middle; margin-left: 0.5rem\">CARDINAL</span>\n",
              "</mark>\n",
              " pts; \n",
              "<mark class=\"entity\" style=\"background: #7aecec; padding: 0.45em 0.6em; margin: 0 0.25em; line-height: 1; border-radius: 0.35em;\">\n",
              "    Nifty\n",
              "    <span style=\"font-size: 0.8em; font-weight: bold; line-height: 1; border-radius: 0.35em; vertical-align: middle; margin-left: 0.5rem\">ORG</span>\n",
              "</mark>\n",
              " below \n",
              "<mark class=\"entity\" style=\"background: #e4e7d2; padding: 0.45em 0.6em; margin: 0 0.25em; line-height: 1; border-radius: 0.35em;\">\n",
              "    21,150\n",
              "    <span style=\"font-size: 0.8em; font-weight: bold; line-height: 1; border-radius: 0.35em; vertical-align: middle; margin-left: 0.5rem\">CARDINAL</span>\n",
              "</mark>\n",
              "; \n",
              "<mark class=\"entity\" style=\"background: #7aecec; padding: 0.45em 0.6em; margin: 0 0.25em; line-height: 1; border-radius: 0.35em;\">\n",
              "    Axis Bank\n",
              "    <span style=\"font-size: 0.8em; font-weight: bold; line-height: 1; border-radius: 0.35em; vertical-align: middle; margin-left: 0.5rem\">ORG</span>\n",
              "</mark>\n",
              " plunges \n",
              "<mark class=\"entity\" style=\"background: #c887fb; padding: 0.45em 0.6em; margin: 0 0.25em; line-height: 1; border-radius: 0.35em;\">\n",
              "    post-Q3\n",
              "    <span style=\"font-size: 0.8em; font-weight: bold; line-height: 1; border-radius: 0.35em; vertical-align: middle; margin-left: 0.5rem\">NORP</span>\n",
              "</mark>\n",
              " results  \n",
              "<mark class=\"entity\" style=\"background: #7aecec; padding: 0.45em 0.6em; margin: 0 0.25em; line-height: 1; border-radius: 0.35em;\">\n",
              "    GG Engineering\n",
              "    <span style=\"font-size: 0.8em; font-weight: bold; line-height: 1; border-radius: 0.35em; vertical-align: middle; margin-left: 0.5rem\">ORG</span>\n",
              "</mark>\n",
              " approves conversion of \n",
              "<mark class=\"entity\" style=\"background: #e4e7d2; padding: 0.45em 0.6em; margin: 0 0.25em; line-height: 1; border-radius: 0.35em;\">\n",
              "    13.50\n",
              "    <span style=\"font-size: 0.8em; font-weight: bold; line-height: 1; border-radius: 0.35em; vertical-align: middle; margin-left: 0.5rem\">CARDINAL</span>\n",
              "</mark>\n",
              " crore warrants into equity shares   \n",
              "<mark class=\"entity\" style=\"background: #aa9cfc; padding: 0.45em 0.6em; margin: 0 0.25em; line-height: 1; border-radius: 0.35em;\">\n",
              "    Anil Singhvi\n",
              "    <span style=\"font-size: 0.8em; font-weight: bold; line-height: 1; border-radius: 0.35em; vertical-align: middle; margin-left: 0.5rem\">PERSON</span>\n",
              "</mark>\n",
              " strategy \n",
              "<mark class=\"entity\" style=\"background: #bfe1d9; padding: 0.45em 0.6em; margin: 0 0.25em; line-height: 1; border-radius: 0.35em;\">\n",
              "    January 24\n",
              "    <span style=\"font-size: 0.8em; font-weight: bold; line-height: 1; border-radius: 0.35em; vertical-align: middle; margin-left: 0.5rem\">DATE</span>\n",
              "</mark>\n",
              ": Important levels to track in \n",
              "<mark class=\"entity\" style=\"background: #feca74; padding: 0.45em 0.6em; margin: 0 0.25em; line-height: 1; border-radius: 0.35em;\">\n",
              "    Nifty50\n",
              "    <span style=\"font-size: 0.8em; font-weight: bold; line-height: 1; border-radius: 0.35em; vertical-align: middle; margin-left: 0.5rem\">GPE</span>\n",
              "</mark>\n",
              ", \n",
              "<mark class=\"entity\" style=\"background: #7aecec; padding: 0.45em 0.6em; margin: 0 0.25em; line-height: 1; border-radius: 0.35em;\">\n",
              "    Nifty Bank\n",
              "    <span style=\"font-size: 0.8em; font-weight: bold; line-height: 1; border-radius: 0.35em; vertical-align: middle; margin-left: 0.5rem\">ORG</span>\n",
              "</mark>\n",
              " \n",
              "<mark class=\"entity\" style=\"background: #bfe1d9; padding: 0.45em 0.6em; margin: 0 0.25em; line-height: 1; border-radius: 0.35em;\">\n",
              "    today\n",
              "    <span style=\"font-size: 0.8em; font-weight: bold; line-height: 1; border-radius: 0.35em; vertical-align: middle; margin-left: 0.5rem\">DATE</span>\n",
              "</mark>\n",
              "  Best \n",
              "<mark class=\"entity\" style=\"background: #7aecec; padding: 0.45em 0.6em; margin: 0 0.25em; line-height: 1; border-radius: 0.35em;\">\n",
              "    ELSS\n",
              "    <span style=\"font-size: 0.8em; font-weight: bold; line-height: 1; border-radius: 0.35em; vertical-align: middle; margin-left: 0.5rem\">ORG</span>\n",
              "</mark>\n",
              " vs \n",
              "<mark class=\"entity\" style=\"background: #7aecec; padding: 0.45em 0.6em; margin: 0 0.25em; line-height: 1; border-radius: 0.35em;\">\n",
              "    Best Small-cap\n",
              "    <span style=\"font-size: 0.8em; font-weight: bold; line-height: 1; border-radius: 0.35em; vertical-align: middle; margin-left: 0.5rem\">ORG</span>\n",
              "</mark>\n",
              ": Rs \n",
              "<mark class=\"entity\" style=\"background: #e4e7d2; padding: 0.45em 0.6em; margin: 0 0.25em; line-height: 1; border-radius: 0.35em;\">\n",
              "    10\n",
              "    <span style=\"font-size: 0.8em; font-weight: bold; line-height: 1; border-radius: 0.35em; vertical-align: middle; margin-left: 0.5rem\">CARDINAL</span>\n",
              "</mark>\n",
              " lakh investment in \n",
              "<mark class=\"entity\" style=\"background: #bfe1d9; padding: 0.45em 0.6em; margin: 0 0.25em; line-height: 1; border-radius: 0.35em;\">\n",
              "    3 years\n",
              "    <span style=\"font-size: 0.8em; font-weight: bold; line-height: 1; border-radius: 0.35em; vertical-align: middle; margin-left: 0.5rem\">DATE</span>\n",
              "</mark>\n",
              "; which fund would have given you better returns; know expert calculations  Traders' \n",
              "<mark class=\"entity\" style=\"background: #f0d0ff; padding: 0.45em 0.6em; margin: 0 0.25em; line-height: 1; border-radius: 0.35em;\">\n",
              "    Diary: Buy\n",
              "    <span style=\"font-size: 0.8em; font-weight: bold; line-height: 1; border-radius: 0.35em; vertical-align: middle; margin-left: 0.5rem\">WORK_OF_ART</span>\n",
              "</mark>\n",
              ", sell or hold strategy on \n",
              "<mark class=\"entity\" style=\"background: #7aecec; padding: 0.45em 0.6em; margin: 0 0.25em; line-height: 1; border-radius: 0.35em;\">\n",
              "    Axis Bank\n",
              "    <span style=\"font-size: 0.8em; font-weight: bold; line-height: 1; border-radius: 0.35em; vertical-align: middle; margin-left: 0.5rem\">ORG</span>\n",
              "</mark>\n",
              ", \n",
              "<mark class=\"entity\" style=\"background: #7aecec; padding: 0.45em 0.6em; margin: 0 0.25em; line-height: 1; border-radius: 0.35em;\">\n",
              "    Pidilite Industries\n",
              "    <span style=\"font-size: 0.8em; font-weight: bold; line-height: 1; border-radius: 0.35em; vertical-align: middle; margin-left: 0.5rem\">ORG</span>\n",
              "</mark>\n",
              ", \n",
              "<mark class=\"entity\" style=\"background: #7aecec; padding: 0.45em 0.6em; margin: 0 0.25em; line-height: 1; border-radius: 0.35em;\">\n",
              "    Havells India\n",
              "    <span style=\"font-size: 0.8em; font-weight: bold; line-height: 1; border-radius: 0.35em; vertical-align: middle; margin-left: 0.5rem\">ORG</span>\n",
              "</mark>\n",
              ", Cyient \n",
              "<mark class=\"entity\" style=\"background: #7aecec; padding: 0.45em 0.6em; margin: 0 0.25em; line-height: 1; border-radius: 0.35em;\">\n",
              "    DLM\n",
              "    <span style=\"font-size: 0.8em; font-weight: bold; line-height: 1; border-radius: 0.35em; vertical-align: middle; margin-left: 0.5rem\">ORG</span>\n",
              "</mark>\n",
              ", \n",
              "<mark class=\"entity\" style=\"background: #7aecec; padding: 0.45em 0.6em; margin: 0 0.25em; line-height: 1; border-radius: 0.35em;\">\n",
              "    ONGC\n",
              "    <span style=\"font-size: 0.8em; font-weight: bold; line-height: 1; border-radius: 0.35em; vertical-align: middle; margin-left: 0.5rem\">ORG</span>\n",
              "</mark>\n",
              ", \n",
              "<mark class=\"entity\" style=\"background: #e4e7d2; padding: 0.45em 0.6em; margin: 0 0.25em; line-height: 1; border-radius: 0.35em;\">\n",
              "    over a dozen\n",
              "    <span style=\"font-size: 0.8em; font-weight: bold; line-height: 1; border-radius: 0.35em; vertical-align: middle; margin-left: 0.5rem\">CARDINAL</span>\n",
              "</mark>\n",
              " other stocks \n",
              "<mark class=\"entity\" style=\"background: #bfe1d9; padding: 0.45em 0.6em; margin: 0 0.25em; line-height: 1; border-radius: 0.35em;\">\n",
              "    today\n",
              "    <span style=\"font-size: 0.8em; font-weight: bold; line-height: 1; border-radius: 0.35em; vertical-align: middle; margin-left: 0.5rem\">DATE</span>\n",
              "</mark>\n",
              "  \n",
              "<mark class=\"entity\" style=\"background: #7aecec; padding: 0.45em 0.6em; margin: 0 0.25em; line-height: 1; border-radius: 0.35em;\">\n",
              "    Tata Steel\n",
              "    <span style=\"font-size: 0.8em; font-weight: bold; line-height: 1; border-radius: 0.35em; vertical-align: middle; margin-left: 0.5rem\">ORG</span>\n",
              "</mark>\n",
              " \n",
              "<mark class=\"entity\" style=\"background: #aa9cfc; padding: 0.45em 0.6em; margin: 0 0.25em; line-height: 1; border-radius: 0.35em;\">\n",
              "    Q3 Results\n",
              "    <span style=\"font-size: 0.8em; font-weight: bold; line-height: 1; border-radius: 0.35em; vertical-align: middle; margin-left: 0.5rem\">PERSON</span>\n",
              "</mark>\n",
              " Preview: Net profit likely at Rs \n",
              "<mark class=\"entity\" style=\"background: #e4e7d2; padding: 0.45em 0.6em; margin: 0 0.25em; line-height: 1; border-radius: 0.35em;\">\n",
              "    630\n",
              "    <span style=\"font-size: 0.8em; font-weight: bold; line-height: 1; border-radius: 0.35em; vertical-align: middle; margin-left: 0.5rem\">CARDINAL</span>\n",
              "</mark>\n",
              " crore, EBITDA may grow \n",
              "<mark class=\"entity\" style=\"background: #e4e7d2; padding: 0.45em 0.6em; margin: 0 0.25em; line-height: 1; border-radius: 0.35em;\">\n",
              "    25%\n",
              "    <span style=\"font-size: 0.8em; font-weight: bold; line-height: 1; border-radius: 0.35em; vertical-align: middle; margin-left: 0.5rem\">PERCENT</span>\n",
              "</mark>\n",
              "  \n",
              "<mark class=\"entity\" style=\"background: #ff8197; padding: 0.45em 0.6em; margin: 0 0.25em; line-height: 1; border-radius: 0.35em;\">\n",
              "    OnePlus 12 Series\n",
              "    <span style=\"font-size: 0.8em; font-weight: bold; line-height: 1; border-radius: 0.35em; vertical-align: middle; margin-left: 0.5rem\">LAW</span>\n",
              "</mark>\n",
              ": \n",
              "<mark class=\"entity\" style=\"background: #ff8197; padding: 0.45em 0.6em; margin: 0 0.25em; line-height: 1; border-radius: 0.35em;\">\n",
              "    OnePlus 12\n",
              "    <span style=\"font-size: 0.8em; font-weight: bold; line-height: 1; border-radius: 0.35em; vertical-align: middle; margin-left: 0.5rem\">LAW</span>\n",
              "</mark>\n",
              ", \n",
              "<mark class=\"entity\" style=\"background: #7aecec; padding: 0.45em 0.6em; margin: 0 0.25em; line-height: 1; border-radius: 0.35em;\">\n",
              "    OnePlus 12R\n",
              "    <span style=\"font-size: 0.8em; font-weight: bold; line-height: 1; border-radius: 0.35em; vertical-align: middle; margin-left: 0.5rem\">ORG</span>\n",
              "</mark>\n",
              " unveiled - Check price and features   \n",
              "<mark class=\"entity\" style=\"background: #7aecec; padding: 0.45em 0.6em; margin: 0 0.25em; line-height: 1; border-radius: 0.35em;\">\n",
              "    CG Power and Industrial Solutions Q3\n",
              "    <span style=\"font-size: 0.8em; font-weight: bold; line-height: 1; border-radius: 0.35em; vertical-align: middle; margin-left: 0.5rem\">ORG</span>\n",
              "</mark>\n",
              " result: Net profit falls \n",
              "<mark class=\"entity\" style=\"background: #e4e7d2; padding: 0.45em 0.6em; margin: 0 0.25em; line-height: 1; border-radius: 0.35em;\">\n",
              "    15%\n",
              "    <span style=\"font-size: 0.8em; font-weight: bold; line-height: 1; border-radius: 0.35em; vertical-align: middle; margin-left: 0.5rem\">PERCENT</span>\n",
              "</mark>\n",
              " to \n",
              "<mark class=\"entity\" style=\"background: #bfeeb7; padding: 0.45em 0.6em; margin: 0 0.25em; line-height: 1; border-radius: 0.35em;\">\n",
              "    Rs 197\n",
              "    <span style=\"font-size: 0.8em; font-weight: bold; line-height: 1; border-radius: 0.35em; vertical-align: middle; margin-left: 0.5rem\">PRODUCT</span>\n",
              "</mark>\n",
              " crore  Gold and Silver rate \n",
              "<mark class=\"entity\" style=\"background: #bfe1d9; padding: 0.45em 0.6em; margin: 0 0.25em; line-height: 1; border-radius: 0.35em;\">\n",
              "    today\n",
              "    <span style=\"font-size: 0.8em; font-weight: bold; line-height: 1; border-radius: 0.35em; vertical-align: middle; margin-left: 0.5rem\">DATE</span>\n",
              "</mark>\n",
              " (\n",
              "<mark class=\"entity\" style=\"background: #bfe1d9; padding: 0.45em 0.6em; margin: 0 0.25em; line-height: 1; border-radius: 0.35em;\">\n",
              "    January 24, 2024\n",
              "    <span style=\"font-size: 0.8em; font-weight: bold; line-height: 1; border-radius: 0.35em; vertical-align: middle; margin-left: 0.5rem\">DATE</span>\n",
              "</mark>\n",
              "): Precious metals subdued; yellow metal near \n",
              "<mark class=\"entity\" style=\"background: #bfeeb7; padding: 0.45em 0.6em; margin: 0 0.25em; line-height: 1; border-radius: 0.35em;\">\n",
              "    Rs 62,000\n",
              "    <span style=\"font-size: 0.8em; font-weight: bold; line-height: 1; border-radius: 0.35em; vertical-align: middle; margin-left: 0.5rem\">PRODUCT</span>\n",
              "</mark>\n",
              "; white metal above \n",
              "<mark class=\"entity\" style=\"background: #bfeeb7; padding: 0.45em 0.6em; margin: 0 0.25em; line-height: 1; border-radius: 0.35em;\">\n",
              "    Rs 71,000\n",
              "    <span style=\"font-size: 0.8em; font-weight: bold; line-height: 1; border-radius: 0.35em; vertical-align: middle; margin-left: 0.5rem\">PRODUCT</span>\n",
              "</mark>\n",
              "  Mutual fund guide: Can I withdraw funds anytime? Here are important factors to consider  \n",
              "<mark class=\"entity\" style=\"background: #c887fb; padding: 0.45em 0.6em; margin: 0 0.25em; line-height: 1; border-radius: 0.35em;\">\n",
              "    Asian\n",
              "    <span style=\"font-size: 0.8em; font-weight: bold; line-height: 1; border-radius: 0.35em; vertical-align: middle; margin-left: 0.5rem\">NORP</span>\n",
              "</mark>\n",
              " stocks | Stocks gain as potential \n",
              "<mark class=\"entity\" style=\"background: #feca74; padding: 0.45em 0.6em; margin: 0 0.25em; line-height: 1; border-radius: 0.35em;\">\n",
              "    China\n",
              "    <span style=\"font-size: 0.8em; font-weight: bold; line-height: 1; border-radius: 0.35em; vertical-align: middle; margin-left: 0.5rem\">GPE</span>\n",
              "</mark>\n",
              " rescue package lifts mood  'Salaar Part \n",
              "<mark class=\"entity\" style=\"background: #e4e7d2; padding: 0.45em 0.6em; margin: 0 0.25em; line-height: 1; border-radius: 0.35em;\">\n",
              "    1\n",
              "    <span style=\"font-size: 0.8em; font-weight: bold; line-height: 1; border-radius: 0.35em; vertical-align: middle; margin-left: 0.5rem\">CARDINAL</span>\n",
              "</mark>\n",
              ": Ceasefire' Box Office Collection Day 1 According to industry tracker \n",
              "<mark class=\"entity\" style=\"background: #7aecec; padding: 0.45em 0.6em; margin: 0 0.25em; line-height: 1; border-radius: 0.35em;\">\n",
              "    Sacnilk\n",
              "    <span style=\"font-size: 0.8em; font-weight: bold; line-height: 1; border-radius: 0.35em; vertical-align: middle; margin-left: 0.5rem\">ORG</span>\n",
              "</mark>\n",
              ", the movie earned \n",
              "<mark class=\"entity\" style=\"background: #ff8197; padding: 0.45em 0.6em; margin: 0 0.25em; line-height: 1; border-radius: 0.35em;\">\n",
              "    Rs 90.7\n",
              "    <span style=\"font-size: 0.8em; font-weight: bold; line-height: 1; border-radius: 0.35em; vertical-align: middle; margin-left: 0.5rem\">LAW</span>\n",
              "</mark>\n",
              " crore on \n",
              "<mark class=\"entity\" style=\"background: #bfe1d9; padding: 0.45em 0.6em; margin: 0 0.25em; line-height: 1; border-radius: 0.35em;\">\n",
              "    the opening day\n",
              "    <span style=\"font-size: 0.8em; font-weight: bold; line-height: 1; border-radius: 0.35em; vertical-align: middle; margin-left: 0.5rem\">DATE</span>\n",
              "</mark>\n",
              " in the domestic box office. Salaar: Part-1 \n",
              "<mark class=\"entity\" style=\"background: #aa9cfc; padding: 0.45em 0.6em; margin: 0 0.25em; line-height: 1; border-radius: 0.35em;\">\n",
              "    Ceasefire - Trailer\n",
              "    <span style=\"font-size: 0.8em; font-weight: bold; line-height: 1; border-radius: 0.35em; vertical-align: middle; margin-left: 0.5rem\">PERSON</span>\n",
              "</mark>\n",
              "  \n",
              "<mark class=\"entity\" style=\"background: #7aecec; padding: 0.45em 0.6em; margin: 0 0.25em; line-height: 1; border-radius: 0.35em;\">\n",
              "    Salaar\n",
              "    <span style=\"font-size: 0.8em; font-weight: bold; line-height: 1; border-radius: 0.35em; vertical-align: middle; margin-left: 0.5rem\">ORG</span>\n",
              "</mark>\n",
              " Part \n",
              "<mark class=\"entity\" style=\"background: #e4e7d2; padding: 0.45em 0.6em; margin: 0 0.25em; line-height: 1; border-radius: 0.35em;\">\n",
              "    1\n",
              "    <span style=\"font-size: 0.8em; font-weight: bold; line-height: 1; border-radius: 0.35em; vertical-align: middle; margin-left: 0.5rem\">CARDINAL</span>\n",
              "</mark>\n",
              ": Ceasefire: Day-Wise Collection So Far Day 1 [\n",
              "<mark class=\"entity\" style=\"background: #bfe1d9; padding: 0.45em 0.6em; margin: 0 0.25em; line-height: 1; border-radius: 0.35em;\">\n",
              "    1st Friday\n",
              "    <span style=\"font-size: 0.8em; font-weight: bold; line-height: 1; border-radius: 0.35em; vertical-align: middle; margin-left: 0.5rem\">DATE</span>\n",
              "</mark>\n",
              "] - Rs 90.7 crore Day 2 [1st Saturday] - Rs 56.35 crore Day 3 [1st Sunday] - Rs 62.05 crore Day 4 [\n",
              "<mark class=\"entity\" style=\"background: #bfe1d9; padding: 0.45em 0.6em; margin: 0 0.25em; line-height: 1; border-radius: 0.35em;\">\n",
              "    1st Monday\n",
              "    <span style=\"font-size: 0.8em; font-weight: bold; line-height: 1; border-radius: 0.35em; vertical-align: middle; margin-left: 0.5rem\">DATE</span>\n",
              "</mark>\n",
              "] - Rs 46.3 crore \n",
              "<mark class=\"entity\" style=\"background: #bfe1d9; padding: 0.45em 0.6em; margin: 0 0.25em; line-height: 1; border-radius: 0.35em;\">\n",
              "    Day 5\n",
              "    <span style=\"font-size: 0.8em; font-weight: bold; line-height: 1; border-radius: 0.35em; vertical-align: middle; margin-left: 0.5rem\">DATE</span>\n",
              "</mark>\n",
              " [\n",
              "<mark class=\"entity\" style=\"background: #e4e7d2; padding: 0.45em 0.6em; margin: 0 0.25em; line-height: 1; border-radius: 0.35em;\">\n",
              "    1st\n",
              "    <span style=\"font-size: 0.8em; font-weight: bold; line-height: 1; border-radius: 0.35em; vertical-align: middle; margin-left: 0.5rem\">ORDINAL</span>\n",
              "</mark>\n",
              " \n",
              "<mark class=\"entity\" style=\"background: #bfe1d9; padding: 0.45em 0.6em; margin: 0 0.25em; line-height: 1; border-radius: 0.35em;\">\n",
              "    Tuesday\n",
              "    <span style=\"font-size: 0.8em; font-weight: bold; line-height: 1; border-radius: 0.35em; vertical-align: middle; margin-left: 0.5rem\">DATE</span>\n",
              "</mark>\n",
              "] - Rs 7.5 crore (estimated so far) Total - Rs \n",
              "<mark class=\"entity\" style=\"background: #e4e7d2; padding: 0.45em 0.6em; margin: 0 0.25em; line-height: 1; border-radius: 0.35em;\">\n",
              "    262.9\n",
              "    <span style=\"font-size: 0.8em; font-weight: bold; line-height: 1; border-radius: 0.35em; vertical-align: middle; margin-left: 0.5rem\">CARDINAL</span>\n",
              "</mark>\n",
              " crore About 'Salaar Part \n",
              "<mark class=\"entity\" style=\"background: #e4e7d2; padding: 0.45em 0.6em; margin: 0 0.25em; line-height: 1; border-radius: 0.35em;\">\n",
              "    1\n",
              "    <span style=\"font-size: 0.8em; font-weight: bold; line-height: 1; border-radius: 0.35em; vertical-align: middle; margin-left: 0.5rem\">CARDINAL</span>\n",
              "</mark>\n",
              ": Ceasefire' The story of the movie revolves around a gang leader who tries to keep a promise made to his dying friend and takes on criminal gangs. Salaar: Part-1 Ceasefire - Cast Besides Prabhas, the film also stars \n",
              "<mark class=\"entity\" style=\"background: #feca74; padding: 0.45em 0.6em; margin: 0 0.25em; line-height: 1; border-radius: 0.35em;\">\n",
              "    Prithviraj Sukumaran\n",
              "    <span style=\"font-size: 0.8em; font-weight: bold; line-height: 1; border-radius: 0.35em; vertical-align: middle; margin-left: 0.5rem\">GPE</span>\n",
              "</mark>\n",
              " and \n",
              "<mark class=\"entity\" style=\"background: #aa9cfc; padding: 0.45em 0.6em; margin: 0 0.25em; line-height: 1; border-radius: 0.35em;\">\n",
              "    Shruti Haasan\n",
              "    <span style=\"font-size: 0.8em; font-weight: bold; line-height: 1; border-radius: 0.35em; vertical-align: middle; margin-left: 0.5rem\">PERSON</span>\n",
              "</mark>\n",
              " in prominent roles. The action-drama also features \n",
              "<mark class=\"entity\" style=\"background: #aa9cfc; padding: 0.45em 0.6em; margin: 0 0.25em; line-height: 1; border-radius: 0.35em;\">\n",
              "    Tinnu Anand\n",
              "    <span style=\"font-size: 0.8em; font-weight: bold; line-height: 1; border-radius: 0.35em; vertical-align: middle; margin-left: 0.5rem\">PERSON</span>\n",
              "</mark>\n",
              ", \n",
              "<mark class=\"entity\" style=\"background: #aa9cfc; padding: 0.45em 0.6em; margin: 0 0.25em; line-height: 1; border-radius: 0.35em;\">\n",
              "    Jagapathi Babu\n",
              "    <span style=\"font-size: 0.8em; font-weight: bold; line-height: 1; border-radius: 0.35em; vertical-align: middle; margin-left: 0.5rem\">PERSON</span>\n",
              "</mark>\n",
              ", \n",
              "<mark class=\"entity\" style=\"background: #aa9cfc; padding: 0.45em 0.6em; margin: 0 0.25em; line-height: 1; border-radius: 0.35em;\">\n",
              "    Madhu Guruswamy\n",
              "    <span style=\"font-size: 0.8em; font-weight: bold; line-height: 1; border-radius: 0.35em; vertical-align: middle; margin-left: 0.5rem\">PERSON</span>\n",
              "</mark>\n",
              ", and others.</div></span>"
            ]
          },
          "metadata": {}
        }
      ]
    },
    {
      "cell_type": "code",
      "source": [
        "per=set()\n",
        "\n",
        "for i in text.ents:\n",
        "  if i.label_=='PERSON':\n",
        "    per.add(i)"
      ],
      "metadata": {
        "id": "8Du5HFQe5VXe"
      },
      "execution_count": null,
      "outputs": []
    },
    {
      "cell_type": "code",
      "source": [
        "per"
      ],
      "metadata": {
        "colab": {
          "base_uri": "https://localhost:8080/"
        },
        "id": "xpuGTsWZ5pKH",
        "outputId": "ef7480cc-a508-44bb-b15b-316f2cbb03b8"
      },
      "execution_count": null,
      "outputs": [
        {
          "output_type": "execute_result",
          "data": {
            "text/plain": [
              "{Hombale Films,\n",
              " Neel,\n",
              " Prabhas,\n",
              " Shah Rukh Khan,\n",
              " Anil Singhvi,\n",
              " Q3 Results,\n",
              " Ceasefire - Trailer,\n",
              " Shruti Haasan,\n",
              " Tinnu Anand,\n",
              " Jagapathi Babu,\n",
              " Madhu Guruswamy}"
            ]
          },
          "metadata": {},
          "execution_count": 48
        }
      ]
    },
    {
      "cell_type": "code",
      "source": [],
      "metadata": {
        "id": "h5s5keW76EP-"
      },
      "execution_count": null,
      "outputs": []
    }
  ]
}