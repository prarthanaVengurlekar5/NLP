{
 "cells": [
  {
   "cell_type": "code",
   "execution_count": 1,
   "id": "076ff5c8",
   "metadata": {},
   "outputs": [
    {
     "name": "stderr",
     "output_type": "stream",
     "text": [
      "[nltk_data] Downloading package averaged_perceptron_tagger to\n",
      "[nltk_data]     C:\\Users\\Ashwin\n",
      "[nltk_data]     Vengurlekar\\AppData\\Roaming\\nltk_data...\n",
      "[nltk_data]   Package averaged_perceptron_tagger is already up-to-\n",
      "[nltk_data]       date!\n"
     ]
    }
   ],
   "source": [
    "import nltk\n",
    "nltk.download('averaged_perceptron_tagger')\n",
    "from nltk.tokenize import word_tokenize"
   ]
  },
  {
   "cell_type": "code",
   "execution_count": 2,
   "id": "77b9e3fe",
   "metadata": {},
   "outputs": [
    {
     "name": "stderr",
     "output_type": "stream",
     "text": [
      "[nltk_data] Downloading package punkt to C:\\Users\\Ashwin\n",
      "[nltk_data]     Vengurlekar\\AppData\\Roaming\\nltk_data...\n",
      "[nltk_data]   Package punkt is already up-to-date!\n"
     ]
    },
    {
     "data": {
      "text/plain": [
       "True"
      ]
     },
     "execution_count": 2,
     "metadata": {},
     "output_type": "execute_result"
    }
   ],
   "source": [
    "nltk.download('punkt')"
   ]
  },
  {
   "cell_type": "code",
   "execution_count": 3,
   "id": "a6313f24",
   "metadata": {},
   "outputs": [
    {
     "name": "stdout",
     "output_type": "stream",
     "text": [
      "['Tokenization', 'is', 'the', 'process', 'of', 'breaking', 'text', 'into', 'words', 'or', 'phrase']\n"
     ]
    }
   ],
   "source": [
    "def tokenize_text(text):\n",
    "    return word_tokenize(text)\n",
    "\n",
    "input_text = \"Tokenization is the process of breaking text into words or phrase\"\n",
    "\n",
    "tokens = tokenize_text(input_text)\n",
    "print(tokens)"
   ]
  },
  {
   "cell_type": "code",
   "execution_count": 4,
   "id": "82eaf4af",
   "metadata": {},
   "outputs": [
    {
     "name": "stdout",
     "output_type": "stream",
     "text": [
      "['Tokenization', 'is', 'the', 'process', 'of', 'breaking', 'text', 'into', 'words', 'or', 'phrase']\n"
     ]
    }
   ],
   "source": [
    "def remove_non_alphabets(tokens):\n",
    "    return [token for token in tokens if token.isalpha()]\n",
    "\n",
    "alphabetic_tokens = remove_non_alphabets(tokens)\n",
    "print(alphabetic_tokens)"
   ]
  },
  {
   "cell_type": "code",
   "execution_count": 5,
   "id": "56b2d701",
   "metadata": {},
   "outputs": [
    {
     "name": "stderr",
     "output_type": "stream",
     "text": [
      "[nltk_data] Downloading package stopwords to C:\\Users\\Ashwin\n",
      "[nltk_data]     Vengurlekar\\AppData\\Roaming\\nltk_data...\n",
      "[nltk_data]   Package stopwords is already up-to-date!\n"
     ]
    },
    {
     "data": {
      "text/plain": [
       "True"
      ]
     },
     "execution_count": 5,
     "metadata": {},
     "output_type": "execute_result"
    }
   ],
   "source": [
    "nltk.download('stopwords')"
   ]
  },
  {
   "cell_type": "code",
   "execution_count": 6,
   "id": "1fc08840",
   "metadata": {},
   "outputs": [
    {
     "name": "stdout",
     "output_type": "stream",
     "text": [
      "['Tokenization', 'process', 'breaking', 'text', 'words', 'phrase']\n"
     ]
    }
   ],
   "source": [
    "#We remove unused words i.e is, the with help of stopwords\n",
    "from nltk.corpus import stopwords\n",
    "\n",
    "def remove_stopwords(tokens):\n",
    "    stop_words = set(stopwords.words('english'))\n",
    "    return[token for token in tokens if token.lower() not in stop_words]\n",
    "\n",
    "filtered_tokens = remove_stopwords(alphabetic_tokens)\n",
    "print(filtered_tokens)"
   ]
  },
  {
   "cell_type": "code",
   "execution_count": 7,
   "id": "7b82b3da",
   "metadata": {},
   "outputs": [],
   "source": [
    "from nltk.stem import PorterStemmer\n",
    "ps = PorterStemmer()"
   ]
  },
  {
   "cell_type": "code",
   "execution_count": 8,
   "id": "908ad1d4",
   "metadata": {},
   "outputs": [
    {
     "name": "stdout",
     "output_type": "stream",
     "text": [
      "Tokenization  : token\n",
      "process  : process\n",
      "breaking  : break\n",
      "text  : text\n",
      "words  : word\n",
      "phrase  : phrase\n"
     ]
    }
   ],
   "source": [
    "for i in filtered_tokens:\n",
    "    print(i,\" :\", ps.stem(i))"
   ]
  },
  {
   "cell_type": "code",
   "execution_count": 9,
   "id": "d6b0eaa7",
   "metadata": {},
   "outputs": [
    {
     "name": "stdout",
     "output_type": "stream",
     "text": [
      "['token', 'process', 'break', 'text', 'word', 'phrase']\n"
     ]
    }
   ],
   "source": [
    "#method 1--- defining function for stemming\n",
    "\n",
    "from nltk.stem import PorterStemmer \n",
    "\n",
    "def perform_stemming(tokens):\n",
    "    stemmer = PorterStemmer()\n",
    "    return [stemmer.stem(token) for token in tokens]\n",
    "\n",
    "stemmed_tokens = perform_stemming(filtered_tokens)\n",
    "print(stemmed_tokens)"
   ]
  },
  {
   "cell_type": "code",
   "execution_count": 10,
   "id": "47e289ca",
   "metadata": {},
   "outputs": [],
   "source": [
    "pos = nltk.pos_tag(filtered_tokens)"
   ]
  },
  {
   "cell_type": "code",
   "execution_count": 11,
   "id": "9eefb111",
   "metadata": {
    "scrolled": true
   },
   "outputs": [
    {
     "name": "stdout",
     "output_type": "stream",
     "text": [
      "POS [('Tokenization', 'NN'), ('process', 'NN'), ('breaking', 'VBG'), ('text', 'NN'), ('words', 'NNS'), ('phrase', 'NN')]\n"
     ]
    }
   ],
   "source": [
    "print('POS', pos)"
   ]
  },
  {
   "cell_type": "code",
   "execution_count": 12,
   "id": "8e73906f",
   "metadata": {},
   "outputs": [
    {
     "name": "stdout",
     "output_type": "stream",
     "text": [
      "[('Tokenization', 'NN'), ('process', 'NN'), ('breaking', 'VBG'), ('text', 'NN'), ('words', 'NNS'), ('phrase', 'NN')]\n"
     ]
    }
   ],
   "source": [
    "#Calling funtion for pos\n",
    "\n",
    "from nltk import pos_tag\n",
    "\n",
    "def perform_pos_tagging(tokens):\n",
    "    return pos_tag(tokens)\n",
    "\n",
    "pos_tags = perform_pos_tagging(filtered_tokens)\n",
    "print(pos_tags)"
   ]
  },
  {
   "cell_type": "code",
   "execution_count": 13,
   "id": "070de1f9",
   "metadata": {},
   "outputs": [
    {
     "name": "stderr",
     "output_type": "stream",
     "text": [
      "[nltk_data] Downloading package maxent_ne_chunker to C:\\Users\\Ashwin\n",
      "[nltk_data]     Vengurlekar\\AppData\\Roaming\\nltk_data...\n",
      "[nltk_data]   Package maxent_ne_chunker is already up-to-date!\n",
      "[nltk_data] Downloading package words to C:\\Users\\Ashwin\n",
      "[nltk_data]     Vengurlekar\\AppData\\Roaming\\nltk_data...\n",
      "[nltk_data]   Package words is already up-to-date!\n"
     ]
    },
    {
     "name": "stdout",
     "output_type": "stream",
     "text": [
      "(S\n",
      "  (GPE Tokenization/NN)\n",
      "  is/VBZ\n",
      "  the/DT\n",
      "  process/NN\n",
      "  of/IN\n",
      "  breaking/VBG\n",
      "  text/NN\n",
      "  into/IN\n",
      "  words/NNS\n",
      "  or/CC\n",
      "  phrase/NN)\n"
     ]
    }
   ],
   "source": [
    "from nltk import pos_tag\n",
    "from nltk import ne_chunk\n",
    "\n",
    "nltk.download('maxent_ne_chunker')\n",
    "nltk.download('words')\n",
    "\n",
    "def perform_named_entity_recognition(text):\n",
    "    tokens = word_tokenize(text)\n",
    "    pos_tags = pos_tag(tokens)\n",
    "    named_entities = ne_chunk(pos_tags)\n",
    "    return named_entities\n",
    "\n",
    "named_entities = perform_named_entity_recognition(input_text)\n",
    "print(named_entities)"
   ]
  },
  {
   "cell_type": "code",
   "execution_count": 14,
   "id": "a722159c",
   "metadata": {},
   "outputs": [
    {
     "name": "stdout",
     "output_type": "stream",
     "text": [
      "[[1 1 0 0 1]\n",
      " [2 1 1 1 1]]\n",
      "['document' 'is' 'second' 'the' 'this']\n"
     ]
    }
   ],
   "source": [
    "from sklearn.feature_extraction.text import CountVectorizer\n",
    "\n",
    "def create_bag_of_words(texts):\n",
    "    vectorizer = CountVectorizer()\n",
    "    bag_of_words = vectorizer.fit_transform(texts)\n",
    "    return bag_of_words,vectorizer.get_feature_names_out()\n",
    "\n",
    "texts = [\"This is a document.\",\"This document is the second document.\"]\n",
    "bag_of_words,feature_names = create_bag_of_words(texts)\n",
    "print(bag_of_words.toarray())\n",
    "print(feature_names)"
   ]
  },
  {
   "cell_type": "code",
   "execution_count": 15,
   "id": "47c54fd6",
   "metadata": {
    "scrolled": true
   },
   "outputs": [
    {
     "name": "stdout",
     "output_type": "stream",
     "text": [
      "('Tokenization', 'NN') ('process', 'NN') ('breaking', 'VBG') ('text', 'NN') ('words', 'NNS') ('phrase', 'NN')\n"
     ]
    }
   ],
   "source": [
    "def chunk_noun_phrases (text):\n",
    "    grammar = r\"\"\"\n",
    "       NP: {<DT>?<JJ>*<NN>} # NP (noun phrase)\n",
    "       \"\"\"\n",
    "    chunk_parser = nltk. RegexpParser(grammar)\n",
    "    tree = chunk_parser.parse(pos_tags)\n",
    "    flat_tree = ' '.join([str(chunk) for chunk in tree.flatten()])\n",
    "    return flat_tree\n",
    "\n",
    "result_tree = chunk_noun_phrases(len(input_text))\n",
    "print(result_tree)"
   ]
  },
  {
   "cell_type": "code",
   "execution_count": 25,
   "id": "956c5416",
   "metadata": {},
   "outputs": [
    {
     "name": "stdout",
     "output_type": "stream",
     "text": [
      "Defaulting to user installation because normal site-packages is not writeable\n",
      "Collecting wordcloud\n",
      "  Downloading wordcloud-1.9.3-cp310-cp310-win_amd64.whl.metadata (3.5 kB)\n",
      "Requirement already satisfied: numpy>=1.6.1 in c:\\python\\lib\\site-packages (from wordcloud) (1.23.5)\n",
      "Requirement already satisfied: pillow in c:\\python\\lib\\site-packages (from wordcloud) (9.4.0)\n",
      "Requirement already satisfied: matplotlib in c:\\python\\lib\\site-packages (from wordcloud) (3.7.0)\n",
      "Requirement already satisfied: contourpy>=1.0.1 in c:\\python\\lib\\site-packages (from matplotlib->wordcloud) (1.0.5)\n",
      "Requirement already satisfied: cycler>=0.10 in c:\\python\\lib\\site-packages (from matplotlib->wordcloud) (0.11.0)\n",
      "Requirement already satisfied: fonttools>=4.22.0 in c:\\python\\lib\\site-packages (from matplotlib->wordcloud) (4.25.0)\n",
      "Requirement already satisfied: kiwisolver>=1.0.1 in c:\\python\\lib\\site-packages (from matplotlib->wordcloud) (1.4.4)\n",
      "Requirement already satisfied: packaging>=20.0 in c:\\python\\lib\\site-packages (from matplotlib->wordcloud) (22.0)\n",
      "Requirement already satisfied: pyparsing>=2.3.1 in c:\\python\\lib\\site-packages (from matplotlib->wordcloud) (3.0.9)\n",
      "Requirement already satisfied: python-dateutil>=2.7 in c:\\python\\lib\\site-packages (from matplotlib->wordcloud) (2.8.2)\n",
      "Requirement already satisfied: six>=1.5 in c:\\python\\lib\\site-packages (from python-dateutil>=2.7->matplotlib->wordcloud) (1.16.0)\n",
      "Downloading wordcloud-1.9.3-cp310-cp310-win_amd64.whl (299 kB)\n",
      "   ---------------------------------------- 0.0/300.0 kB ? eta -:--:--\n",
      "   ------------ --------------------------- 92.2/300.0 kB 2.6 MB/s eta 0:00:01\n",
      "   ---------------------------------- ----- 256.0/300.0 kB 3.2 MB/s eta 0:00:01\n",
      "   ---------------------------------------- 300.0/300.0 kB 2.7 MB/s eta 0:00:00\n",
      "Installing collected packages: wordcloud\n",
      "Successfully installed wordcloud-1.9.3\n"
     ]
    },
    {
     "name": "stderr",
     "output_type": "stream",
     "text": [
      "  WARNING: The script wordcloud_cli.exe is installed in 'C:\\Users\\Ashwin Vengurlekar\\AppData\\Roaming\\Python\\Python310\\Scripts' which is not on PATH.\n",
      "  Consider adding this directory to PATH or, if you prefer to suppress this warning, use --no-warn-script-location.\n"
     ]
    }
   ],
   "source": [
    "! pip3 install wordcloud"
   ]
  },
  {
   "cell_type": "code",
   "execution_count": 27,
   "id": "8ab6120e",
   "metadata": {},
   "outputs": [
    {
     "data": {
      "image/png": "[encoded data removed]",
      "text/plain": [
       "<Figure size 800x800 with 1 Axes>"
      ]
     },
     "metadata": {},
     "output_type": "display_data"
    }
   ],
   "source": [
    "import matplotlib.pyplot as plt\n",
    "from wordcloud import WordCloud\n",
    "\n",
    "input_text1 = \"I am a girl. I live in Thane. My name is Prarthana.\"\n",
    "def visualize_text(text):\n",
    "    wordcloud = WordCloud(width=800, height=800,\n",
    "                         background_color='white',\n",
    "                         stopwords=set(stopwords.words('english')),\n",
    "                         min_font_size=10).generate(text)\n",
    "    \n",
    "    plt.figure(figsize=(8,8),facecolor=None)\n",
    "    plt.imshow(wordcloud)\n",
    "    plt.axis(\"off\")\n",
    "    plt.tight_layout(pad=0)\n",
    "    \n",
    "    plt.show()\n",
    "    \n",
    "visualize_text(input_text1)"
   ]
  },
  {
   "cell_type": "code",
   "execution_count": null,
   "id": "0f339351",
   "metadata": {},
   "outputs": [],
   "source": []
  }
 ],
 "metadata": {
  "kernelspec": {
   "display_name": "Python 3 (ipykernel)",
   "language": "python",
   "name": "python3"
  },
  "language_info": {
   "codemirror_mode": {
    "name": "ipython",
    "version": 3
   },
   "file_extension": ".py",
   "mimetype": "text/x-python",
   "name": "python",
   "nbconvert_exporter": "python",
   "pygments_lexer": "ipython3",
   "version": "3.10.9"
  }
 },
 "nbformat": 4,
 "nbformat_minor": 5
}
